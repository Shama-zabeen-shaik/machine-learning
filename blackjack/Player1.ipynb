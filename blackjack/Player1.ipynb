{
 "cells": [
  {
   "cell_type": "code",
   "execution_count": 15,
   "metadata": {},
   "outputs": [
    {
     "name": "stdout",
     "output_type": "stream",
     "text": [
      "You are player : 1962\n",
      "Waiting for other players to join\n",
      "Starting the game..\n",
      "{\"Player 1 \":\"1962\",\"Player 2 \":\"9876\",\"Player 3 \":\"7896\",\"Player 4 \":\"2536\"}\n",
      "17.0\n",
      "Getting Observations...\n",
      "b'{\"total\":17,\"dealerHand\":5,\"usable\":false,\"opponent1 total\":17,\"opponent1 useable\":true,\"opponent2 total\":15,\"opponent2 useable\":false,\"opponent3 total\":12,\"opponent3 useable\":false}'\n",
      "22.0\n",
      "Getting Observations...\n",
      "b'{\"total\":22,\"dealerHand\":5,\"usable\":false,\"opponent1 total\":20,\"opponent1 useable\":true,\"opponent2 total\":20,\"opponent2 useable\":false,\"opponent3 total\":16,\"opponent3 useable\":false}'\n",
      "You have decided to stand, Now please wait for other players to finish\n",
      "Game Over. Results : \n",
      "{\"Player1 id \":\"1962\",\"Player1 total \":22,\"Player2 id \":\"9876\",\"Player2 total \":20,\"Player3 id \":\"7896\",\"Player3 total \":20,\"Player4 id \":\"2536\",\"Player4 total \":26,\"Dealer\":17}\n"
     ]
    }
   ],
   "source": [
    "import requests,json\n",
    "import time\n",
    "niner_number = 1962 #ENTER last four digits of you 800/801 number\n",
    "def action(action):\n",
    "    req = requests.get(\"https://agile-escarpment-74842.herokuapp.com/\"+str(action)+\"/\"+str(niner_number))\n",
    "    return req.content\n",
    "def startgame():\n",
    "    req = requests.get(\"https://agile-escarpment-74842.herokuapp.com/startGame/\"+str(niner_number))\n",
    "#     print(req.content)\n",
    "    return req.content\n",
    "a=startgame().decode(\"utf-8\")\n",
    "print (a)\n",
    "print (\"Waiting for other players to join\")\n",
    "\n",
    "a=float(action(\"check\").decode(\"utf-8\"))\n",
    "while(a<4):\n",
    "    time.sleep(3)\n",
    "    a=float(action(\"check\").decode(\"utf-8\"))\n",
    "print(\"Starting the game..\")\n",
    "print(action(\"getplayers\").decode(\"utf-8\"))\n",
    "while(True):\n",
    "    hitcount=float(action(\"hit\").decode(\"utf-8\"))\n",
    "    print(hitcount)\n",
    "    obsv=float(action(\"checkhits\").decode(\"utf-8\"))\n",
    "    while(obsv!=4):\n",
    "        obsv=float(action(\"checkhits\").decode(\"utf-8\"))\n",
    "    print(\"Getting Observations...\")\n",
    "    reply=action(\"getobsv\")\n",
    "    print(reply)\n",
    "    rep=json.loads(reply.decode())\n",
    "    total=rep['total']\n",
    "    dealerhand=rep['dealerHand']\n",
    "    useable=rep['usable']\n",
    "    op1=rep['opponent1 total']\n",
    "    op1u=rep['opponent1 useable']\n",
    "    op2=rep['opponent2 total']\n",
    "    op2u=rep['opponent2 useable']\n",
    "    op3=rep['opponent3 total']\n",
    "    op3u=rep['opponent3 useable']\n",
    "    ########################################\n",
    "    #ONLY MAKES CHANGES HERE\n",
    "    #### I have made use of total>17 condition to decide to break out of HIT loop\n",
    "    ## you however have to make use of decisions from Qtable after using the above observation\n",
    "    ### send the above observations (total,dealerhand,useable,op1,op1u,op2,op2u,op3,op3u) to your agent\n",
    "    ## and depending on response decide to hit or break(stand). eg if decision==1: break;\n",
    "    if total>17:\n",
    "        break;\n",
    "    ######################################\n",
    "print(action(\"stand\").decode(\"utf-8\"))\n",
    "stander=float(action(\"checkstand\").decode(\"utf-8\"))\n",
    "while(stander!=1):\n",
    "        stander=float(action(\"checkstand\").decode(\"utf-8\"))\n",
    "print(\"Game Over. Results : \")\n",
    "print(action(\"getresult\").decode(\"utf-8\"))"
   ]
  },
  {
   "cell_type": "code",
   "execution_count": 16,
   "metadata": {},
   "outputs": [
    {
     "name": "stdout",
     "output_type": "stream",
     "text": [
      "done\n"
     ]
    }
   ],
   "source": [
    "print(action(\"reset\").decode(\"utf-8\"))"
   ]
  },
  {
   "cell_type": "code",
   "execution_count": null,
   "metadata": {
    "collapsed": true
   },
   "outputs": [],
   "source": []
  }
 ],
 "metadata": {
  "kernelspec": {
   "display_name": "Python 3",
   "language": "python",
   "name": "python3"
  },
  "language_info": {
   "codemirror_mode": {
    "name": "ipython",
    "version": 3
   },
   "file_extension": ".py",
   "mimetype": "text/x-python",
   "name": "python",
   "nbconvert_exporter": "python",
   "pygments_lexer": "ipython3",
   "version": "3.6.3"
  }
 },
 "nbformat": 4,
 "nbformat_minor": 2
}
