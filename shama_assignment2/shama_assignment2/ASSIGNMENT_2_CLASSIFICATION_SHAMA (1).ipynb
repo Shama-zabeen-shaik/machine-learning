{
 "cells": [
  {
   "cell_type": "markdown",
   "metadata": {},
   "source": [
    "# Assignment #2 - Classification\n",
    "\n",
    "<font color=\"red\"> <b> Due: Feb 26 (Monday) 11:00 pm </b> </font>"
   ]
  },
  {
   "cell_type": "markdown",
   "metadata": {},
   "source": [
    "## <font color=\"blue\"> **Shama Zabeen Shaik** </font>"
   ]
  },
  {
   "cell_type": "markdown",
   "metadata": {},
   "source": [
    "# I. Introduction\n",
    "\n",
    "Describe the objective of this assignment. You can briefly state how you accompilsh it.\n",
    "The obective of this assignment is to perform classification on the selected dataset(training and testing) and apply the following algorithms:\n",
    "1. ** Pocket Perceptron Algorithm **\n",
    "2. ** Quadratic Discriminant Analysis **\n",
    "3. ** Linear Discriminant Analysis **\n",
    "4. ** Logistic Regression **\n",
    "\n",
    "The above algorithms are implemented to the dataset containing the records from direct marketing campaigns of a Porteguese Banking Institution. The dataset is divided into train and test data and the experiments are performed on both the train and the test data and then the results are compared.\n"
   ]
  },
  {
   "cell_type": "markdown",
   "metadata": {},
   "source": [
    "## <font color='#04B4AE'>II. INTRODUCTION OF DATA FOR CLASSIFICATION</font>\n"
   ]
  },
  {
   "cell_type": "markdown",
   "metadata": {},
   "source": [
    "**SOURCE OF DATA :** \n",
    "\n",
    "https://archive.ics.uci.edu/ml/datasets/Bank+Marketing"
   ]
  },
  {
   "cell_type": "markdown",
   "metadata": {},
   "source": [
    "**Data Set Description:**\n",
    "\n",
    "The data set considered is from the direct marketing campaigns of a Porteguese Banking Institution. The campaigns were mostly phone call based, with more than one contact requirement to the client in order to access if the subscription was made or not.\n",
    "The data set is a CSV file with 17 inputs, ordered by date.\n",
    "\n",
    "The classification Goal is to predict if the client would subscribe (yes/no) a term deposit (variable y).\n",
    "\n",
    "**The Data set has the following attributes**\n",
    "\n",
    "**Input variables:**\n",
    "\n",
    "***Bank Client Data:***\n",
    "\n",
    "1 - age (numeric)\n",
    "\n",
    "2 - job : type of job (categorical: 'admin.','blue-collar','entrepreneur','housemaid','management','retired','self-      employed','services','student','technician','unemployed','unknown')\n",
    "\n",
    "3 - marital : marital status (categorical: 'divorced','married','single','unknown'; note: 'divorced' means divorced or widowed)\n",
    "\n",
    "4 - education (categorical: 'basic.4y','basic.6y','basic.9y','high.school','illiterate','professional.course','university.degree','unknown')\n",
    "\n",
    "5 - default: has credit in default? (categorical: 'no','yes','unknown')\n",
    "\n",
    "6 - housing: has housing loan? (categorical: 'no','yes','unknown')\n",
    "\n",
    "7 - loan: has personal loan? (categorical: 'no','yes','unknown')\n",
    "     related with the last contact of the current campaign:\n",
    "     \n",
    "8 - contact: contact communication type (categorical: 'cellular','telephone')\n",
    "\n",
    "9 - month: last contact month of year (categorical: 'jan', 'feb', 'mar', ..., 'nov', 'dec')\n",
    "\n",
    "10 - day_of_week: last contact day of the week (categorical: 'mon','tue','wed','thu','fri')\n",
    "\n",
    "11 - duration: last contact duration, in seconds (numeric). Important note: this attribute highly affects the output target (e.g., if duration=0 then y='no').\n",
    "\n",
    "Yet, the duration is not known before a call is performed. Also, after the end of the call y is obviously known. Thus, this input should only be included for benchmark purposes and should be discarded if the intention is to have a realistic predictive model.\n",
    "\n",
    "**Other Attributes:**\n",
    "\n",
    "12 - campaign: number of contacts performed during this campaign and for this client (numeric, includes last contact)\n",
    "\n",
    "13 - pdays: number of days that passed by after the client was last contacted from a previous campaign (numeric; 999 means client was not previously contacted)\n",
    "\n",
    "14 - previous: number of contacts performed before this campaign and for this client (numeric)\n",
    "\n",
    "15 - poutcome: outcome of the previous marketing campaign (categorical: 'failure','nonexistent','success')\n",
    "\n",
    "**Social and Economic Context Attributes**\n",
    "\n",
    "16 - emp.var.rate: employment variation rate - quarterly indicator (numeric)\n",
    "\n",
    "17 - cons.price.idx: consumer price index - monthly indicator (numeric)\n",
    "\n",
    "18 - cons.conf.idx: consumer confidence index - monthly indicator (numeric)\n",
    "\n",
    "19 - euribor3m: euribor 3 month rate - daily indicator (numeric)\n",
    "\n",
    "20 - nr.employed: number of employees - quarterly indicator (numeric)\n",
    "\n",
    "**Output variable (desired target):**\n",
    "\n",
    "21 - deposit - has the client subscribed a term deposit? (binary: 'yes','no')"
   ]
  },
  {
   "cell_type": "code",
   "execution_count": 23,
   "metadata": {},
   "outputs": [
    {
     "ename": "FileNotFoundError",
     "evalue": "File b'bank.csv' does not exist",
     "output_type": "error",
     "traceback": [
      "\u001b[0;31m---------------------------------------------------------------------------\u001b[0m",
      "\u001b[0;31mFileNotFoundError\u001b[0m                         Traceback (most recent call last)",
      "\u001b[0;32m<ipython-input-23-6cf584018bbd>\u001b[0m in \u001b[0;36m<module>\u001b[0;34m()\u001b[0m\n\u001b[1;32m      5\u001b[0m \u001b[0mget_ipython\u001b[0m\u001b[0;34m(\u001b[0m\u001b[0;34m)\u001b[0m\u001b[0;34m.\u001b[0m\u001b[0mmagic\u001b[0m\u001b[0;34m(\u001b[0m\u001b[0;34m'matplotlib inline'\u001b[0m\u001b[0;34m)\u001b[0m\u001b[0;34m\u001b[0m\u001b[0m\n\u001b[1;32m      6\u001b[0m \u001b[0;34m\u001b[0m\u001b[0m\n\u001b[0;32m----> 7\u001b[0;31m \u001b[0mdata_set\u001b[0m \u001b[0;34m=\u001b[0m \u001b[0mpd\u001b[0m\u001b[0;34m.\u001b[0m\u001b[0mread_csv\u001b[0m\u001b[0;34m(\u001b[0m\u001b[0;34mr\"bank.csv\"\u001b[0m\u001b[0;34m)\u001b[0m\u001b[0;34m\u001b[0m\u001b[0m\n\u001b[0m\u001b[1;32m      8\u001b[0m \u001b[0mdata_set\u001b[0m\u001b[0;34m.\u001b[0m\u001b[0mhead\u001b[0m\u001b[0;34m(\u001b[0m\u001b[0;36m6\u001b[0m\u001b[0;34m)\u001b[0m\u001b[0;34m\u001b[0m\u001b[0m\n",
      "\u001b[0;32m~/anaconda3/lib/python3.6/site-packages/pandas/io/parsers.py\u001b[0m in \u001b[0;36mparser_f\u001b[0;34m(filepath_or_buffer, sep, delimiter, header, names, index_col, usecols, squeeze, prefix, mangle_dupe_cols, dtype, engine, converters, true_values, false_values, skipinitialspace, skiprows, nrows, na_values, keep_default_na, na_filter, verbose, skip_blank_lines, parse_dates, infer_datetime_format, keep_date_col, date_parser, dayfirst, iterator, chunksize, compression, thousands, decimal, lineterminator, quotechar, quoting, escapechar, comment, encoding, dialect, tupleize_cols, error_bad_lines, warn_bad_lines, skipfooter, skip_footer, doublequote, delim_whitespace, as_recarray, compact_ints, use_unsigned, low_memory, buffer_lines, memory_map, float_precision)\u001b[0m\n\u001b[1;32m    653\u001b[0m                     skip_blank_lines=skip_blank_lines)\n\u001b[1;32m    654\u001b[0m \u001b[0;34m\u001b[0m\u001b[0m\n\u001b[0;32m--> 655\u001b[0;31m         \u001b[0;32mreturn\u001b[0m \u001b[0m_read\u001b[0m\u001b[0;34m(\u001b[0m\u001b[0mfilepath_or_buffer\u001b[0m\u001b[0;34m,\u001b[0m \u001b[0mkwds\u001b[0m\u001b[0;34m)\u001b[0m\u001b[0;34m\u001b[0m\u001b[0m\n\u001b[0m\u001b[1;32m    656\u001b[0m \u001b[0;34m\u001b[0m\u001b[0m\n\u001b[1;32m    657\u001b[0m     \u001b[0mparser_f\u001b[0m\u001b[0;34m.\u001b[0m\u001b[0m__name__\u001b[0m \u001b[0;34m=\u001b[0m \u001b[0mname\u001b[0m\u001b[0;34m\u001b[0m\u001b[0m\n",
      "\u001b[0;32m~/anaconda3/lib/python3.6/site-packages/pandas/io/parsers.py\u001b[0m in \u001b[0;36m_read\u001b[0;34m(filepath_or_buffer, kwds)\u001b[0m\n\u001b[1;32m    403\u001b[0m \u001b[0;34m\u001b[0m\u001b[0m\n\u001b[1;32m    404\u001b[0m     \u001b[0;31m# Create the parser.\u001b[0m\u001b[0;34m\u001b[0m\u001b[0;34m\u001b[0m\u001b[0m\n\u001b[0;32m--> 405\u001b[0;31m     \u001b[0mparser\u001b[0m \u001b[0;34m=\u001b[0m \u001b[0mTextFileReader\u001b[0m\u001b[0;34m(\u001b[0m\u001b[0mfilepath_or_buffer\u001b[0m\u001b[0;34m,\u001b[0m \u001b[0;34m**\u001b[0m\u001b[0mkwds\u001b[0m\u001b[0;34m)\u001b[0m\u001b[0;34m\u001b[0m\u001b[0m\n\u001b[0m\u001b[1;32m    406\u001b[0m \u001b[0;34m\u001b[0m\u001b[0m\n\u001b[1;32m    407\u001b[0m     \u001b[0;32mif\u001b[0m \u001b[0mchunksize\u001b[0m \u001b[0;32mor\u001b[0m \u001b[0miterator\u001b[0m\u001b[0;34m:\u001b[0m\u001b[0;34m\u001b[0m\u001b[0m\n",
      "\u001b[0;32m~/anaconda3/lib/python3.6/site-packages/pandas/io/parsers.py\u001b[0m in \u001b[0;36m__init__\u001b[0;34m(self, f, engine, **kwds)\u001b[0m\n\u001b[1;32m    762\u001b[0m             \u001b[0mself\u001b[0m\u001b[0;34m.\u001b[0m\u001b[0moptions\u001b[0m\u001b[0;34m[\u001b[0m\u001b[0;34m'has_index_names'\u001b[0m\u001b[0;34m]\u001b[0m \u001b[0;34m=\u001b[0m \u001b[0mkwds\u001b[0m\u001b[0;34m[\u001b[0m\u001b[0;34m'has_index_names'\u001b[0m\u001b[0;34m]\u001b[0m\u001b[0;34m\u001b[0m\u001b[0m\n\u001b[1;32m    763\u001b[0m \u001b[0;34m\u001b[0m\u001b[0m\n\u001b[0;32m--> 764\u001b[0;31m         \u001b[0mself\u001b[0m\u001b[0;34m.\u001b[0m\u001b[0m_make_engine\u001b[0m\u001b[0;34m(\u001b[0m\u001b[0mself\u001b[0m\u001b[0;34m.\u001b[0m\u001b[0mengine\u001b[0m\u001b[0;34m)\u001b[0m\u001b[0;34m\u001b[0m\u001b[0m\n\u001b[0m\u001b[1;32m    765\u001b[0m \u001b[0;34m\u001b[0m\u001b[0m\n\u001b[1;32m    766\u001b[0m     \u001b[0;32mdef\u001b[0m \u001b[0mclose\u001b[0m\u001b[0;34m(\u001b[0m\u001b[0mself\u001b[0m\u001b[0;34m)\u001b[0m\u001b[0;34m:\u001b[0m\u001b[0;34m\u001b[0m\u001b[0m\n",
      "\u001b[0;32m~/anaconda3/lib/python3.6/site-packages/pandas/io/parsers.py\u001b[0m in \u001b[0;36m_make_engine\u001b[0;34m(self, engine)\u001b[0m\n\u001b[1;32m    983\u001b[0m     \u001b[0;32mdef\u001b[0m \u001b[0m_make_engine\u001b[0m\u001b[0;34m(\u001b[0m\u001b[0mself\u001b[0m\u001b[0;34m,\u001b[0m \u001b[0mengine\u001b[0m\u001b[0;34m=\u001b[0m\u001b[0;34m'c'\u001b[0m\u001b[0;34m)\u001b[0m\u001b[0;34m:\u001b[0m\u001b[0;34m\u001b[0m\u001b[0m\n\u001b[1;32m    984\u001b[0m         \u001b[0;32mif\u001b[0m \u001b[0mengine\u001b[0m \u001b[0;34m==\u001b[0m \u001b[0;34m'c'\u001b[0m\u001b[0;34m:\u001b[0m\u001b[0;34m\u001b[0m\u001b[0m\n\u001b[0;32m--> 985\u001b[0;31m             \u001b[0mself\u001b[0m\u001b[0;34m.\u001b[0m\u001b[0m_engine\u001b[0m \u001b[0;34m=\u001b[0m \u001b[0mCParserWrapper\u001b[0m\u001b[0;34m(\u001b[0m\u001b[0mself\u001b[0m\u001b[0;34m.\u001b[0m\u001b[0mf\u001b[0m\u001b[0;34m,\u001b[0m \u001b[0;34m**\u001b[0m\u001b[0mself\u001b[0m\u001b[0;34m.\u001b[0m\u001b[0moptions\u001b[0m\u001b[0;34m)\u001b[0m\u001b[0;34m\u001b[0m\u001b[0m\n\u001b[0m\u001b[1;32m    986\u001b[0m         \u001b[0;32melse\u001b[0m\u001b[0;34m:\u001b[0m\u001b[0;34m\u001b[0m\u001b[0m\n\u001b[1;32m    987\u001b[0m             \u001b[0;32mif\u001b[0m \u001b[0mengine\u001b[0m \u001b[0;34m==\u001b[0m \u001b[0;34m'python'\u001b[0m\u001b[0;34m:\u001b[0m\u001b[0;34m\u001b[0m\u001b[0m\n",
      "\u001b[0;32m~/anaconda3/lib/python3.6/site-packages/pandas/io/parsers.py\u001b[0m in \u001b[0;36m__init__\u001b[0;34m(self, src, **kwds)\u001b[0m\n\u001b[1;32m   1603\u001b[0m         \u001b[0mkwds\u001b[0m\u001b[0;34m[\u001b[0m\u001b[0;34m'allow_leading_cols'\u001b[0m\u001b[0;34m]\u001b[0m \u001b[0;34m=\u001b[0m \u001b[0mself\u001b[0m\u001b[0;34m.\u001b[0m\u001b[0mindex_col\u001b[0m \u001b[0;32mis\u001b[0m \u001b[0;32mnot\u001b[0m \u001b[0;32mFalse\u001b[0m\u001b[0;34m\u001b[0m\u001b[0m\n\u001b[1;32m   1604\u001b[0m \u001b[0;34m\u001b[0m\u001b[0m\n\u001b[0;32m-> 1605\u001b[0;31m         \u001b[0mself\u001b[0m\u001b[0;34m.\u001b[0m\u001b[0m_reader\u001b[0m \u001b[0;34m=\u001b[0m \u001b[0mparsers\u001b[0m\u001b[0;34m.\u001b[0m\u001b[0mTextReader\u001b[0m\u001b[0;34m(\u001b[0m\u001b[0msrc\u001b[0m\u001b[0;34m,\u001b[0m \u001b[0;34m**\u001b[0m\u001b[0mkwds\u001b[0m\u001b[0;34m)\u001b[0m\u001b[0;34m\u001b[0m\u001b[0m\n\u001b[0m\u001b[1;32m   1606\u001b[0m \u001b[0;34m\u001b[0m\u001b[0m\n\u001b[1;32m   1607\u001b[0m         \u001b[0;31m# XXX\u001b[0m\u001b[0;34m\u001b[0m\u001b[0;34m\u001b[0m\u001b[0m\n",
      "\u001b[0;32mpandas/_libs/parsers.pyx\u001b[0m in \u001b[0;36mpandas._libs.parsers.TextReader.__cinit__ (pandas/_libs/parsers.c:4209)\u001b[0;34m()\u001b[0m\n",
      "\u001b[0;32mpandas/_libs/parsers.pyx\u001b[0m in \u001b[0;36mpandas._libs.parsers.TextReader._setup_parser_source (pandas/_libs/parsers.c:8873)\u001b[0;34m()\u001b[0m\n",
      "\u001b[0;31mFileNotFoundError\u001b[0m: File b'bank.csv' does not exist"
     ]
    }
   ],
   "source": [
    "import numpy as np\n",
    "import pandas as pd\n",
    "import seaborn as sns\n",
    "import matplotlib.pyplot as plt\n",
    "%matplotlib inline\n",
    "\n",
    "data_set = pd.read_csv(r\"bank.csv\")\n",
    "data_set.head(6)"
   ]
  },
  {
   "cell_type": "code",
   "execution_count": 24,
   "metadata": {},
   "outputs": [
    {
     "name": "stdout",
     "output_type": "stream",
     "text": [
      "<class 'pandas.core.frame.DataFrame'>\n",
      "RangeIndex: 11162 entries, 0 to 11161\n",
      "Data columns (total 17 columns):\n",
      "age          11162 non-null int64\n",
      "job          11162 non-null object\n",
      "marital      11162 non-null object\n",
      "education    11162 non-null object\n",
      "default      11162 non-null object\n",
      "balance      11162 non-null int64\n",
      "housing      11162 non-null object\n",
      "loan         11162 non-null object\n",
      "contact      11162 non-null object\n",
      "day          11162 non-null object\n",
      "month        11162 non-null object\n",
      "duration     11162 non-null int64\n",
      "campaign     11162 non-null int64\n",
      "pdays        11162 non-null int64\n",
      "previous     11162 non-null int64\n",
      "poutcome     11162 non-null object\n",
      "deposit      11162 non-null object\n",
      "dtypes: int64(6), object(11)\n",
      "memory usage: 1.4+ MB\n"
     ]
    }
   ],
   "source": [
    "data_set.info()"
   ]
  },
  {
   "cell_type": "markdown",
   "metadata": {},
   "source": [
    "**Checking if there are any missing values in any of the attributes in the data set. Since the total count of instances in all the attributes is the same, we can understand that there are no missing values and can now continue with the furthur stages of pre-processing**"
   ]
  },
  {
   "cell_type": "code",
   "execution_count": 3,
   "metadata": {},
   "outputs": [
    {
     "data": {
      "text/html": [
       "<div>\n",
       "<style>\n",
       "    .dataframe thead tr:only-child th {\n",
       "        text-align: right;\n",
       "    }\n",
       "\n",
       "    .dataframe thead th {\n",
       "        text-align: left;\n",
       "    }\n",
       "\n",
       "    .dataframe tbody tr th {\n",
       "        vertical-align: top;\n",
       "    }\n",
       "</style>\n",
       "<table border=\"1\" class=\"dataframe\">\n",
       "  <thead>\n",
       "    <tr style=\"text-align: right;\">\n",
       "      <th></th>\n",
       "      <th>count</th>\n",
       "      <th>mean</th>\n",
       "      <th>std</th>\n",
       "      <th>min</th>\n",
       "      <th>25%</th>\n",
       "      <th>50%</th>\n",
       "      <th>75%</th>\n",
       "      <th>max</th>\n",
       "    </tr>\n",
       "  </thead>\n",
       "  <tbody>\n",
       "    <tr>\n",
       "      <th>age</th>\n",
       "      <td>11162.0</td>\n",
       "      <td>41.231948</td>\n",
       "      <td>11.913369</td>\n",
       "      <td>18.0</td>\n",
       "      <td>32.0</td>\n",
       "      <td>39.0</td>\n",
       "      <td>49.00</td>\n",
       "      <td>95.0</td>\n",
       "    </tr>\n",
       "    <tr>\n",
       "      <th>balance</th>\n",
       "      <td>11162.0</td>\n",
       "      <td>1528.538524</td>\n",
       "      <td>3225.413326</td>\n",
       "      <td>-6847.0</td>\n",
       "      <td>122.0</td>\n",
       "      <td>550.0</td>\n",
       "      <td>1708.00</td>\n",
       "      <td>81204.0</td>\n",
       "    </tr>\n",
       "    <tr>\n",
       "      <th>day</th>\n",
       "      <td>11162.0</td>\n",
       "      <td>15.658036</td>\n",
       "      <td>8.420740</td>\n",
       "      <td>1.0</td>\n",
       "      <td>8.0</td>\n",
       "      <td>15.0</td>\n",
       "      <td>22.00</td>\n",
       "      <td>31.0</td>\n",
       "    </tr>\n",
       "    <tr>\n",
       "      <th>duration</th>\n",
       "      <td>11162.0</td>\n",
       "      <td>371.993818</td>\n",
       "      <td>347.128386</td>\n",
       "      <td>2.0</td>\n",
       "      <td>138.0</td>\n",
       "      <td>255.0</td>\n",
       "      <td>496.00</td>\n",
       "      <td>3881.0</td>\n",
       "    </tr>\n",
       "    <tr>\n",
       "      <th>campaign</th>\n",
       "      <td>11162.0</td>\n",
       "      <td>2.508421</td>\n",
       "      <td>2.722077</td>\n",
       "      <td>1.0</td>\n",
       "      <td>1.0</td>\n",
       "      <td>2.0</td>\n",
       "      <td>3.00</td>\n",
       "      <td>63.0</td>\n",
       "    </tr>\n",
       "    <tr>\n",
       "      <th>pdays</th>\n",
       "      <td>11162.0</td>\n",
       "      <td>51.330407</td>\n",
       "      <td>108.758282</td>\n",
       "      <td>-1.0</td>\n",
       "      <td>-1.0</td>\n",
       "      <td>-1.0</td>\n",
       "      <td>20.75</td>\n",
       "      <td>854.0</td>\n",
       "    </tr>\n",
       "    <tr>\n",
       "      <th>previous</th>\n",
       "      <td>11162.0</td>\n",
       "      <td>0.832557</td>\n",
       "      <td>2.292007</td>\n",
       "      <td>0.0</td>\n",
       "      <td>0.0</td>\n",
       "      <td>0.0</td>\n",
       "      <td>1.00</td>\n",
       "      <td>58.0</td>\n",
       "    </tr>\n",
       "  </tbody>\n",
       "</table>\n",
       "</div>"
      ],
      "text/plain": [
       "            count         mean          std     min    25%    50%      75%  \\\n",
       "age       11162.0    41.231948    11.913369    18.0   32.0   39.0    49.00   \n",
       "balance   11162.0  1528.538524  3225.413326 -6847.0  122.0  550.0  1708.00   \n",
       "day       11162.0    15.658036     8.420740     1.0    8.0   15.0    22.00   \n",
       "duration  11162.0   371.993818   347.128386     2.0  138.0  255.0   496.00   \n",
       "campaign  11162.0     2.508421     2.722077     1.0    1.0    2.0     3.00   \n",
       "pdays     11162.0    51.330407   108.758282    -1.0   -1.0   -1.0    20.75   \n",
       "previous  11162.0     0.832557     2.292007     0.0    0.0    0.0     1.00   \n",
       "\n",
       "              max  \n",
       "age          95.0  \n",
       "balance   81204.0  \n",
       "day          31.0  \n",
       "duration   3881.0  \n",
       "campaign     63.0  \n",
       "pdays       854.0  \n",
       "previous     58.0  "
      ]
     },
     "execution_count": 3,
     "metadata": {},
     "output_type": "execute_result"
    }
   ],
   "source": [
    "data_set.describe().transpose()"
   ]
  },
  {
   "cell_type": "code",
   "execution_count": 4,
   "metadata": {},
   "outputs": [
    {
     "data": {
      "text/html": [
       "<div>\n",
       "<style>\n",
       "    .dataframe thead tr:only-child th {\n",
       "        text-align: right;\n",
       "    }\n",
       "\n",
       "    .dataframe thead th {\n",
       "        text-align: left;\n",
       "    }\n",
       "\n",
       "    .dataframe tbody tr th {\n",
       "        vertical-align: top;\n",
       "    }\n",
       "</style>\n",
       "<table border=\"1\" class=\"dataframe\">\n",
       "  <thead>\n",
       "    <tr style=\"text-align: right;\">\n",
       "      <th></th>\n",
       "      <th>age</th>\n",
       "      <th>job</th>\n",
       "      <th>marital</th>\n",
       "      <th>education</th>\n",
       "      <th>default</th>\n",
       "      <th>balance</th>\n",
       "      <th>housing</th>\n",
       "      <th>loan</th>\n",
       "      <th>contact</th>\n",
       "      <th>day</th>\n",
       "      <th>month</th>\n",
       "      <th>duration</th>\n",
       "      <th>campaign</th>\n",
       "      <th>pdays</th>\n",
       "      <th>previous</th>\n",
       "      <th>poutcome</th>\n",
       "      <th>deposit</th>\n",
       "    </tr>\n",
       "  </thead>\n",
       "  <tbody>\n",
       "    <tr>\n",
       "      <th>0</th>\n",
       "      <td>59</td>\n",
       "      <td>admin.</td>\n",
       "      <td>married</td>\n",
       "      <td>secondary</td>\n",
       "      <td>no</td>\n",
       "      <td>2343</td>\n",
       "      <td>yes</td>\n",
       "      <td>no</td>\n",
       "      <td>unknown</td>\n",
       "      <td>Thursday</td>\n",
       "      <td>may</td>\n",
       "      <td>1042</td>\n",
       "      <td>1</td>\n",
       "      <td>-1</td>\n",
       "      <td>0</td>\n",
       "      <td>unknown</td>\n",
       "      <td>yes</td>\n",
       "    </tr>\n",
       "    <tr>\n",
       "      <th>1</th>\n",
       "      <td>56</td>\n",
       "      <td>admin.</td>\n",
       "      <td>married</td>\n",
       "      <td>secondary</td>\n",
       "      <td>no</td>\n",
       "      <td>45</td>\n",
       "      <td>no</td>\n",
       "      <td>no</td>\n",
       "      <td>unknown</td>\n",
       "      <td>Thursday</td>\n",
       "      <td>may</td>\n",
       "      <td>1467</td>\n",
       "      <td>1</td>\n",
       "      <td>-1</td>\n",
       "      <td>0</td>\n",
       "      <td>unknown</td>\n",
       "      <td>yes</td>\n",
       "    </tr>\n",
       "    <tr>\n",
       "      <th>2</th>\n",
       "      <td>41</td>\n",
       "      <td>technician</td>\n",
       "      <td>married</td>\n",
       "      <td>secondary</td>\n",
       "      <td>no</td>\n",
       "      <td>1270</td>\n",
       "      <td>yes</td>\n",
       "      <td>no</td>\n",
       "      <td>unknown</td>\n",
       "      <td>Thursday</td>\n",
       "      <td>may</td>\n",
       "      <td>1389</td>\n",
       "      <td>1</td>\n",
       "      <td>-1</td>\n",
       "      <td>0</td>\n",
       "      <td>unknown</td>\n",
       "      <td>yes</td>\n",
       "    </tr>\n",
       "    <tr>\n",
       "      <th>3</th>\n",
       "      <td>55</td>\n",
       "      <td>services</td>\n",
       "      <td>married</td>\n",
       "      <td>secondary</td>\n",
       "      <td>no</td>\n",
       "      <td>2476</td>\n",
       "      <td>yes</td>\n",
       "      <td>no</td>\n",
       "      <td>unknown</td>\n",
       "      <td>Thursday</td>\n",
       "      <td>may</td>\n",
       "      <td>579</td>\n",
       "      <td>1</td>\n",
       "      <td>-1</td>\n",
       "      <td>0</td>\n",
       "      <td>unknown</td>\n",
       "      <td>yes</td>\n",
       "    </tr>\n",
       "    <tr>\n",
       "      <th>4</th>\n",
       "      <td>54</td>\n",
       "      <td>admin.</td>\n",
       "      <td>married</td>\n",
       "      <td>tertiary</td>\n",
       "      <td>no</td>\n",
       "      <td>184</td>\n",
       "      <td>no</td>\n",
       "      <td>no</td>\n",
       "      <td>unknown</td>\n",
       "      <td>Thursday</td>\n",
       "      <td>may</td>\n",
       "      <td>673</td>\n",
       "      <td>2</td>\n",
       "      <td>-1</td>\n",
       "      <td>0</td>\n",
       "      <td>unknown</td>\n",
       "      <td>yes</td>\n",
       "    </tr>\n",
       "  </tbody>\n",
       "</table>\n",
       "</div>"
      ],
      "text/plain": [
       "   age         job  marital  education default  balance housing loan  contact  \\\n",
       "0   59      admin.  married  secondary      no     2343     yes   no  unknown   \n",
       "1   56      admin.  married  secondary      no       45      no   no  unknown   \n",
       "2   41  technician  married  secondary      no     1270     yes   no  unknown   \n",
       "3   55    services  married  secondary      no     2476     yes   no  unknown   \n",
       "4   54      admin.  married   tertiary      no      184      no   no  unknown   \n",
       "\n",
       "        day month  duration  campaign  pdays  previous poutcome deposit  \n",
       "0  Thursday   may      1042         1     -1         0  unknown     yes  \n",
       "1  Thursday   may      1467         1     -1         0  unknown     yes  \n",
       "2  Thursday   may      1389         1     -1         0  unknown     yes  \n",
       "3  Thursday   may       579         1     -1         0  unknown     yes  \n",
       "4  Thursday   may       673         2     -1         0  unknown     yes  "
      ]
     },
     "execution_count": 4,
     "metadata": {},
     "output_type": "execute_result"
    }
   ],
   "source": [
    "data_set['day'].replace({ 1:'Sunday', 2: 'Monday', 3:'Tuesday', 4:'Wednesday', 5:'Thursday', 6:'Friday', 7: 'Saturday'},inplace = True)\n",
    "data_set.head()"
   ]
  },
  {
   "cell_type": "markdown",
   "metadata": {},
   "source": [
    "Since the months in the data set are in the format of Character and not numbers, making the data symmetric by changing days from numbers to characters."
   ]
  },
  {
   "cell_type": "code",
   "execution_count": 5,
   "metadata": {
    "collapsed": true
   },
   "outputs": [],
   "source": [
    "if np.any(data_set.isnull()) == True:\n",
    "    data_set = data_set.fillna(0)"
   ]
  },
  {
   "cell_type": "code",
   "execution_count": 6,
   "metadata": {
    "collapsed": true
   },
   "outputs": [],
   "source": [
    "marital_dict = {\"divorced\":1,\"married\":2,\"single\":3}\n",
    "education_dict = {'primary':1,'secondary':2,'tertiary':3,'unknown':4}\n",
    "default_dict = {'no':0,'yes':1}\n",
    "housing_dict = {'no':0,'yes':1}\n",
    "loan_dict = {'no':0,'yes':1}\n",
    "contact_dict = {'cellular':1,'telephone':2,'unknown':3}\n",
    "month_dict = {\"jan\": 1, \"feb\":2, \"mar\":3, \"apr\":4, \"may\":5, \"jun\":6, \n",
    "            \"jul\": 7, \"aug\":8, \"sep\":9, \"oct\":10, \"nov\": 11, \"dec\": 12}\n",
    "outcome_dict = {\"failure\":1,\"other\":2,\"unknown\":3,\"success\":4}\n",
    "deposit_dict = {\"no\":0,\"yes\":1}"
   ]
  },
  {
   "cell_type": "code",
   "execution_count": 7,
   "metadata": {
    "collapsed": true
   },
   "outputs": [],
   "source": [
    "def marital_conv(s):\n",
    "    return marital_dict[s]\n",
    "\n",
    "def education_conv(s):\n",
    "    return education_dict[s]\n",
    "\n",
    "def default_conv(s):\n",
    "    return default_dict[s]\n",
    "\n",
    "def housing_conv(s):\n",
    "    return housing_dict[s]\n",
    "\n",
    "def loan_conv(s):\n",
    "    return loan_dict[s]\n",
    "\n",
    "def contact_conv(s):\n",
    "    return contact_dict[s]\n",
    "\n",
    "def month_conv(s):\n",
    "    return month_dict[s]\n",
    "\n",
    "def outcome_conv(s):\n",
    "    return outcome_dict[s]\n",
    "\n",
    "def deposit_conv(s):\n",
    "    return deposit_dict[s]"
   ]
  },
  {
   "cell_type": "code",
   "execution_count": 8,
   "metadata": {},
   "outputs": [
    {
     "data": {
      "text/html": [
       "<div>\n",
       "<style>\n",
       "    .dataframe thead tr:only-child th {\n",
       "        text-align: right;\n",
       "    }\n",
       "\n",
       "    .dataframe thead th {\n",
       "        text-align: left;\n",
       "    }\n",
       "\n",
       "    .dataframe tbody tr th {\n",
       "        vertical-align: top;\n",
       "    }\n",
       "</style>\n",
       "<table border=\"1\" class=\"dataframe\">\n",
       "  <thead>\n",
       "    <tr style=\"text-align: right;\">\n",
       "      <th></th>\n",
       "      <th>age</th>\n",
       "      <th>job</th>\n",
       "      <th>marital</th>\n",
       "      <th>education</th>\n",
       "      <th>default</th>\n",
       "      <th>balance</th>\n",
       "      <th>housing</th>\n",
       "      <th>loan</th>\n",
       "      <th>contact</th>\n",
       "      <th>day</th>\n",
       "      <th>month</th>\n",
       "      <th>duration</th>\n",
       "      <th>campaign</th>\n",
       "      <th>pdays</th>\n",
       "      <th>previous</th>\n",
       "      <th>poutcome</th>\n",
       "      <th>deposit</th>\n",
       "    </tr>\n",
       "  </thead>\n",
       "  <tbody>\n",
       "    <tr>\n",
       "      <th>4306</th>\n",
       "      <td>30</td>\n",
       "      <td>management</td>\n",
       "      <td>3</td>\n",
       "      <td>2</td>\n",
       "      <td>0</td>\n",
       "      <td>4642</td>\n",
       "      <td>1</td>\n",
       "      <td>0</td>\n",
       "      <td>1</td>\n",
       "      <td>21</td>\n",
       "      <td>11</td>\n",
       "      <td>528</td>\n",
       "      <td>1</td>\n",
       "      <td>-1</td>\n",
       "      <td>0</td>\n",
       "      <td>3</td>\n",
       "      <td>1</td>\n",
       "    </tr>\n",
       "    <tr>\n",
       "      <th>5058</th>\n",
       "      <td>32</td>\n",
       "      <td>blue-collar</td>\n",
       "      <td>2</td>\n",
       "      <td>2</td>\n",
       "      <td>0</td>\n",
       "      <td>225</td>\n",
       "      <td>1</td>\n",
       "      <td>0</td>\n",
       "      <td>1</td>\n",
       "      <td>17</td>\n",
       "      <td>4</td>\n",
       "      <td>574</td>\n",
       "      <td>1</td>\n",
       "      <td>150</td>\n",
       "      <td>1</td>\n",
       "      <td>1</td>\n",
       "      <td>1</td>\n",
       "    </tr>\n",
       "    <tr>\n",
       "      <th>6985</th>\n",
       "      <td>59</td>\n",
       "      <td>unknown</td>\n",
       "      <td>2</td>\n",
       "      <td>4</td>\n",
       "      <td>0</td>\n",
       "      <td>2443</td>\n",
       "      <td>0</td>\n",
       "      <td>0</td>\n",
       "      <td>3</td>\n",
       "      <td>20</td>\n",
       "      <td>6</td>\n",
       "      <td>8</td>\n",
       "      <td>8</td>\n",
       "      <td>-1</td>\n",
       "      <td>0</td>\n",
       "      <td>3</td>\n",
       "      <td>0</td>\n",
       "    </tr>\n",
       "    <tr>\n",
       "      <th>7831</th>\n",
       "      <td>54</td>\n",
       "      <td>unemployed</td>\n",
       "      <td>3</td>\n",
       "      <td>3</td>\n",
       "      <td>0</td>\n",
       "      <td>252</td>\n",
       "      <td>1</td>\n",
       "      <td>0</td>\n",
       "      <td>1</td>\n",
       "      <td>21</td>\n",
       "      <td>7</td>\n",
       "      <td>101</td>\n",
       "      <td>1</td>\n",
       "      <td>-1</td>\n",
       "      <td>0</td>\n",
       "      <td>3</td>\n",
       "      <td>0</td>\n",
       "    </tr>\n",
       "    <tr>\n",
       "      <th>8670</th>\n",
       "      <td>37</td>\n",
       "      <td>management</td>\n",
       "      <td>3</td>\n",
       "      <td>3</td>\n",
       "      <td>0</td>\n",
       "      <td>876</td>\n",
       "      <td>1</td>\n",
       "      <td>0</td>\n",
       "      <td>1</td>\n",
       "      <td>15</td>\n",
       "      <td>4</td>\n",
       "      <td>140</td>\n",
       "      <td>4</td>\n",
       "      <td>327</td>\n",
       "      <td>2</td>\n",
       "      <td>1</td>\n",
       "      <td>0</td>\n",
       "    </tr>\n",
       "  </tbody>\n",
       "</table>\n",
       "</div>"
      ],
      "text/plain": [
       "      age          job  marital  education  default  balance  housing  loan  \\\n",
       "4306   30   management        3          2        0     4642        1     0   \n",
       "5058   32  blue-collar        2          2        0      225        1     0   \n",
       "6985   59      unknown        2          4        0     2443        0     0   \n",
       "7831   54   unemployed        3          3        0      252        1     0   \n",
       "8670   37   management        3          3        0      876        1     0   \n",
       "\n",
       "      contact  day  month  duration  campaign  pdays  previous  poutcome  \\\n",
       "4306        1   21     11       528         1     -1         0         3   \n",
       "5058        1   17      4       574         1    150         1         1   \n",
       "6985        3   20      6         8         8     -1         0         3   \n",
       "7831        1   21      7       101         1     -1         0         3   \n",
       "8670        1   15      4       140         4    327         2         1   \n",
       "\n",
       "      deposit  \n",
       "4306        1  \n",
       "5058        1  \n",
       "6985        0  \n",
       "7831        0  \n",
       "8670        0  "
      ]
     },
     "execution_count": 8,
     "metadata": {},
     "output_type": "execute_result"
    }
   ],
   "source": [
    "bankData = pd.read_csv(\"bank.csv\", delimiter = ',', skiprows =0,\n",
    "                     converters={2:marital_conv,3:education_conv,4:default_conv,6:housing_conv,7:loan_conv,\n",
    "                                 8:contact_conv,10:month_conv,15:outcome_conv,16:deposit_conv})\n",
    "bankData = bankData.iloc[np.random.permutation(len(bankData))]\n",
    "bankData.head()"
   ]
  },
  {
   "cell_type": "code",
   "execution_count": 9,
   "metadata": {},
   "outputs": [
    {
     "data": {
      "text/plain": [
       "array([1, 1, 1, ..., 1, 1, 1])"
      ]
     },
     "execution_count": 9,
     "metadata": {},
     "output_type": "execute_result"
    }
   ],
   "source": [
    "deposit_out = data_set.loc[:,'deposit']\n",
    "deposit_out = np.where(deposit_out == 0,-1, 1)\n",
    "deposit_out"
   ]
  },
  {
   "cell_type": "code",
   "execution_count": 10,
   "metadata": {
    "collapsed": true
   },
   "outputs": [],
   "source": [
    "from sklearn.preprocessing import LabelEncoder\n",
    "bank = data_set.iloc[:,:-1]\n",
    "\n",
    "lb_make = LabelEncoder()\n",
    "bank[\"job\"] = lb_make.fit_transform(bank[\"job\"])"
   ]
  },
  {
   "cell_type": "markdown",
   "metadata": {},
   "source": [
    "### Histogram and Normal Probability Plot"
   ]
  },
  {
   "cell_type": "code",
   "execution_count": 11,
   "metadata": {},
   "outputs": [
    {
     "data": {
      "image/png": "[encoded data removed]",
      "text/plain": [
       "<matplotlib.figure.Figure at 0x10e8191d0>"
      ]
     },
     "metadata": {},
     "output_type": "display_data"
    },
    {
     "data": {
      "text/plain": [
       "<matplotlib.figure.Figure at 0x109416fd0>"
      ]
     },
     "metadata": {},
     "output_type": "display_data"
    }
   ],
   "source": [
    "\n",
    "from scipy.stats import norm\n",
    "from sklearn.preprocessing import StandardScaler\n",
    "from scipy import stats\n",
    "import seaborn as sns\n",
    "sns.distplot(data_set['balance'], fit = norm);\n",
    "fig = plt.figure()\n",
    "plt.show();"
   ]
  },
  {
   "cell_type": "markdown",
   "metadata": {},
   "source": [
    "**Since the data is mostly skewed, and has very less error on skeweness, we are proceeding with the visualization.**"
   ]
  },
  {
   "cell_type": "markdown",
   "metadata": {},
   "source": [
    "### BAR PLOT"
   ]
  },
  {
   "cell_type": "code",
   "execution_count": 12,
   "metadata": {},
   "outputs": [
    {
     "data": {
      "image/png": "[encoded data removed]",
      "text/plain": [
       "<matplotlib.figure.Figure at 0x10eea32e8>"
      ]
     },
     "metadata": {},
     "output_type": "display_data"
    }
   ],
   "source": [
    "plt.figure(figsize=(12,8))\n",
    "marital = data_set['marital'].value_counts()\n",
    "sns.barplot(y=marital.index, x=marital.values, alpha=0.6)\n",
    "plt.yticks(range(len(data_set['marital'].value_counts().index)), ['single', 'married','divorced'])\n",
    "plt.title(\"marriage status\", fontsize=16)\n",
    "plt.xlabel(\"total\", fontsize=16)\n",
    "plt.ylabel(\"marital\", fontsize=16)\n",
    "plt.show();"
   ]
  },
  {
   "cell_type": "markdown",
   "metadata": {},
   "source": [
    "## <font color ='blue'> BAR PLOT </font>\n",
    "\n",
    "** *The above bar-plot shows the marital status of all the customers that were approached for the subscription. From the above plot, we can infer that the majority of the population that are being surved are singles and there could be a high probability of singles accepting more subsciptions.* **\n",
    "\n",
    "*<font color= 'red'>We can also assume that there could a propability of the number of singles accepting the subsciption would be high in number compared to other sets of population as they stand the heighest in the total. </font>*"
   ]
  },
  {
   "cell_type": "code",
   "execution_count": 13,
   "metadata": {
    "collapsed": true
   },
   "outputs": [],
   "source": [
    "from sklearn.preprocessing import LabelEncoder\n",
    "bank = bankData.iloc[:,:-1]\n",
    "\n",
    "lb_make = LabelEncoder()\n",
    "bank[\"job\"] = lb_make.fit_transform(bank[\"job\"])"
   ]
  },
  {
   "cell_type": "markdown",
   "metadata": {},
   "source": [
    "## COUNT PLOT"
   ]
  },
  {
   "cell_type": "code",
   "execution_count": 14,
   "metadata": {},
   "outputs": [
    {
     "data": {
      "image/png": "[encoded data removed]",
      "text/plain": [
       "<matplotlib.figure.Figure at 0x10ee3f908>"
      ]
     },
     "metadata": {},
     "output_type": "display_data"
    }
   ],
   "source": [
    "plt.figure(figsize=(15,10))\n",
    "sns.countplot(x=\"job\", data = data_set, palette=\"Greens_d\");\n",
    "plt.show();"
   ]
  },
  {
   "cell_type": "markdown",
   "metadata": {},
   "source": [
    "** Counting the number of employees in each job domain so as to have an over view of what could be the number of people activating the subscription from the number of people contacted for subscribing.\n",
    "Of all the job roles, the people that are most likely to subscribe are most from management as there are more number of people from that job role.**"
   ]
  },
  {
   "cell_type": "markdown",
   "metadata": {},
   "source": [
    "## BOX PLOT"
   ]
  },
  {
   "cell_type": "code",
   "execution_count": 15,
   "metadata": {
    "scrolled": true
   },
   "outputs": [
    {
     "data": {
      "text/plain": [
       "<matplotlib.figure.Figure at 0x10eee0dd8>"
      ]
     },
     "metadata": {},
     "output_type": "display_data"
    },
    {
     "data": {
      "image/png": "[encoded data removed]",
      "text/plain": [
       "<matplotlib.figure.Figure at 0x10f607390>"
      ]
     },
     "metadata": {},
     "output_type": "display_data"
    }
   ],
   "source": [
    "plt.figure(figsize=(12,8))\n",
    "age=data_set[(data_set['age']>=21) & (data_set['age']<=80) ]\n",
    "plt.figure(figsize=(10,8))\n",
    "sns.boxplot( y=age['age'],data=age)\n",
    "plt.title(\"Age boxplot\", fontsize=16)\n",
    "plt.ylabel(\"Age\", fontsize=16)\n",
    "plt.grid()\n",
    "plt.show();"
   ]
  },
  {
   "cell_type": "markdown",
   "metadata": {},
   "source": [
    "### BOX PLOT FOR AGE\n",
    "\n",
    "**The median for the age is aroud 39 and most participants are aged between 33 - 49. **"
   ]
  },
  {
   "cell_type": "markdown",
   "metadata": {},
   "source": [
    "## SCATTER PLOT"
   ]
  },
  {
   "cell_type": "code",
   "execution_count": 16,
   "metadata": {},
   "outputs": [
    {
     "name": "stderr",
     "output_type": "stream",
     "text": [
      "/Users/sshaik3/anaconda3/lib/python3.6/site-packages/ipykernel_launcher.py:4: FutureWarning: 'pandas.tools.plotting.scatter_matrix' is deprecated, import 'pandas.plotting.scatter_matrix' instead.\n",
      "  after removing the cwd from sys.path.\n"
     ]
    },
    {
     "data": {
      "image/png": "[encoded data removed]",
      "text/plain": [
       "<matplotlib.figure.Figure at 0x1148716d8>"
      ]
     },
     "metadata": {},
     "output_type": "display_data"
    }
   ],
   "source": [
    "from pandas.tools.plotting import scatter_matrix\n",
    "\n",
    "attributes = ['age','balance','duration',]\n",
    "scatter_matrix(data_set[attributes], figsize = (14,10))\n",
    "plt.show();"
   ]
  },
  {
   "cell_type": "markdown",
   "metadata": {},
   "source": [
    "#### Scatter Plot:\n",
    "**Some inferences that could be made from the above scatter plot are :** \n",
    "<br>\n",
    "\n",
    "<font color='blue'> 1. As the age increases, the balance and duration left for payment decreases, also the age that has most amoiunt due is around 20-40 </font> \n",
    "\n",
    "<font color='blue'> 2. As the balance decreases, the duration left for payment decreases."
   ]
  },
  {
   "cell_type": "markdown",
   "metadata": {},
   "source": [
    "### BAR PLOT"
   ]
  },
  {
   "cell_type": "code",
   "execution_count": 17,
   "metadata": {},
   "outputs": [
    {
     "data": {
      "image/png": "[encoded data removed]",
      "text/plain": [
       "<matplotlib.figure.Figure at 0x114d27940>"
      ]
     },
     "metadata": {},
     "output_type": "display_data"
    }
   ],
   "source": [
    "plt.figure(figsize=(15,10))\n",
    "sns.barplot(x=\"job\", y=\"balance\", hue=\"deposit\", data=data_set);\n",
    "plt.show();"
   ]
  },
  {
   "cell_type": "markdown",
   "metadata": {},
   "source": [
    "## ** BAR PLOT**\n",
    "\n",
    "**\n",
    "The above plot is showing a comparision between the job and the balance of the customers that were approached for subscription. The plot shows the rate of acceptance of the subsciption of the term deposits vary with respect to job of the person.**\n",
    "\n",
    "**Refering to the heighest 'yes' in the plot, the retired people are the one's that have most subsciptions, which says that since, they have no income now and have an amount in their bank as balance, it is more secured for them to have an automatic term deposit which could be used in times of emergence.**\n",
    "\n",
    "**Referring to the student, the most subsciptions are 'no' as most of the students are dependent on their parents and not not-self employeed.**\n",
    "\n",
    "\n",
    "**As the self-employeed people have an income the term-deposits are like a good source of savings and hence the subsciptions are mostly, yes.**\n",
    "\n",
    "\n",
    "**People from the services job domain, have a very secured amount of income, so there might not be an immediate need of instant savings, and hence haven't accepted the subscription.\n",
    "**"
   ]
  },
  {
   "cell_type": "markdown",
   "metadata": {},
   "source": [
    "### PIE CHART AND COUNT PLOT"
   ]
  },
  {
   "cell_type": "code",
   "execution_count": 18,
   "metadata": {},
   "outputs": [
    {
     "data": {
      "image/png": "[encoded data removed]",
      "text/plain": [
       "<matplotlib.figure.Figure at 0x114a85390>"
      ]
     },
     "metadata": {},
     "output_type": "display_data"
    }
   ],
   "source": [
    "f,ax=plt.subplots(1,2,figsize=(18,8))\n",
    "colors=[\"#F08080\", \"#00FA9A\"]\n",
    "colors1=[\"#00FA9A\",\"#F08080\"]\n",
    "labels = 'Refused a T.D. Suscription', 'Accepted a T.D. Suscription'\n",
    "data_set['deposit'].value_counts().plot.pie(explode=[0,0.1],autopct='%1.1f%%',ax=ax[0],shadow=True, colors=colors, labels=labels,fontsize=14)\n",
    "ax[0].set_title('Term Deposits', fontsize=20)\n",
    "ax[0].set_ylabel('% of Total Potential Clients', fontsize=14)\n",
    "sns.countplot('deposit',data=data_set,ax=ax[1], palette=colors1)\n",
    "ax[1].set_title('Term Deposits', fontsize=20)\n",
    "ax[1].set_xticklabels(['Accepted', 'Refused'], fontsize=14)\n",
    "plt.show()"
   ]
  },
  {
   "cell_type": "markdown",
   "metadata": {},
   "source": [
    "### PIE CHART AND COUNT PLOT \n",
    "\n",
    "** The PIECHART gives the percentage of the people that are more like to accept the subscription and the count plot gives a number of the people subscribing or not subscribing. **\n",
    "\n",
    "It can be inferred from the above visualizations that the number of subscriptions are going to be majorly refused and a slightly mess are going to be accepted by the people."
   ]
  },
  {
   "cell_type": "markdown",
   "metadata": {},
   "source": [
    "# III. Method\n"
   ]
  },
  {
   "cell_type": "markdown",
   "metadata": {},
   "source": [
    "### A. Super Class Definition\n",
    "1. ** Normalization :** Used for the scaling of the features on the data by subtracting each item with the mean value and then dividing it by the standard deviation.\n",
    "\n",
    "2. **Partitioning :** To divide the data set into two parts, train and test data. On the train data, we apply the algorithm and make the model learn the algorithm and in the test step, we apply the results of the learning model to predict the outcome."
   ]
  },
  {
   "cell_type": "code",
   "execution_count": 19,
   "metadata": {
    "collapsed": true
   },
   "outputs": [],
   "source": [
    "import numpy as np\n",
    "from abc import ABC, abstractmethod\n",
    "\n",
    "# Super class for machine learning models \n",
    "\n",
    "class BaseModel(ABC):\n",
    "    \"\"\" Super class for ITCS Machine Learning Class\"\"\"\n",
    "    \n",
    "    @abstractmethod\n",
    "    def train(self, X, T):\n",
    "        pass\n",
    "\n",
    "    @abstractmethod\n",
    "    def use(self, X):\n",
    "        pass\n",
    "\n",
    "    \n",
    "\n",
    "class Classifier(BaseModel):\n",
    "    \"\"\"\n",
    "        Abstract class for classification \n",
    "        \n",
    "        Attributes\n",
    "        ==========\n",
    "        meanX       ndarray\n",
    "                    mean of inputs (from standardization)\n",
    "        stdX        ndarray\n",
    "                    standard deviation of inputs (standardization)\n",
    "    \"\"\"\n",
    "\n",
    "    def __init__(self, ):\n",
    "        self.meanX = None\n",
    "        self.stdX = None\n",
    "\n",
    "    def normalize(self, X):\n",
    "        \"\"\" standardize the input X \"\"\"\n",
    "        \n",
    "        if not isinstance(X, np.ndarray):\n",
    "            X = np.asanyarray(X)\n",
    "\n",
    "        self.meanX = np.mean(X, 0)\n",
    "        self.stdX = np.std(X, 0)\n",
    "\n",
    "        # TODO: Finish this normalization\n",
    "        Xs = (X - self.meanX)/self.stdX\n",
    "        return Xs\n",
    "\n",
    "    def _check_matrix(self, mat, name):\n",
    "        if len(mat.shape) != 2:\n",
    "            raise ValueError(''.join([\"Wrong matrix \", name]))\n",
    "        \n",
    "    # add a basis\n",
    "    def add_ones(self, X):\n",
    "        \"\"\"\n",
    "            add a column basis to X input matrix\n",
    "        \"\"\"\n",
    "        self._check_matrix(X, 'X')\n",
    "        return np.hstack((np.ones((X.shape[0], 1)), X))\n",
    "\n",
    "    def partition_data(self,X,T,ratio=[0.8,0.2]):\n",
    "        assert(np.sum(ratio) == 1)\n",
    "    \n",
    "        idxs = np.random.permutation(X.index)\n",
    "        N = X.shape[0]\n",
    "    \n",
    "        X_ = []\n",
    "        T_ = []\n",
    "    \n",
    "        i = 0\n",
    "        for j, r in enumerate(ratio):\n",
    "            rows = int(round(N * r))\n",
    "            if j == len(ratio) -1:\n",
    "               X_.append(X.iloc[i:, :])\n",
    "               T_.append(T.iloc[i:, :])        \n",
    "            else:\n",
    "                X_.append(X.iloc[i:i+rows, :])\n",
    "                T_.append(T.iloc[i:i+rows, :])\n",
    "        \n",
    "            i+= rows\n",
    "    \n",
    "        return X_, T_\n",
    "    \n",
    "    # Confustion matrix \n",
    "\n",
    "    def confusion_matrix(self,Y,T):\n",
    "        \"\"\"\n",
    "        Y    ndarray\n",
    "             predicted labels\n",
    "        T    ndarray\n",
    "             target labels\n",
    "             \n",
    "        @cfm DataFrame\n",
    "             confusion matrix\n",
    "        \"\"\"\n",
    "    \n",
    "        if len(Y) != len(T):\n",
    "            raise ValueError(\"Wrong prediction and target length!\")\n",
    "    \n",
    "        classes = np.unique(T)\n",
    "        n_classes = len(classes)\n",
    "    \n",
    "        cfm = pd.DataFrame(np.zeros((n_classes, n_classes)), index=classes, columns=classes, dtype=int)\n",
    "    \n",
    "        Tidx = [T == c for c in classes]\n",
    "        for c in classes:\n",
    "            pred_idx = Y == c\n",
    "            cfm.loc[c, :] = [np.sum(np.logical_and(pred_idx, tidx)) for tidx in Tidx]    \n",
    "        return cfm\n",
    "    \n",
    "    def precision(self,cfm):\n",
    "        return cfm[1][1]/(cfm.sum(axis=1)[1])\n",
    "    \n",
    "    def recall(self,cfm):\n",
    "        return cfm[1][1]/(cfm.sum(axis=0)[1])\n",
    "    \n",
    "    def specificity(self,cfm):\n",
    "        return cfm[-1][-1]/(cfm.sum(axis=0)[-1])\n",
    "    \n",
    "    def f1(self,cfm):\n",
    "        return 2 * ((self.precision(cfm) * self.recall(cfm)) / (self.precision(cfm) + self.recall(cfm)))\n",
    "   \n",
    "    def roc(self,Y,T):\n",
    "        fpr, tpr, thresholds = metrics.roc_curve(Y,T, pos_label=None)\n",
    "        plt.plot(fpr, tpr,linewidth=2, label= None)\n",
    "        plt.xlabel('False Positive Rate')\n",
    "        plt.ylabel('True Positive Rate')\n",
    "        plt.xlim(0,1)\n",
    "        plt.ylim(0,1)\n",
    "        plt.show()\n",
    "    \n",
    "    def roc_auc(self,Y,T):\n",
    "        return roc_auc_score(Y,T)\n",
    "    \n",
    "    def allStats(self,Y,T):\n",
    "        cfm = self.confusion_matrix(Y,T)\n",
    "        print(pd.DataFrame([['TN','FN'],['FP','TP']],index=[\"-\",\"+\"],columns=[\"-\",\"+\"]))\n",
    "        print(cfm)\n",
    "        result = [self.precision(cfm),self.recall(cfm),self.specificity(cfm),self.f1(cfm),self.roc_auc(Y,T)]\n",
    "        print(pd.DataFrame(result,index=[\"Precision\",\"Recall\",\"Specificity\",\"F1 Score\",\"ROC_AUC\"],columns=[\"Result\"]))\n",
    "        self.roc(Y,T)\n",
    "        return result\n",
    "    \n",
    "    abstractmethod\n",
    "    def train(self, X, T):\n",
    "        pass\n",
    "    \n",
    "    abstractmethod\n",
    "    def use(self, X):\n",
    "        pass "
   ]
  },
  {
   "cell_type": "markdown",
   "metadata": {},
   "source": [
    "# B. Pocket Algorithm for Training Perceptron\n",
    "\n",
    "The Pocket Algorithm is an extension of the Perceptron Algorithm. This algorithm is used for training the Perceptron.\n",
    "The Perceptron algorithm is used for supervised learning of binary classifiers that can decide whether an input, represented by a vector of numbers, belongs to some specific class or not. It is a type of linear classifier. The algorithm allows for online learning, in that it processes elements in the training set one at a time.\n",
    "A single perceptron is a linear model that applies a step function on the linear output. \n",
    "For classification, it iterates over the training examples, and update the weights in a way that would result in correct classification. The weights are updated as follows:\n",
    "\n",
    "$$\n",
    "w^{(k+1)} = w^{(k)} + \\alpha t_i x_i\n",
    "$$\n",
    "\n",
    "Once the weight is updated, on each iteration the weight is compared to check if it is better than the previous weight. If so the algorithm stores the best weight in its pocket.\n",
    "Thus, $w_{pocket}$ will contain the best solution so far. "
   ]
  },
  {
   "cell_type": "markdown",
   "metadata": {},
   "source": [
    "## <h4> Implementation: PocketAlgorithm class and its methods </h4>\n",
    "\n",
    "- **train method: **  Once the data is explored and partitioned to training set and a test set and apply transformation pipelines such as feature scaling to clean up and prepare the data for Machine Learning algorithms, we then select and train a Machine Learning model in the train method. The train method is where we compute the weights. We first check if the prediction on each of the training example computed using the previous value of weight is equal to the target train sample (we check the signs). If the signs are different we update the weight accordingly and call the compare method. The result of the compare method says which of the weights are better and stores the best weight in the pocket.\n",
    "\n",
    "- **use method: ** After tweaking the models for a while, we eventually have a system that performs sufficiently well. The model makes a prediction by computing a weighted sum of the input features. We now evaluate the final model on the test set with the pocket weights.\n",
    "\n",
    "- **__init__ method ** which is the constructor for the class\n",
    "\n",
    "- **the self variable** is used like a reference to the current object\n",
    "\n",
    "- **the class contains two attributes:** the learning rate alpha to decide on how much step must the weight increase/decrease on each iteration and the w_pocket to store the best value of the weight"
   ]
  },
  {
   "cell_type": "code",
   "execution_count": 20,
   "metadata": {
    "collapsed": true
   },
   "outputs": [],
   "source": [
    "from copy import deepcopy as copy\n",
    "class PocketAlgorithm(Classifier): \n",
    "    def __init__(self,alpha):\n",
    "        Classifier.__init__(self)\n",
    "        self.alpha = alpha\n",
    "        self.w_pocket = None\n",
    "    def compare(self,X, T, w, wp):\n",
    "        y = np.sign(X @ w)\n",
    "        yp = np.sign(X @ wp)\n",
    "            \n",
    "        return 1 if np.sum(y == T) >= np.sum(yp == T) else -1\n",
    "    def train(self, X, T):\n",
    "        X = self.normalize(X)\n",
    "        maxiter = 10\n",
    "        N = X.shape[0]\n",
    "        w = np.zeros(X.shape[1])\n",
    "        self.w_pocket = copy(w)\n",
    "\n",
    "        for i in range(maxiter):\n",
    "    \n",
    "            converged = True\n",
    "            for k in np.random.permutation(N): \n",
    "                y = w @ X[k]\n",
    "                if np.sign(y) != np.sign(T[k]):\n",
    "                    w += self.alpha * T[k] * X[k]\n",
    "                    converged = False\n",
    "                \n",
    "                    if self.compare(X, T, w, self.w_pocket) > 0: \n",
    "                        self.w_pocket[:] = w[:]\n",
    "    \n",
    "            if converged:\n",
    "                 print(\"converged at \", i)\n",
    "                 break\n",
    "\n",
    "            print(\"End of training: \", i)\n",
    "        \n",
    "    def use(self, X):\n",
    "        Xs = (X-self.meanX)/self.stdX\n",
    "        return Xs @ self.w_pocket"
   ]
  },
  {
   "cell_type": "code",
   "execution_count": 22,
   "metadata": {},
   "outputs": [
    {
     "name": "stdout",
     "output_type": "stream",
     "text": [
      "End of training:  0\n",
      "End of training:  1\n",
      "End of training:  2\n",
      "End of training:  3\n",
      "End of training:  4\n",
      "End of training:  5\n",
      "End of training:  6\n",
      "End of training:  7\n",
      "End of training:  8\n",
      "End of training:  9\n"
     ]
    },
    {
     "data": {
      "text/plain": [
       "[<matplotlib.lines.Line2D at 0x114b601d0>]"
      ]
     },
     "execution_count": 22,
     "metadata": {},
     "output_type": "execute_result"
    },
    {
     "data": {
      "image/png": "[encoded data removed]",
      "text/plain": [
       "<matplotlib.figure.Figure at 0x114b60908>"
      ]
     },
     "metadata": {},
     "output_type": "display_data"
    }
   ],
   "source": [
    "pa = PocketAlgorithm(0.1)\n",
    "\n",
    "Xdata, Tdata = pa.partition_data(pd.DataFrame(bank), pd.DataFrame(deposit_out))\n",
    "\n",
    "Xtrain, Xtest = [x_.as_matrix() for x_ in Xdata]\n",
    "Ttrain, Ttest = [t_.as_matrix() for t_ in Tdata]\n",
    "\n",
    "pd.set_option('display.max_rows', 500)\n",
    "pa.train(Xtrain[:400],Ttrain[:400])\n",
    "Y = pa.use(Xtest[:100])\n",
    "plt.plot(np.sort(Y,0))\n",
    "plt.plot(np.sort(Ttest[:100],0))\n",
    "\n"
   ]
  },
  {
   "cell_type": "code",
   "execution_count": null,
   "metadata": {
    "collapsed": true
   },
   "outputs": [],
   "source": []
  },
  {
   "cell_type": "markdown",
   "metadata": {},
   "source": [
    "$\\newcommand{\\xv}{\\mathbf{x}}\n",
    " \\newcommand{\\wv}{\\mathbf{w}}\n",
    " \\newcommand{\\Chi}{\\mathcal{X}}\n",
    " \\newcommand{\\R}{\\rm I\\!R}\n",
    " \\newcommand{\\sign}{\\text{sign}}\n",
    " \\newcommand{\\Tm}{\\mathbf{T}}\n",
    " \\newcommand{\\Xm}{\\mathbf{X}}\n",
    "$\n",
    "### C. Quadratic Discriminant Analysis (QDA)\n",
    "\n",
    "For a binary classification problem, $k \\in \\{-1, +1\\}$, we have a higher posterior probability $P(T = +1 \\mid \\xv)$ for the sample $\\xv$ with the positive label. Thus, \n",
    "\n",
    "$$\n",
    "P(T = +1 \\mid \\xv) > P(T = -1 \\mid \\xv).\n",
    "$$\n",
    "\n",
    "The inequality will be the opposite in case of the negative samples. \n",
    "\n",
    "Using this inequality and the Gaussian Assumption, we can come up with following inequality: \n",
    "\n",
    "$$\n",
    "-\\frac{1}{2} \\ln \\vert \\boldsymbol\\Sigma_+ \\vert - \\frac{1}{2} (\\xv - \\boldsymbol\\mu_+)^\\top \\boldsymbol\\Sigma_+^{-1} (\\xv - \\boldsymbol\\mu_+) + \\ln P(T = +1) > -\\frac{1}{2} \\ln \\vert \\boldsymbol\\Sigma_- \\vert - \\frac{1}{2} (\\xv - \\boldsymbol\\mu_-)^\\top \\boldsymbol\\Sigma_-^{-1} (\\xv - \\boldsymbol\\mu_-) + \\ln P(T = -1)\n",
    "$$\n",
    "\n",
    "*Gaussian Assumption:*\n",
    "$$\n",
    "p(\\xv \\mid T = k) = \\frac{1}{(2\\pi)^{\\frac{d}{2}} \\vert \\boldsymbol\\Sigma_k \\vert^{\\frac{1}{2}}} e^{ -\\frac{1}{2} (\\xv - \\boldsymbol\\mu_k)^\\top \\boldsymbol\\Sigma_k^{-1} (\\xv - \\boldsymbol\\mu_k) }.\n",
    "$$\n",
    "\n",
    "\n",
    "Since both terms have the same cosmetics, we can define the discriminant function $\\delta_k(\\xv)$ as\n",
    "\n",
    "$$\n",
    "\\delta_k(\\xv) = -\\frac{1}{2} \\ln \\vert \\boldsymbol\\Sigma_k \\vert - \\frac{1}{2} (\\xv - \\boldsymbol\\mu_k)^\\top \\boldsymbol\\Sigma_k^{-1} (\\xv - \\boldsymbol\\mu_k) + \\ln P(T = k). \n",
    "$$\n",
    "\n",
    "In QDA analysis, our job is to find the class which gives maximum probability for the above discriminant function.\n",
    "\n",
    "$$\n",
    "y = \\arg\\max_k \\delta_k(\\tilde{\\xv}). \n",
    "$$"
   ]
  },
  {
   "cell_type": "code",
   "execution_count": 167,
   "metadata": {
    "collapsed": true
   },
   "outputs": [],
   "source": [
    "class QDA(Classifier):\n",
    "    def train(self, X, T):        \n",
    "        self.classes = np.unique(T)\n",
    "        self.prior = {}\n",
    "        self.sigma = {}\n",
    "        self.mu = {}\n",
    "        \n",
    "        X = self.normalize(X) \n",
    "        N = np.shape(X)[0]\n",
    "        \n",
    "        for k in self.classes:\n",
    "            indices = np.where(T == k)[0]\n",
    "            self.prior[k] = len(indices) / N\n",
    "            self.sigma[k] = np.cov(X[indices].T)\n",
    "            self.mu[k] = np.mean(X[indices], 0)\n",
    "            \n",
    "    def use(self, X):\n",
    "        X = (X - self.meanX) / self.stdX\n",
    "        N = np.shape(X)[0]\n",
    "        T = []\n",
    "        d = {}\n",
    "        for k in self.classes:\n",
    "            sigma_inv = np.linalg.inv(self.sigma[k])\n",
    "            diffv = X - self.mu[k]\n",
    "            d[k] = -0.5 * np.log(np.linalg.det(self.sigma[k])) \\\n",
    "                - 0.5 * np.sum(diffv @ sigma_inv * diffv, axis=1) \\\n",
    "                + np.log(self.prior[k])\n",
    "        \n",
    "        for n in range(N):\n",
    "            max_d = -math.inf\n",
    "            max_k = None\n",
    "            for k in self.classes:\n",
    "                if d[k][n] > max_d:\n",
    "                    max_k = k\n",
    "                    max_d = d[k][n]\n",
    "                T.append(k)\n",
    "        return T"
   ]
  },
  {
   "cell_type": "markdown",
   "metadata": {
    "collapsed": true
   },
   "source": [
    "### D. Linear Discriminant Analysis (LDA)\n",
    "\n",
    "The problems with QDA are:\n",
    "* Maintaining the covariance matrix for each class is not cheap\n",
    "* The data is under-sampled, the resulting class boundary has high chance of over-fitting\n",
    "\n",
    "LDA instead use same covariance for all classes\n",
    "Let $\\boldsymbol\\Sigma_k = \\boldsymbol\\Sigma$. \n",
    "\n",
    "$$\n",
    "\\begin{align*}\n",
    "\\delta_+(\\xv) &> \\delta_-(\\xv) \\\\ \n",
    " \\xv^\\top \\boldsymbol\\Sigma^{-1} \\boldsymbol\\mu_+ -\\frac{1}{2} \\boldsymbol\\mu_+^\\top \\boldsymbol\\Sigma^{-1}\\boldsymbol\\mu_+ + \\ln P(T = +1) &>  \\xv^\\top \\boldsymbol\\Sigma^{-1} \\boldsymbol\\mu_- - \\frac{1}{2}\\boldsymbol\\mu_-^\\top \\boldsymbol\\Sigma^{-1}\\boldsymbol\\mu_-  + \\ln P(T = -1)\n",
    "\\end{align*}\n",
    "$$\n",
    "\n",
    "From the above equation (same as QDA), we can remove the quadratic term in our discriminant function and we will end up with: \n",
    "\n",
    "$$\n",
    "\\delta_k(\\xv) = \\xv^\\top \\boldsymbol\\Sigma^{-1} \\boldsymbol\\mu_k -\\frac{1}{2} \\boldsymbol\\mu_k^\\top \\boldsymbol\\Sigma^{-1}\\boldsymbol\\mu_k + \\ln P(T = k).\n",
    "$$\n",
    "\n",
    "In many cases, for simple computation, the covariance matrix $\\boldsymbol\\Sigma$ is chosen as an average of all the covariance matrices for all classes,\n",
    "\n",
    "$$\n",
    "\\boldsymbol\\Sigma = \\sum_k^K \\frac{N_k}{N} \\boldsymbol\\Sigma_k.\n",
    "$$"
   ]
  },
  {
   "cell_type": "code",
   "execution_count": 168,
   "metadata": {
    "collapsed": true
   },
   "outputs": [],
   "source": [
    "class LDA(Classifier):\n",
    "    def train(self, X, T):        \n",
    "        self.classes = np.unique(T)\n",
    "        self.prior = {}\n",
    "        self.mu = {}\n",
    "        \n",
    "        X = self.normalize(X) \n",
    "        N = np.shape(X)[0]\n",
    "        \n",
    "        self.sigma = np.cov(X.T)\n",
    "        \n",
    "        for k in self.classes:\n",
    "            indices = np.where(T == k)[0]\n",
    "            self.prior[k] = len(indices) / N\n",
    "            self.mu[k] = np.mean(X[indices], 0)\n",
    "            \n",
    "    def use(self, X):\n",
    "        X = (X - self.meanX) / self.stdX\n",
    "        N = np.shape(X)[0]\n",
    "        T = []\n",
    "        d = {}\n",
    "        sigma_inv = np.linalg.inv(self.sigma)\n",
    "        \n",
    "        for k in self.classes:\n",
    "            d[k] = np.sum(np.dot(X, sigma_inv) * self.mu[k] \\\n",
    "                - 0.5 * np.dot(self.mu[k], sigma_inv) * self.mu[k] \\\n",
    "                + np.log(self.prior[k]), axis=1)\n",
    "        \n",
    "        for n in range(N):\n",
    "            max_d = -math.inf\n",
    "            max_k = None\n",
    "            for k in self.classes:\n",
    "                if d[k][n] > max_d:\n",
    "                    max_k = k\n",
    "                    max_d = d[k][n]\n",
    "                T.append(k)\n",
    "        return T"
   ]
  },
  {
   "cell_type": "markdown",
   "metadata": {
    "collapsed": true
   },
   "source": [
    "### E. Logistic Regression\n",
    "\n",
    "Logistic regression model predicts $P(T=k \\mid \\xv)$ for every class k. Reconsidering the Linear Regression model:\n",
    "$$\n",
    "\\kappa = f(\\xv ; \\wv) = \\Xm \\wv.\n",
    "$$\n",
    "\n",
    "Thus, for Logistic Regression we have:\n",
    "\n",
    "$$\n",
    "P(T=k \\mid \\xv) = h(\\Xm \\wv) = h(\\kappa) = \\yv.\n",
    "$$\n",
    "\n",
    "The error function for Logistic Regression is defined as:\n",
    "$$\n",
    "E(\\wv) = - \\ln P(\\Tm \\mid \\wv) =  - \\sum_{n=1}^{N} \\sum_{k=1}^{K} t_{n,k} \\ln y_{n,k}.\n",
    "$$\n",
    "It is also called *cross-entropy* error function.\n",
    "\n",
    "Applying Gradient Descent on this error function:\n",
    "$$\n",
    "\\wv_j \\leftarrow \\wv_j + \\alpha \\Xm^\\top \\Big(  t_{*,j} - g_j(\\Xm)\\Big).\n",
    "$$\n"
   ]
  },
  {
   "cell_type": "code",
   "execution_count": 169,
   "metadata": {
    "collapsed": true
   },
   "outputs": [],
   "source": [
    "class LogisticRegression(Classifier):\n",
    "    def softmax(self, z):\n",
    "        if not isinstance(z, np.ndarray):\n",
    "            z = np.asarray(z)\n",
    "        f = np.exp(z) \n",
    "        return f / (np.sum(f, axis=1, keepdims=True) if len(z.shape) == 2 else np.sum(f))\n",
    "    \n",
    "    def g(self, X, w):\n",
    "        return self.softmax(X @ w) \n",
    "    \n",
    "    def train(self, X, T):\n",
    "        self.classes = np.unique(T).tolist()\n",
    "        X = self.normalize(X)\n",
    "        X = self.add_ones(X)\n",
    "        \n",
    "        niter = 1\n",
    "        alpha = 0.1\n",
    "        self.w = np.random.rand(np.shape(X)[1], len(self.classes))\n",
    "        Tmatrix = np.zeros((np.shape(X)[0], len(self.classes)))\n",
    "        \n",
    "        for i,t in enumerate(T):\n",
    "            Tmatrix[i][self.classes.index(t)] = 1\n",
    "            \n",
    "        for step in range(niter):\n",
    "            y = self.g(X, self.w)\n",
    "            self.w += alpha * X.T @ (Tmatrix - y)\n",
    "            \n",
    "    def use(self, X):\n",
    "        X = (X - self.meanX) / self.stdX\n",
    "        X = self.add_ones(X)\n",
    "        T = np.argmax(self.g(X, self.w), 1)\n",
    "        return [self.classes[t] for t in T]"
   ]
  },
  {
   "cell_type": "markdown",
   "metadata": {},
   "source": [
    "# IV. Experiments\n",
    "\n",
    "Apply the classfiers on the data and discuss the results.\n",
    "Please describe your codes for experiments. You may have subsections of results and discussions here.\n",
    "Here follows the list that you consider to include:\n",
    "- the classification results\n",
    "- plots of classification results \n",
    "- model comparision \n",
    "- choice of evaluation metrics\n",
    "- **Must partition data into training and testing**"
   ]
  },
  {
   "cell_type": "markdown",
   "metadata": {},
   "source": [
    "## POCKET ALGORITHM"
   ]
  },
  {
   "cell_type": "code",
   "execution_count": 177,
   "metadata": {
    "collapsed": true
   },
   "outputs": [],
   "source": [
    "train = data_set.sample(frac = .75)\n",
    "test = data_set.sample(frac = .25)"
   ]
  },
  {
   "cell_type": "code",
   "execution_count": null,
   "metadata": {
    "collapsed": true
   },
   "outputs": [],
   "source": [
    "classifier = Pocket()\n",
    "X = data_set.sample()\n",
    "Y = [-1 if y == 'yes' else 1 for y in X['deposit'].values]\n",
    "m = np.shape(X)[0]\n",
    "classifier.train(X[['balance','duration']].values, Y)\n",
    "T = classifier.use(X[['balance','duration','age']].values)\n",
    "print(T)"
   ]
  },
  {
   "cell_type": "code",
   "execution_count": 215,
   "metadata": {},
   "outputs": [
    {
     "data": {
      "image/png": "[encoded data removed]",
      "text/plain": [
       "<matplotlib.figure.Figure at 0x11681af60>"
      ]
     },
     "metadata": {},
     "output_type": "display_data"
    }
   ],
   "source": [
    "classifier = Pocket()\n",
    "X = train.sample(7000)\n",
    "Y = [-1 if y == 'yes' else 1 for y in X['deposit'].values ]\n",
    "m = np.shape(X)[0]\n",
    "classifier.train(X[['balance','duration','age']].values, Y)\n",
    "T = classifier.use(X[['balance','duration','age']].values)\n",
    "plt.figure(figsize=(15, 5))\n",
    "plt.step(range(m)[0::20], Y[0::20], label='Actual')\n",
    "plt.step(range(m)[0::20], T[0::20], label='Predicted')\n",
    "plt.legend()\n",
    "plt.show()"
   ]
  },
  {
   "cell_type": "code",
   "execution_count": 124,
   "metadata": {},
   "outputs": [
    {
     "data": {
      "text/markdown": [
       "### Confusion Matrix"
      ],
      "text/plain": [
       "<IPython.core.display.Markdown object>"
      ]
     },
     "metadata": {},
     "output_type": "display_data"
    },
    {
     "name": "stdout",
     "output_type": "stream",
     "text": [
      "Accuary: 75.7142857143%\n",
      "\n",
      "Precision (yes): 0.74\n",
      "Recall (yes): 0.75\n",
      "\n",
      "Precision (no): 0.77\n",
      "Recall (yes): 0.77\n"
     ]
    },
    {
     "data": {
      "text/html": [
       "<div>\n",
       "<style>\n",
       "    .dataframe thead tr:only-child th {\n",
       "        text-align: right;\n",
       "    }\n",
       "\n",
       "    .dataframe thead th {\n",
       "        text-align: left;\n",
       "    }\n",
       "\n",
       "    .dataframe tbody tr th {\n",
       "        vertical-align: top;\n",
       "    }\n",
       "</style>\n",
       "<table border=\"1\" class=\"dataframe\">\n",
       "  <thead>\n",
       "    <tr style=\"text-align: right;\">\n",
       "      <th>Predicted</th>\n",
       "      <th>no</th>\n",
       "      <th>yes</th>\n",
       "    </tr>\n",
       "    <tr>\n",
       "      <th>Actual</th>\n",
       "      <th></th>\n",
       "      <th></th>\n",
       "    </tr>\n",
       "  </thead>\n",
       "  <tbody>\n",
       "    <tr>\n",
       "      <th>no</th>\n",
       "      <td>282</td>\n",
       "      <td>84</td>\n",
       "    </tr>\n",
       "    <tr>\n",
       "      <th>yes</th>\n",
       "      <td>86</td>\n",
       "      <td>248</td>\n",
       "    </tr>\n",
       "  </tbody>\n",
       "</table>\n",
       "</div>"
      ],
      "text/plain": [
       "Predicted   no  yes\n",
       "Actual             \n",
       "no         282   84\n",
       "yes         86  248"
      ]
     },
     "execution_count": 124,
     "metadata": {},
     "output_type": "execute_result"
    }
   ],
   "source": [
    "display(Markdown('### Confusion Matrix'))\n",
    "matrix = pd.crosstab(pd.Series(X['deposit'].values, name='Actual'), pd.Series(['yes' if t == -1 else 'no' for t in T], name='Predicted'))\n",
    "print('Accuary: ' + str((matrix['yes']['yes'] + matrix['no']['no']) * 100 / m) + '%')\n",
    "\n",
    "print()\n",
    "\n",
    "# Precision & recall for class <=50K\n",
    "precision = round(matrix['yes']['yes'] / (matrix['yes']['yes'] + matrix['no']['yes']), 2)\n",
    "recall = round(matrix['yes']['yes'] / (matrix['yes']['yes'] + matrix['yes']['no']), 2)\n",
    "print('Precision (yes): ' + str(precision))\n",
    "print('Recall (yes): ' + str(recall))\n",
    "\n",
    "print()\n",
    "\n",
    "## Precision & recall for class >50K\n",
    "precision = round(matrix['no']['no'] / (matrix['no']['no'] + matrix['yes']['no']), 2)\n",
    "recall = round(matrix['no']['no'] / (matrix['no']['no'] + matrix['no']['yes']), 2)\n",
    "print('Precision (no): ' + str(precision))\n",
    "print('Recall (yes): ' + str(recall))\n",
    "\n",
    "matrix"
   ]
  },
  {
   "cell_type": "markdown",
   "metadata": {},
   "source": [
    "## QDA"
   ]
  },
  {
   "cell_type": "code",
   "execution_count": 196,
   "metadata": {
    "scrolled": false
   },
   "outputs": [
    {
     "data": {
      "image/png": "[encoded data removed]",
      "text/plain": [
       "<matplotlib.figure.Figure at 0x1130fabe0>"
      ]
     },
     "metadata": {},
     "output_type": "display_data"
    }
   ],
   "source": [
    "classifier = QDA()\n",
    "X = train\n",
    "Y = [-1 if y == 'yes' else 1 for y in X['deposit'].values ]\n",
    "m = np.shape(X)[0]\n",
    "classifier.train(X[['balance','duration']].values, Y)\n",
    "T = classifier.use(X[['balance','duration']].values)\n",
    "plt.figure(figsize=(15, 5))\n",
    "plt.step(range(m)[0::200], Y[0::200], label='Actual')\n",
    "plt.step(range(m)[0::200], T[0::400], label='Predicted')\n",
    "plt.legend()\n",
    "plt.show()"
   ]
  },
  {
   "cell_type": "code",
   "execution_count": 207,
   "metadata": {},
   "outputs": [
    {
     "data": {
      "image/png": "[encoded data removed]",
      "text/plain": [
       "<matplotlib.figure.Figure at 0x113096d30>"
      ]
     },
     "metadata": {},
     "output_type": "display_data"
    }
   ],
   "source": [
    "classifier = QDA()\n",
    "X = test\n",
    "Y = [-1 if y == 'yes' else 1 for y in X['deposit'].values ]\n",
    "m = np.shape(X)[0]\n",
    "classifier.train(X[['balance','duration']].values, Y)\n",
    "T = classifier.use(X[['balance','duration']].values)\n",
    "plt.figure(figsize=(15,5))\n",
    "plt.step(range(m)[0::100], Y[0::100], label='Actual')\n",
    "plt.step(range(m)[0::100], T[0::200], label='Predicted')\n",
    "plt.legend()\n",
    "plt.show()"
   ]
  },
  {
   "cell_type": "code",
   "execution_count": 126,
   "metadata": {},
   "outputs": [
    {
     "data": {
      "text/markdown": [
       "### Confusion Matrix"
      ],
      "text/plain": [
       "<IPython.core.display.Markdown object>"
      ]
     },
     "metadata": {},
     "output_type": "display_data"
    },
    {
     "name": "stdout",
     "output_type": "stream",
     "text": [
      "Accuary: 48.3%\n",
      "\n",
      "Precision (yes): 0.48\n",
      "Recall (yes): 0.46\n",
      "\n",
      "Precision (no): 0.48\n",
      "Recall (no): 0.5\n"
     ]
    },
    {
     "data": {
      "text/html": [
       "<div>\n",
       "<style>\n",
       "    .dataframe thead tr:only-child th {\n",
       "        text-align: right;\n",
       "    }\n",
       "\n",
       "    .dataframe thead th {\n",
       "        text-align: left;\n",
       "    }\n",
       "\n",
       "    .dataframe tbody tr th {\n",
       "        vertical-align: top;\n",
       "    }\n",
       "</style>\n",
       "<table border=\"1\" class=\"dataframe\">\n",
       "  <thead>\n",
       "    <tr style=\"text-align: right;\">\n",
       "      <th>Predicted</th>\n",
       "      <th>no</th>\n",
       "      <th>yes</th>\n",
       "    </tr>\n",
       "    <tr>\n",
       "      <th>Actual</th>\n",
       "      <th></th>\n",
       "      <th></th>\n",
       "    </tr>\n",
       "  </thead>\n",
       "  <tbody>\n",
       "    <tr>\n",
       "      <th>no</th>\n",
       "      <td>251</td>\n",
       "      <td>268</td>\n",
       "    </tr>\n",
       "    <tr>\n",
       "      <th>yes</th>\n",
       "      <td>249</td>\n",
       "      <td>232</td>\n",
       "    </tr>\n",
       "  </tbody>\n",
       "</table>\n",
       "</div>"
      ],
      "text/plain": [
       "Predicted   no  yes\n",
       "Actual             \n",
       "no         251  268\n",
       "yes        249  232"
      ]
     },
     "execution_count": 126,
     "metadata": {},
     "output_type": "execute_result"
    }
   ],
   "source": [
    "display(Markdown('### Confusion Matrix'))\n",
    "matrix = pd.crosstab(pd.Series(X['deposit'].values, name='Actual'), pd.Series(['yes' if t == -1 else 'no' for t in T], name='Predicted'))\n",
    "print('Accuary: ' + str((matrix['yes']['yes'] + matrix['no']['no']) * 100 / m) + '%')\n",
    "\n",
    "print()\n",
    "\n",
    "# Precision & recall for class <=50K\n",
    "precision = round(matrix['yes']['yes'] / (matrix['yes']['yes'] + matrix['no']['yes']), 2)\n",
    "recall = round(matrix['yes']['yes'] / (matrix['yes']['yes'] + matrix['yes']['no']), 2)\n",
    "print('Precision (yes): ' + str(precision))\n",
    "print('Recall (yes): ' + str(recall))\n",
    "\n",
    "print()\n",
    "\n",
    "## Precision & recall for class >50K\n",
    "precision = round(matrix['no']['no'] / (matrix['no']['no'] + matrix['yes']['no']), 2)\n",
    "recall = round(matrix['no']['no'] / (matrix['no']['no'] + matrix['no']['yes']), 2)\n",
    "print('Precision (no): ' + str(precision))\n",
    "print('Recall (no): ' + str(recall))\n",
    "\n",
    "matrix"
   ]
  },
  {
   "cell_type": "markdown",
   "metadata": {},
   "source": [
    "## LDA "
   ]
  },
  {
   "cell_type": "code",
   "execution_count": 206,
   "metadata": {},
   "outputs": [
    {
     "data": {
      "image/png": "[encoded data removed]",
      "text/plain": [
       "<matplotlib.figure.Figure at 0x112f17e48>"
      ]
     },
     "metadata": {},
     "output_type": "display_data"
    }
   ],
   "source": [
    "classifier = LDA()\n",
    "X = train\n",
    "Y = [-1 if y == 'yes' else 1 for y in X['deposit'].values ]\n",
    "m = np.shape(X)[0]\n",
    "classifier.train(X[['balance','duration','age']].values, Y)\n",
    "T = classifier.use(X[['balance','duration','age']].values)\n",
    "plt.figure(figsize=(15,5))\n",
    "plt.step(range(m)[0::100], Y[0::100], label='Actual')\n",
    "plt.step(range(m)[0::100], T[0::200], label='Predicted')\n",
    "plt.legend()\n",
    "plt.show()"
   ]
  },
  {
   "cell_type": "code",
   "execution_count": 205,
   "metadata": {},
   "outputs": [
    {
     "data": {
      "image/png": "[encoded data removed]",
      "text/plain": [
       "<matplotlib.figure.Figure at 0x1165f4c88>"
      ]
     },
     "metadata": {},
     "output_type": "display_data"
    }
   ],
   "source": [
    "classifier = LDA()\n",
    "X = test\n",
    "Y = [-1 if y == 'yes' else 1 for y in X['deposit'].values ]\n",
    "m = np.shape(X)[0]\n",
    "classifier.train(X[['balance','duration','age']].values, Y)\n",
    "T = classifier.use(X[['balance','duration','age']].values)\n",
    "plt.figure(figsize=(15,5))\n",
    "plt.step(range(m)[0::20], Y[0::20], label='Actual')\n",
    "plt.step(range(m)[0::20], T[0::40], label='Predicted')\n",
    "plt.legend()\n",
    "plt.show()"
   ]
  },
  {
   "cell_type": "code",
   "execution_count": 128,
   "metadata": {},
   "outputs": [
    {
     "data": {
      "text/markdown": [
       "### Confusion Matrix"
      ],
      "text/plain": [
       "<IPython.core.display.Markdown object>"
      ]
     },
     "metadata": {},
     "output_type": "display_data"
    },
    {
     "name": "stdout",
     "output_type": "stream",
     "text": [
      "Accuary: 50.8571428571%\n",
      "\n",
      "Precision (yes): 0.51\n",
      "Recall (yes): 0.49\n",
      "\n",
      "Precision (no): 0.51\n",
      "Recall (no): 0.53\n"
     ]
    },
    {
     "data": {
      "text/html": [
       "<div>\n",
       "<style>\n",
       "    .dataframe thead tr:only-child th {\n",
       "        text-align: right;\n",
       "    }\n",
       "\n",
       "    .dataframe thead th {\n",
       "        text-align: left;\n",
       "    }\n",
       "\n",
       "    .dataframe tbody tr th {\n",
       "        vertical-align: top;\n",
       "    }\n",
       "</style>\n",
       "<table border=\"1\" class=\"dataframe\">\n",
       "  <thead>\n",
       "    <tr style=\"text-align: right;\">\n",
       "      <th>Predicted</th>\n",
       "      <th>no</th>\n",
       "      <th>yes</th>\n",
       "    </tr>\n",
       "    <tr>\n",
       "      <th>Actual</th>\n",
       "      <th></th>\n",
       "      <th></th>\n",
       "    </tr>\n",
       "  </thead>\n",
       "  <tbody>\n",
       "    <tr>\n",
       "      <th>no</th>\n",
       "      <td>186</td>\n",
       "      <td>180</td>\n",
       "    </tr>\n",
       "    <tr>\n",
       "      <th>yes</th>\n",
       "      <td>164</td>\n",
       "      <td>170</td>\n",
       "    </tr>\n",
       "  </tbody>\n",
       "</table>\n",
       "</div>"
      ],
      "text/plain": [
       "Predicted   no  yes\n",
       "Actual             \n",
       "no         186  180\n",
       "yes        164  170"
      ]
     },
     "execution_count": 128,
     "metadata": {},
     "output_type": "execute_result"
    }
   ],
   "source": [
    "display(Markdown('### Confusion Matrix'))\n",
    "matrix = pd.crosstab(pd.Series(X['deposit'].values, name='Actual'), pd.Series(['yes' if t == -1 else 'no' for t in T], name='Predicted'))\n",
    "print('Accuary: ' + str((matrix['yes']['yes'] + matrix['no']['no']) * 100 / m) + '%')\n",
    "\n",
    "print()\n",
    "\n",
    "# Precision & recall for class <=50K\n",
    "precision = round(matrix['yes']['yes'] / (matrix['yes']['yes'] + matrix['no']['yes']), 2)\n",
    "recall = round(matrix['yes']['yes'] / (matrix['yes']['yes'] + matrix['yes']['no']), 2)\n",
    "print('Precision (yes): ' + str(precision))\n",
    "print('Recall (yes): ' + str(recall))\n",
    "\n",
    "print()\n",
    "\n",
    "## Precision & recall for class >50K\n",
    "precision = round(matrix['no']['no'] / (matrix['no']['no'] + matrix['yes']['no']), 2)\n",
    "recall = round(matrix['no']['no'] / (matrix['no']['no'] + matrix['no']['yes']), 2)\n",
    "print('Precision (no): ' + str(precision))\n",
    "print('Recall (no): ' + str(recall))\n",
    "\n",
    "matrix"
   ]
  },
  {
   "cell_type": "markdown",
   "metadata": {},
   "source": [
    "## LOGISTIC REGRESSION"
   ]
  },
  {
   "cell_type": "code",
   "execution_count": 203,
   "metadata": {},
   "outputs": [
    {
     "name": "stderr",
     "output_type": "stream",
     "text": [
      "/Users/sshaik3/anaconda3/lib/python3.6/site-packages/ipykernel_launcher.py:5: RuntimeWarning: overflow encountered in exp\n",
      "  \"\"\"\n",
      "/Users/sshaik3/anaconda3/lib/python3.6/site-packages/ipykernel_launcher.py:6: RuntimeWarning: invalid value encountered in true_divide\n",
      "  \n"
     ]
    },
    {
     "data": {
      "image/png": "[encoded data removed]",
      "text/plain": [
       "<matplotlib.figure.Figure at 0x113083eb8>"
      ]
     },
     "metadata": {},
     "output_type": "display_data"
    }
   ],
   "source": [
    "classifier = LogisticRegression()\n",
    "X = train\n",
    "Y = [-1 if y == 'yes' else 1 for y in X['deposit'].values ]\n",
    "m = np.shape(X)[0]\n",
    "classifier.train(X[['balance','duration','age']].values, Y)\n",
    "T = classifier.use(X[['balance','duration','age']].values)\n",
    "plt.figure(figsize=(15,5))\n",
    "plt.step(range(m)[0::50], Y[0::50], label='Actual')\n",
    "plt.step(range(m)[0::50], T[0::50], label='Predicted')\n",
    "plt.legend()\n",
    "plt.show()"
   ]
  },
  {
   "cell_type": "code",
   "execution_count": 189,
   "metadata": {},
   "outputs": [
    {
     "name": "stderr",
     "output_type": "stream",
     "text": [
      "/Users/sshaik3/anaconda3/lib/python3.6/site-packages/ipykernel_launcher.py:5: RuntimeWarning: overflow encountered in exp\n",
      "  \"\"\"\n",
      "/Users/sshaik3/anaconda3/lib/python3.6/site-packages/ipykernel_launcher.py:6: RuntimeWarning: invalid value encountered in true_divide\n",
      "  \n"
     ]
    },
    {
     "data": {
      "image/png": "[encoded data removed]",
      "text/plain": [
       "<matplotlib.figure.Figure at 0x10ee93c88>"
      ]
     },
     "metadata": {},
     "output_type": "display_data"
    }
   ],
   "source": [
    "classifier = LogisticRegression()\n",
    "X = test\n",
    "Y = [-1 if y == 'yes' else 1 for y in X['deposit'].values ]\n",
    "m = np.shape(X)[0]\n",
    "classifier.train(X[['balance','duration','age']].values, Y)\n",
    "T = classifier.use(X[['balance','duration','age']].values)\n",
    "plt.figure(figsize=(20, 10))\n",
    "plt.step(range(m)[0::200], Y[0::200], label='Actual')\n",
    "plt.step(range(m)[0::200], T[0::200], label='Predicted')\n",
    "plt.legend()\n",
    "plt.show()"
   ]
  },
  {
   "cell_type": "code",
   "execution_count": 130,
   "metadata": {},
   "outputs": [
    {
     "data": {
      "text/markdown": [
       "### Confusion Matrix"
      ],
      "text/plain": [
       "<IPython.core.display.Markdown object>"
      ]
     },
     "metadata": {},
     "output_type": "display_data"
    },
    {
     "name": "stdout",
     "output_type": "stream",
     "text": [
      "Accuary: 72.8571428571%\n",
      "\n",
      "Precision (yes): 0.61\n",
      "Recall (yes): 0.78\n",
      "\n",
      "Precision (no): 0.84\n",
      "Recall (no): 0.7\n"
     ]
    },
    {
     "data": {
      "text/html": [
       "<div>\n",
       "<style>\n",
       "    .dataframe thead tr:only-child th {\n",
       "        text-align: right;\n",
       "    }\n",
       "\n",
       "    .dataframe thead th {\n",
       "        text-align: left;\n",
       "    }\n",
       "\n",
       "    .dataframe tbody tr th {\n",
       "        vertical-align: top;\n",
       "    }\n",
       "</style>\n",
       "<table border=\"1\" class=\"dataframe\">\n",
       "  <thead>\n",
       "    <tr style=\"text-align: right;\">\n",
       "      <th>Predicted</th>\n",
       "      <th>no</th>\n",
       "      <th>yes</th>\n",
       "    </tr>\n",
       "    <tr>\n",
       "      <th>Actual</th>\n",
       "      <th></th>\n",
       "      <th></th>\n",
       "    </tr>\n",
       "  </thead>\n",
       "  <tbody>\n",
       "    <tr>\n",
       "      <th>no</th>\n",
       "      <td>306</td>\n",
       "      <td>59</td>\n",
       "    </tr>\n",
       "    <tr>\n",
       "      <th>yes</th>\n",
       "      <td>131</td>\n",
       "      <td>204</td>\n",
       "    </tr>\n",
       "  </tbody>\n",
       "</table>\n",
       "</div>"
      ],
      "text/plain": [
       "Predicted   no  yes\n",
       "Actual             \n",
       "no         306   59\n",
       "yes        131  204"
      ]
     },
     "execution_count": 130,
     "metadata": {},
     "output_type": "execute_result"
    }
   ],
   "source": [
    "display(Markdown('### Confusion Matrix'))\n",
    "matrix = pd.crosstab(pd.Series(X['deposit'].values, name='Actual'), pd.Series(['yes' if t == -1 else 'no' for t in T], name='Predicted'))\n",
    "print('Accuary: ' + str((matrix['yes']['yes'] + matrix['no']['no']) * 100 / m) + '%')\n",
    "\n",
    "print()\n",
    "\n",
    "# Precision & recall for class <=50K\n",
    "precision = round(matrix['yes']['yes'] / (matrix['yes']['yes'] + matrix['no']['yes']), 2)\n",
    "recall = round(matrix['yes']['yes'] / (matrix['yes']['yes'] + matrix['yes']['no']), 2)\n",
    "print('Precision (yes): ' + str(precision))\n",
    "print('Recall (yes): ' + str(recall))\n",
    "\n",
    "print()\n",
    "\n",
    "## Precision & recall for class >50K\n",
    "precision = round(matrix['no']['no'] / (matrix['no']['no'] + matrix['yes']['no']), 2)\n",
    "recall = round(matrix['no']['no'] / (matrix['no']['no'] + matrix['no']['yes']), 2)\n",
    "print('Precision (no): ' + str(precision))\n",
    "print('Recall (no): ' + str(recall))\n",
    "\n",
    "matrix"
   ]
  },
  {
   "cell_type": "markdown",
   "metadata": {},
   "source": [
    "# Conclusions\n",
    "\n",
    "Summarize your work here. \n",
    "Which classifier do you think the best? \n",
    "Discuss the challenges or somethat that you learned. \n",
    "If you have any suggestion about the assignment, you can write about it. "
   ]
  },
  {
   "cell_type": "markdown",
   "metadata": {},
   "source": [
    "# References"
   ]
  },
  {
   "cell_type": "markdown",
   "metadata": {},
   "source": [
    "## <font color='#04B4AE'> REFERENCES:</font>\n",
    "\n",
    "\n",
    "https://archive.ics.uci.edu/ml/datasets/Bank+Marketing <br>\n",
    "\n",
    "https://www.kaggle.com/chaitanya94/house-sales-in-king-county/data<br>\n",
    "\n",
    "https://seaborn.pydata.org/tutorial/categorical.html<br>\n",
    "\n",
    "https://python-graph-gallery.com/seaborn/ <br>\n",
    "\n",
    "https://seaborn.pydata.org/examples/index.html <br>\n",
    "\n",
    "http://www.scipy-lectures.org/intro/matplotlib/index.html <br>\n",
    "\n",
    "https://seaborn.pydata.org/generated/seaborn.countplot.html <br>"
   ]
  },
  {
   "cell_type": "markdown",
   "metadata": {},
   "source": [
    "# Extra Credit\n",
    "\n",
    "Search for a ordinal data set and apply your classifiers to it. \n",
    "Repeat the experiments on it. \n",
    "Do you have different observation from previous results? \n",
    "Were you able to observe that we discussed in class about logistic regression? \n",
    "For a full extra credit point, you need to discuss all bullet points in Results section.     "
   ]
  },
  {
   "cell_type": "markdown",
   "metadata": {},
   "source": [
    "## Grading\n",
    "\n",
    "DO NOT forget to submit your data! Your notebook is supposed to run well after running your codes. \n",
    "\n",
    "\n",
    "points | | description\n",
    "--|--|:--\n",
    "5 | Overview| states the objective and the appraoch \n",
    "15 | Data | \n",
    " | 5| description \n",
    " | 5| plots for understanding or analysis \n",
    " | 5| preliminary observation \n",
    "25 | Methods | \n",
    " |10| Summary of Classification models\n",
    " | 5| Explanation of codes\n",
    " |10| Pocket, LDA, QDA, Logistic Regression\n",
    "40 | Experiments \n",
    "| 5| Discussion about evaluation metrics\n",
    "| 5| Discussion about train and test accuracies\n",
    "|20| plots for results (5 for each algorithm)\n",
    "|10| Discussions about classificaion model comparison\n",
    "5 | |Conclusions \n",
    "5 | |Referemces\n",
    "5 | |Grammar and spelling error (Proofread please)"
   ]
  }
 ],
 "metadata": {
  "kernelspec": {
   "display_name": "Python 3",
   "language": "python",
   "name": "python3"
  },
  "language_info": {
   "codemirror_mode": {
    "name": "ipython",
    "version": 3
   },
   "file_extension": ".py",
   "mimetype": "text/x-python",
   "name": "python",
   "nbconvert_exporter": "python",
   "pygments_lexer": "ipython3",
   "version": "3.6.3"
  }
 },
 "nbformat": 4,
 "nbformat_minor": 2
}
