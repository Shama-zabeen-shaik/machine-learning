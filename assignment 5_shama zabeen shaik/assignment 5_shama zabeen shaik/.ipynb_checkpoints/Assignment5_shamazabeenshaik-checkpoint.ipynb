{
 "cells": [
  {
   "cell_type": "markdown",
   "metadata": {},
   "source": [
    "# Assignment #5 - Deep Learning\n",
    "\n",
    "### <font color=\"red\"> DUE: Apr 19 (Thursday) 11:00 pm </font>  "
   ]
  },
  {
   "cell_type": "markdown",
   "metadata": {},
   "source": [
    "Shama Zabeen Shaik"
   ]
  },
  {
   "cell_type": "markdown",
   "metadata": {},
   "source": [
    "# I. Overview\n",
    "\n",
    "**The overview of this project is to implement deep neural networks using tensorflow, inherit the NeuralNet class for regression,iimplement different layers of neural networks and check their accuracy and error rate.**\n",
    "**The above algorithms are implemented to the dataset containing the records from direct marketing campaigns of a Porteguese Banking Institution. The dataset is divided into train and test data and the experiments are performed on both the train and the test data and then the results are compared.**"
   ]
  },
  {
   "cell_type": "markdown",
   "metadata": {},
   "source": [
    "### II. INTRODUCTION OF DATA FOR CLASSIFICATION\n",
    "#### SOURCE OF DATA :\n",
    "\n",
    "https://archive.ics.uci.edu/ml/datasets/Bank+Marketing\n",
    "\n",
    "Data Set Description:\n",
    "\n",
    "The data set considered is from the direct marketing campaigns of a Porteguese Banking Institution. The campaigns were mostly phone call based, with more than one contact requirement to the client in order to access if the subscription was made or not. The data set is a CSV file with 17 inputs, ordered by date.\n",
    "\n",
    "The classification Goal is to predict if the client would subscribe (yes/no) a term deposit (variable y).\n",
    "\n",
    "The Data set has the following attributes\n",
    "\n",
    "Input variables:\n",
    "\n",
    "Bank Client Data:\n",
    "\n",
    "1 - age (numeric)\n",
    "\n",
    "2 - job : type of job (categorical: 'admin.','blue-collar','entrepreneur','housemaid','management','retired','self- employed','services','student','technician','unemployed','unknown')\n",
    "\n",
    "3 - marital : marital status (categorical: 'divorced','married','single','unknown'; note: 'divorced' means divorced or widowed)\n",
    "\n",
    "4 - education (categorical: 'basic.4y','basic.6y','basic.9y','high.school','illiterate','professional.course','university.degree','unknown')\n",
    "\n",
    "5 - default: has credit in default? (categorical: 'no','yes','unknown')\n",
    "\n",
    "6 - housing: has housing loan? (categorical: 'no','yes','unknown')\n",
    "\n",
    "7 - loan: has personal loan? (categorical: 'no','yes','unknown') related with the last contact of the current campaign:\n",
    "\n",
    "8 - contact: contact communication type (categorical: 'cellular','telephone')\n",
    "\n",
    "9 - month: last contact month of year (categorical: 'jan', 'feb', 'mar', ..., 'nov', 'dec')\n",
    "\n",
    "10 - day_of_week: last contact day of the week (categorical: 'mon','tue','wed','thu','fri')\n",
    "\n",
    "11 - duration: last contact duration, in seconds (numeric). Important note: this attribute highly affects the output target (e.g., if duration=0 then y='no').\n",
    "\n",
    "Yet, the duration is not known before a call is performed. Also, after the end of the call y is obviously known. Thus, this input should only be included for benchmark purposes and should be discarded if the intention is to have a realistic predictive model.\n",
    "\n",
    "Other Attributes:\n",
    "\n",
    "12 - campaign: number of contacts performed during this campaign and for this client (numeric, includes last contact)\n",
    "\n",
    "13 - pdays: number of days that passed by after the client was last contacted from a previous campaign (numeric; 999 means client was not previously contacted)\n",
    "\n",
    "14 - previous: number of contacts performed before this campaign and for this client (numeric)\n",
    "\n",
    "15 - poutcome: outcome of the previous marketing campaign (categorical: 'failure','nonexistent','success')\n",
    "\n",
    "Social and Economic Context Attributes\n",
    "\n",
    "16 - emp.var.rate: employment variation rate - quarterly indicator (numeric)\n",
    "\n",
    "17 - cons.price.idx: consumer price index - monthly indicator (numeric)\n",
    "\n",
    "18 - cons.conf.idx: consumer confidence index - monthly indicator (numeric)\n",
    "\n",
    "19 - euribor3m: euribor 3 month rate - daily indicator (numeric)\n",
    "\n",
    "20 - nr.employed: number of employees - quarterly indicator (numeric)\n",
    "\n",
    "Output variable (desired target):\n",
    "\n"
   ]
  },
  {
   "cell_type": "code",
   "execution_count": 1,
   "metadata": {},
   "outputs": [
    {
     "data": {
      "text/html": [
       "<div>\n",
       "<style>\n",
       "    .dataframe thead tr:only-child th {\n",
       "        text-align: right;\n",
       "    }\n",
       "\n",
       "    .dataframe thead th {\n",
       "        text-align: left;\n",
       "    }\n",
       "\n",
       "    .dataframe tbody tr th {\n",
       "        vertical-align: top;\n",
       "    }\n",
       "</style>\n",
       "<table border=\"1\" class=\"dataframe\">\n",
       "  <thead>\n",
       "    <tr style=\"text-align: right;\">\n",
       "      <th></th>\n",
       "      <th>age</th>\n",
       "      <th>job</th>\n",
       "      <th>marital</th>\n",
       "      <th>education</th>\n",
       "      <th>default</th>\n",
       "      <th>balance</th>\n",
       "      <th>housing</th>\n",
       "      <th>loan</th>\n",
       "      <th>contact</th>\n",
       "      <th>day</th>\n",
       "      <th>month</th>\n",
       "      <th>duration</th>\n",
       "      <th>campaign</th>\n",
       "      <th>pdays</th>\n",
       "      <th>previous</th>\n",
       "      <th>poutcome</th>\n",
       "      <th>deposit</th>\n",
       "    </tr>\n",
       "  </thead>\n",
       "  <tbody>\n",
       "    <tr>\n",
       "      <th>0</th>\n",
       "      <td>59</td>\n",
       "      <td>admin.</td>\n",
       "      <td>married</td>\n",
       "      <td>secondary</td>\n",
       "      <td>no</td>\n",
       "      <td>2343</td>\n",
       "      <td>yes</td>\n",
       "      <td>no</td>\n",
       "      <td>unknown</td>\n",
       "      <td>5</td>\n",
       "      <td>may</td>\n",
       "      <td>1042</td>\n",
       "      <td>1</td>\n",
       "      <td>-1</td>\n",
       "      <td>0</td>\n",
       "      <td>unknown</td>\n",
       "      <td>yes</td>\n",
       "    </tr>\n",
       "    <tr>\n",
       "      <th>1</th>\n",
       "      <td>56</td>\n",
       "      <td>admin.</td>\n",
       "      <td>married</td>\n",
       "      <td>secondary</td>\n",
       "      <td>no</td>\n",
       "      <td>45</td>\n",
       "      <td>no</td>\n",
       "      <td>no</td>\n",
       "      <td>unknown</td>\n",
       "      <td>5</td>\n",
       "      <td>may</td>\n",
       "      <td>1467</td>\n",
       "      <td>1</td>\n",
       "      <td>-1</td>\n",
       "      <td>0</td>\n",
       "      <td>unknown</td>\n",
       "      <td>yes</td>\n",
       "    </tr>\n",
       "    <tr>\n",
       "      <th>2</th>\n",
       "      <td>41</td>\n",
       "      <td>technician</td>\n",
       "      <td>married</td>\n",
       "      <td>secondary</td>\n",
       "      <td>no</td>\n",
       "      <td>1270</td>\n",
       "      <td>yes</td>\n",
       "      <td>no</td>\n",
       "      <td>unknown</td>\n",
       "      <td>5</td>\n",
       "      <td>may</td>\n",
       "      <td>1389</td>\n",
       "      <td>1</td>\n",
       "      <td>-1</td>\n",
       "      <td>0</td>\n",
       "      <td>unknown</td>\n",
       "      <td>yes</td>\n",
       "    </tr>\n",
       "    <tr>\n",
       "      <th>3</th>\n",
       "      <td>55</td>\n",
       "      <td>services</td>\n",
       "      <td>married</td>\n",
       "      <td>secondary</td>\n",
       "      <td>no</td>\n",
       "      <td>2476</td>\n",
       "      <td>yes</td>\n",
       "      <td>no</td>\n",
       "      <td>unknown</td>\n",
       "      <td>5</td>\n",
       "      <td>may</td>\n",
       "      <td>579</td>\n",
       "      <td>1</td>\n",
       "      <td>-1</td>\n",
       "      <td>0</td>\n",
       "      <td>unknown</td>\n",
       "      <td>yes</td>\n",
       "    </tr>\n",
       "    <tr>\n",
       "      <th>4</th>\n",
       "      <td>54</td>\n",
       "      <td>admin.</td>\n",
       "      <td>married</td>\n",
       "      <td>tertiary</td>\n",
       "      <td>no</td>\n",
       "      <td>184</td>\n",
       "      <td>no</td>\n",
       "      <td>no</td>\n",
       "      <td>unknown</td>\n",
       "      <td>5</td>\n",
       "      <td>may</td>\n",
       "      <td>673</td>\n",
       "      <td>2</td>\n",
       "      <td>-1</td>\n",
       "      <td>0</td>\n",
       "      <td>unknown</td>\n",
       "      <td>yes</td>\n",
       "    </tr>\n",
       "    <tr>\n",
       "      <th>5</th>\n",
       "      <td>42</td>\n",
       "      <td>management</td>\n",
       "      <td>single</td>\n",
       "      <td>tertiary</td>\n",
       "      <td>no</td>\n",
       "      <td>0</td>\n",
       "      <td>yes</td>\n",
       "      <td>yes</td>\n",
       "      <td>unknown</td>\n",
       "      <td>5</td>\n",
       "      <td>may</td>\n",
       "      <td>562</td>\n",
       "      <td>2</td>\n",
       "      <td>-1</td>\n",
       "      <td>0</td>\n",
       "      <td>unknown</td>\n",
       "      <td>yes</td>\n",
       "    </tr>\n",
       "  </tbody>\n",
       "</table>\n",
       "</div>"
      ],
      "text/plain": [
       "   age         job  marital  education default  balance housing loan  contact  \\\n",
       "0   59      admin.  married  secondary      no     2343     yes   no  unknown   \n",
       "1   56      admin.  married  secondary      no       45      no   no  unknown   \n",
       "2   41  technician  married  secondary      no     1270     yes   no  unknown   \n",
       "3   55    services  married  secondary      no     2476     yes   no  unknown   \n",
       "4   54      admin.  married   tertiary      no      184      no   no  unknown   \n",
       "5   42  management   single   tertiary      no        0     yes  yes  unknown   \n",
       "\n",
       "   day month  duration  campaign  pdays  previous poutcome deposit  \n",
       "0    5   may      1042         1     -1         0  unknown     yes  \n",
       "1    5   may      1467         1     -1         0  unknown     yes  \n",
       "2    5   may      1389         1     -1         0  unknown     yes  \n",
       "3    5   may       579         1     -1         0  unknown     yes  \n",
       "4    5   may       673         2     -1         0  unknown     yes  \n",
       "5    5   may       562         2     -1         0  unknown     yes  "
      ]
     },
     "execution_count": 1,
     "metadata": {},
     "output_type": "execute_result"
    }
   ],
   "source": [
    "import numpy as np\n",
    "import pandas as pd\n",
    "import seaborn as sns\n",
    "import matplotlib.pyplot as plt\n",
    "%matplotlib inline\n",
    "import copy\n",
    "bankFrame = pd.read_csv(r\"bank.csv\")\n",
    "bankFrame.head(6)\n"
   ]
  },
  {
   "cell_type": "code",
   "execution_count": 2,
   "metadata": {
    "collapsed": true
   },
   "outputs": [],
   "source": [
    "bankFrame = pd.read_csv(\"bank.csv\")\n",
    "# bankFrame.head()"
   ]
  },
  {
   "cell_type": "code",
   "execution_count": 3,
   "metadata": {
    "collapsed": true
   },
   "outputs": [],
   "source": [
    "if np.any(bankFrame.isnull()) == True:\n",
    "    bankFrame = bankFrame.fillna(0)"
   ]
  },
  {
   "cell_type": "code",
   "execution_count": 4,
   "metadata": {
    "collapsed": true
   },
   "outputs": [],
   "source": [
    "marital_dict = {\"divorced\":1,\"married\":2,\"single\":3}\n",
    "education_dict = {'primary':1,'secondary':2,'tertiary':3,'unknown':4}\n",
    "default_dict = {'no':0,'yes':1}\n",
    "housing_dict = {'no':0,'yes':1}\n",
    "loan_dict = {'no':0,'yes':1}\n",
    "contact_dict = {'cellular':1,'telephone':2,'unknown':3}\n",
    "month_dict = {\"jan\": 1, \"feb\":2, \"mar\":3, \"apr\":4, \"may\":5, \"jun\":6, \n",
    "            \"jul\": 7, \"aug\":8, \"sep\":9, \"oct\":10, \"nov\": 11, \"dec\": 12}\n",
    "outcome_dict = {\"failure\":1,\"other\":2,\"unknown\":3,\"success\":4}\n",
    "deposit_dict = {\"no\":0,\"yes\":1}"
   ]
  },
  {
   "cell_type": "code",
   "execution_count": 5,
   "metadata": {
    "collapsed": true
   },
   "outputs": [],
   "source": [
    "def marital_conv(s):\n",
    "    return marital_dict[s]\n",
    "\n",
    "def education_conv(s):\n",
    "    return education_dict[s]\n",
    "\n",
    "def default_conv(s):\n",
    "    return default_dict[s]\n",
    "\n",
    "def housing_conv(s):\n",
    "    return housing_dict[s]\n",
    "\n",
    "def loan_conv(s):\n",
    "    return loan_dict[s]\n",
    "\n",
    "def contact_conv(s):\n",
    "    return contact_dict[s]\n",
    "\n",
    "def month_conv(s):\n",
    "    return month_dict[s]\n",
    "\n",
    "def outcome_conv(s):\n",
    "    return outcome_dict[s]\n",
    "\n",
    "def deposit_conv(s):\n",
    "    return deposit_dict[s]"
   ]
  },
  {
   "cell_type": "code",
   "execution_count": 6,
   "metadata": {
    "collapsed": true
   },
   "outputs": [],
   "source": [
    "from sklearn.preprocessing import LabelEncoder\n",
    "bank = bankFrame.iloc[:,:-1]\n",
    "\n",
    "lb_make = LabelEncoder()\n",
    "bank[\"job\"] = lb_make.fit_transform(bank[\"job\"])\n",
    "#bank"
   ]
  },
  {
   "cell_type": "code",
   "execution_count": 7,
   "metadata": {},
   "outputs": [
    {
     "name": "stdout",
     "output_type": "stream",
     "text": [
      "<class 'pandas.core.frame.DataFrame'>\n",
      "RangeIndex: 11162 entries, 0 to 11161\n",
      "Data columns (total 17 columns):\n",
      "age          11162 non-null int64\n",
      "job          11162 non-null object\n",
      "marital      11162 non-null object\n",
      "education    11162 non-null object\n",
      "default      11162 non-null object\n",
      "balance      11162 non-null int64\n",
      "housing      11162 non-null object\n",
      "loan         11162 non-null object\n",
      "contact      11162 non-null object\n",
      "day          11162 non-null int64\n",
      "month        11162 non-null object\n",
      "duration     11162 non-null int64\n",
      "campaign     11162 non-null int64\n",
      "pdays        11162 non-null int64\n",
      "previous     11162 non-null int64\n",
      "poutcome     11162 non-null object\n",
      "deposit      11162 non-null object\n",
      "dtypes: int64(7), object(10)\n",
      "memory usage: 1.4+ MB\n"
     ]
    }
   ],
   "source": [
    "bankFrame.info()"
   ]
  },
  {
   "cell_type": "markdown",
   "metadata": {},
   "source": [
    "**Checking if there are any missing values in any of the attributes in the data set. Since the total count of instances in all the attributes is the same, we can understand that there are no missing values and can now continue with the furthur stages of pre-processing**"
   ]
  },
  {
   "cell_type": "code",
   "execution_count": 8,
   "metadata": {},
   "outputs": [
    {
     "data": {
      "text/html": [
       "<div>\n",
       "<style>\n",
       "    .dataframe thead tr:only-child th {\n",
       "        text-align: right;\n",
       "    }\n",
       "\n",
       "    .dataframe thead th {\n",
       "        text-align: left;\n",
       "    }\n",
       "\n",
       "    .dataframe tbody tr th {\n",
       "        vertical-align: top;\n",
       "    }\n",
       "</style>\n",
       "<table border=\"1\" class=\"dataframe\">\n",
       "  <thead>\n",
       "    <tr style=\"text-align: right;\">\n",
       "      <th></th>\n",
       "      <th>count</th>\n",
       "      <th>mean</th>\n",
       "      <th>std</th>\n",
       "      <th>min</th>\n",
       "      <th>25%</th>\n",
       "      <th>50%</th>\n",
       "      <th>75%</th>\n",
       "      <th>max</th>\n",
       "    </tr>\n",
       "  </thead>\n",
       "  <tbody>\n",
       "    <tr>\n",
       "      <th>age</th>\n",
       "      <td>11162.0</td>\n",
       "      <td>41.231948</td>\n",
       "      <td>11.913369</td>\n",
       "      <td>18.0</td>\n",
       "      <td>32.0</td>\n",
       "      <td>39.0</td>\n",
       "      <td>49.00</td>\n",
       "      <td>95.0</td>\n",
       "    </tr>\n",
       "    <tr>\n",
       "      <th>balance</th>\n",
       "      <td>11162.0</td>\n",
       "      <td>1528.538524</td>\n",
       "      <td>3225.413326</td>\n",
       "      <td>-6847.0</td>\n",
       "      <td>122.0</td>\n",
       "      <td>550.0</td>\n",
       "      <td>1708.00</td>\n",
       "      <td>81204.0</td>\n",
       "    </tr>\n",
       "    <tr>\n",
       "      <th>day</th>\n",
       "      <td>11162.0</td>\n",
       "      <td>15.658036</td>\n",
       "      <td>8.420740</td>\n",
       "      <td>1.0</td>\n",
       "      <td>8.0</td>\n",
       "      <td>15.0</td>\n",
       "      <td>22.00</td>\n",
       "      <td>31.0</td>\n",
       "    </tr>\n",
       "    <tr>\n",
       "      <th>duration</th>\n",
       "      <td>11162.0</td>\n",
       "      <td>371.993818</td>\n",
       "      <td>347.128386</td>\n",
       "      <td>2.0</td>\n",
       "      <td>138.0</td>\n",
       "      <td>255.0</td>\n",
       "      <td>496.00</td>\n",
       "      <td>3881.0</td>\n",
       "    </tr>\n",
       "    <tr>\n",
       "      <th>campaign</th>\n",
       "      <td>11162.0</td>\n",
       "      <td>2.508421</td>\n",
       "      <td>2.722077</td>\n",
       "      <td>1.0</td>\n",
       "      <td>1.0</td>\n",
       "      <td>2.0</td>\n",
       "      <td>3.00</td>\n",
       "      <td>63.0</td>\n",
       "    </tr>\n",
       "    <tr>\n",
       "      <th>pdays</th>\n",
       "      <td>11162.0</td>\n",
       "      <td>51.330407</td>\n",
       "      <td>108.758282</td>\n",
       "      <td>-1.0</td>\n",
       "      <td>-1.0</td>\n",
       "      <td>-1.0</td>\n",
       "      <td>20.75</td>\n",
       "      <td>854.0</td>\n",
       "    </tr>\n",
       "    <tr>\n",
       "      <th>previous</th>\n",
       "      <td>11162.0</td>\n",
       "      <td>0.832557</td>\n",
       "      <td>2.292007</td>\n",
       "      <td>0.0</td>\n",
       "      <td>0.0</td>\n",
       "      <td>0.0</td>\n",
       "      <td>1.00</td>\n",
       "      <td>58.0</td>\n",
       "    </tr>\n",
       "  </tbody>\n",
       "</table>\n",
       "</div>"
      ],
      "text/plain": [
       "            count         mean          std     min    25%    50%      75%  \\\n",
       "age       11162.0    41.231948    11.913369    18.0   32.0   39.0    49.00   \n",
       "balance   11162.0  1528.538524  3225.413326 -6847.0  122.0  550.0  1708.00   \n",
       "day       11162.0    15.658036     8.420740     1.0    8.0   15.0    22.00   \n",
       "duration  11162.0   371.993818   347.128386     2.0  138.0  255.0   496.00   \n",
       "campaign  11162.0     2.508421     2.722077     1.0    1.0    2.0     3.00   \n",
       "pdays     11162.0    51.330407   108.758282    -1.0   -1.0   -1.0    20.75   \n",
       "previous  11162.0     0.832557     2.292007     0.0    0.0    0.0     1.00   \n",
       "\n",
       "              max  \n",
       "age          95.0  \n",
       "balance   81204.0  \n",
       "day          31.0  \n",
       "duration   3881.0  \n",
       "campaign     63.0  \n",
       "pdays       854.0  \n",
       "previous     58.0  "
      ]
     },
     "execution_count": 8,
     "metadata": {},
     "output_type": "execute_result"
    }
   ],
   "source": [
    "bankFrame.describe().transpose()"
   ]
  },
  {
   "cell_type": "markdown",
   "metadata": {},
   "source": [
    "Since the months in the data set are in the format of Character and not numbers, making the data symmetric by changing days from numbers to characters."
   ]
  },
  {
   "cell_type": "code",
   "execution_count": 9,
   "metadata": {
    "collapsed": true
   },
   "outputs": [],
   "source": [
    "if np.any(bankFrame.isnull()) == True:\n",
    "    bankFrame= bankFrame.fillna(0)"
   ]
  },
  {
   "cell_type": "code",
   "execution_count": 10,
   "metadata": {
    "collapsed": true
   },
   "outputs": [],
   "source": [
    "marital_dict = {\"divorced\":1,\"married\":2,\"single\":3}\n",
    "education_dict = {'primary':1,'secondary':2,'tertiary':3,'unknown':4}\n",
    "default_dict = {'no':0,'yes':1}\n",
    "housing_dict = {'no':0,'yes':1}\n",
    "loan_dict = {'no':0,'yes':1}\n",
    "contact_dict = {'cellular':1,'telephone':2,'unknown':3}\n",
    "month_dict = {\"jan\": 1, \"feb\":2, \"mar\":3, \"apr\":4, \"may\":5, \"jun\":6, \n",
    "            \"jul\": 7, \"aug\":8, \"sep\":9, \"oct\":10, \"nov\": 11, \"dec\": 12}\n",
    "outcome_dict = {\"failure\":1,\"other\":2,\"unknown\":3,\"success\":4}\n",
    "deposit_dict = {\"no\":0,\"yes\":1}"
   ]
  },
  {
   "cell_type": "markdown",
   "metadata": {},
   "source": [
    "### Histogram and Normal Probability Plot"
   ]
  },
  {
   "cell_type": "code",
   "execution_count": 11,
   "metadata": {},
   "outputs": [
    {
     "data": {
      "image/png": "[encoded data removed]",
      "text/plain": [
       "<matplotlib.figure.Figure at 0x108d15fd0>"
      ]
     },
     "metadata": {},
     "output_type": "display_data"
    },
    {
     "data": {
      "text/plain": [
       "<matplotlib.figure.Figure at 0x1a1089e470>"
      ]
     },
     "metadata": {},
     "output_type": "display_data"
    }
   ],
   "source": [
    "from scipy.stats import norm\n",
    "from sklearn.preprocessing import StandardScaler\n",
    "from scipy import stats\n",
    "import seaborn as sns\n",
    "sns.distplot(bankFrame['balance'], fit = norm);\n",
    "fig = plt.figure()\n",
    "plt.show();"
   ]
  },
  {
   "cell_type": "markdown",
   "metadata": {},
   "source": [
    "**Since the data is mostly skewed, and has very less error on skeweness, we are proceeding with the visualization.**"
   ]
  },
  {
   "cell_type": "code",
   "execution_count": 12,
   "metadata": {},
   "outputs": [
    {
     "data": {
      "image/png": "[encoded data removed]",
      "text/plain": [
       "<matplotlib.figure.Figure at 0x1a15e170f0>"
      ]
     },
     "metadata": {},
     "output_type": "display_data"
    }
   ],
   "source": [
    "plt.figure(figsize=(12,8))\n",
    "marital = bankFrame['marital'].value_counts()\n",
    "sns.barplot(y=marital.index, x=marital.values, alpha=0.6)\n",
    "plt.yticks(range(len(bankFrame['marital'].value_counts().index)), ['single', 'married','divorced'])\n",
    "plt.title(\"marriage status\", fontsize=16)\n",
    "plt.xlabel(\"total\", fontsize=16)\n",
    "plt.ylabel(\"marital\", fontsize=16)\n",
    "plt.show();"
   ]
  },
  {
   "cell_type": "markdown",
   "metadata": {},
   "source": [
    "## <font color ='blue'> BAR PLOT </font>\n",
    "\n",
    "** *The above bar-plot shows the marital status of all the customers that were approached for the subscription. From the above plot, we can infer that the majority of the population that are being surved are singles and there could be a high probability of singles accepting more subsciptions.* **\n",
    "\n",
    "*<font color= 'red'>We can also assume that there could a propability of the number of singles accepting the subsciption would be high in number compared to other sets of population as they stand the heighest in the total. </font>*"
   ]
  },
  {
   "cell_type": "code",
   "execution_count": 13,
   "metadata": {
    "collapsed": true
   },
   "outputs": [],
   "source": [
    "from sklearn.preprocessing import LabelEncoder\n",
    "bank = bankFrame.iloc[:,:-1]\n",
    "\n",
    "lb_make = LabelEncoder()\n",
    "bank[\"job\"] = lb_make.fit_transform(bank[\"job\"])"
   ]
  },
  {
   "cell_type": "markdown",
   "metadata": {},
   "source": [
    "## COUNT PLOT"
   ]
  },
  {
   "cell_type": "code",
   "execution_count": 14,
   "metadata": {},
   "outputs": [
    {
     "data": {
      "image/png": "[encoded data removed]",
      "text/plain": [
       "<matplotlib.figure.Figure at 0x1a19162518>"
      ]
     },
     "metadata": {},
     "output_type": "display_data"
    }
   ],
   "source": [
    "plt.figure(figsize=(15,10))\n",
    "sns.countplot(x=\"job\", data =bankFrame, palette=\"Greens_d\");\n",
    "plt.show();"
   ]
  },
  {
   "cell_type": "markdown",
   "metadata": {},
   "source": [
    "** Counting the number of employees in each job domain so as to have an over view of what could be the number of people activating the subscription from the number of people contacted for subscribing.\n",
    "Of all the job roles, the people that are most likely to subscribe are most from management as there are more number of people from that job role.**"
   ]
  },
  {
   "cell_type": "markdown",
   "metadata": {},
   "source": [
    "## BOX PLOT"
   ]
  },
  {
   "cell_type": "code",
   "execution_count": 15,
   "metadata": {},
   "outputs": [
    {
     "data": {
      "text/plain": [
       "<matplotlib.figure.Figure at 0x1a19276ba8>"
      ]
     },
     "metadata": {},
     "output_type": "display_data"
    },
    {
     "data": {
      "image/png": "[encoded data removed]",
      "text/plain": [
       "<matplotlib.figure.Figure at 0x1a192df898>"
      ]
     },
     "metadata": {},
     "output_type": "display_data"
    }
   ],
   "source": [
    "plt.figure(figsize=(12,8))\n",
    "age=bankFrame[(bankFrame['age']>=21) & (bankFrame['age']<=80) ]\n",
    "plt.figure(figsize=(10,8))\n",
    "sns.boxplot( y=age['age'],data=age)\n",
    "plt.title(\"Age boxplot\", fontsize=16)\n",
    "plt.ylabel(\"Age\", fontsize=16)\n",
    "plt.grid()\n",
    "plt.show();"
   ]
  },
  {
   "cell_type": "markdown",
   "metadata": {},
   "source": [
    "### BOX PLOT FOR AGE\n",
    "\n",
    "**The median for the age is aroud 39 and most participants are aged between 33 - 49. **"
   ]
  },
  {
   "cell_type": "markdown",
   "metadata": {},
   "source": [
    "## SCATTER PLOT"
   ]
  },
  {
   "cell_type": "code",
   "execution_count": 16,
   "metadata": {},
   "outputs": [
    {
     "name": "stderr",
     "output_type": "stream",
     "text": [
      "/Users/sshaik3/anaconda3/lib/python3.6/site-packages/ipykernel_launcher.py:4: FutureWarning: 'pandas.tools.plotting.scatter_matrix' is deprecated, import 'pandas.plotting.scatter_matrix' instead.\n",
      "  after removing the cwd from sys.path.\n"
     ]
    },
    {
     "data": {
      "image/png": "[encoded data removed]",
      "text/plain": [
       "<matplotlib.figure.Figure at 0x1a192c6828>"
      ]
     },
     "metadata": {},
     "output_type": "display_data"
    }
   ],
   "source": [
    "from pandas.tools.plotting import scatter_matrix\n",
    "\n",
    "attributes = ['age','balance','duration',]\n",
    "scatter_matrix(bankFrame[attributes], figsize = (14,10))\n",
    "plt.show();"
   ]
  },
  {
   "cell_type": "markdown",
   "metadata": {},
   "source": [
    "#### Scatter Plot:\n",
    "**Some inferences that could be made from the above scatter plot are :** \n",
    "<br>\n",
    "\n",
    "<font color='blue'> 1. As the age increases, the balance and duration left for payment decreases, also the age that has most amoiunt due is around 20-40 </font> \n",
    "\n",
    "<font color='blue'> 2. As the balance decreases, the duration left for payment decreases."
   ]
  },
  {
   "cell_type": "markdown",
   "metadata": {},
   "source": [
    "### BAR PLOT"
   ]
  },
  {
   "cell_type": "code",
   "execution_count": 17,
   "metadata": {},
   "outputs": [
    {
     "data": {
      "image/png": "[encoded data removed]",
      "text/plain": [
       "<matplotlib.figure.Figure at 0x1a1928e588>"
      ]
     },
     "metadata": {},
     "output_type": "display_data"
    }
   ],
   "source": [
    "plt.figure(figsize=(15,10))\n",
    "sns.barplot(x=\"job\", y=\"balance\", hue=\"deposit\", data=bankFrame);\n",
    "plt.show();"
   ]
  },
  {
   "cell_type": "markdown",
   "metadata": {},
   "source": [
    "## ** BAR PLOT**\n",
    "\n",
    "**\n",
    "The above plot is showing a comparision between the job and the balance of the customers that were approached for subscription. The plot shows the rate of acceptance of the subsciption of the term deposits vary with respect to job of the person.**\n",
    "\n",
    "**Refering to the heighest 'yes' in the plot, the retired people are the one's that have most subsciptions, which says that since, they have no income now and have an amount in their bank as balance, it is more secured for them to have an automatic term deposit which could be used in times of emergence.**\n",
    "\n",
    "**Referring to the student, the most subsciptions are 'no' as most of the students are dependent on their parents and not not-self employeed.**\n",
    "\n",
    "\n",
    "**As the self-employeed people have an income the term-deposits are like a good source of savings and hence the subsciptions are mostly, yes.**\n",
    "\n",
    "\n",
    "**People from the services job domain, have a very secured amount of income, so there might not be an immediate need of instant savings, and hence haven't accepted the subscription.\n",
    "**"
   ]
  },
  {
   "cell_type": "markdown",
   "metadata": {},
   "source": [
    "### PIE CHART AND COUNT PLOT"
   ]
  },
  {
   "cell_type": "code",
   "execution_count": 18,
   "metadata": {},
   "outputs": [
    {
     "data": {
      "image/png": "[encoded data removed]",
      "text/plain": [
       "<matplotlib.figure.Figure at 0x1a1060c400>"
      ]
     },
     "metadata": {},
     "output_type": "display_data"
    }
   ],
   "source": [
    "f,ax=plt.subplots(1,2,figsize=(18,8))\n",
    "colors=[\"#F08080\", \"#00FA9A\"]\n",
    "colors1=[\"#00FA9A\",\"#F08080\"]\n",
    "labels = 'Refused a T.D. Suscription', 'Accepted a T.D. Suscription'\n",
    "bankFrame['deposit'].value_counts().plot.pie(explode=[0,0.1],autopct='%1.1f%%',ax=ax[0],shadow=True, colors=colors, labels=labels,fontsize=14)\n",
    "ax[0].set_title('Term Deposits', fontsize=20)\n",
    "ax[0].set_ylabel('% of Total Potential Clients', fontsize=14)\n",
    "sns.countplot('deposit',data=bankFrame,ax=ax[1], palette=colors1)\n",
    "ax[1].set_title('Term Deposits', fontsize=20)\n",
    "ax[1].set_xticklabels(['Accepted', 'Refused'], fontsize=14)\n",
    "plt.show()"
   ]
  },
  {
   "cell_type": "markdown",
   "metadata": {},
   "source": [
    "### PIE CHART AND COUNT PLOT \n",
    "\n",
    "** The PIECHART gives the percentage of the people that are more like to accept the subscription and the count plot gives a number of the people subscribing or not subscribing. **\n",
    "\n",
    "It can be inferred from the above visualizations that the number of subscriptions are going to be majorly refused and a slightly mess are going to be accepted by the people."
   ]
  },
  {
   "cell_type": "markdown",
   "metadata": {},
   "source": [
    "## MODEL 1\n"
   ]
  },
  {
   "cell_type": "markdown",
   "metadata": {},
   "source": [
    "**Keras is a high-level neural networks API, written in Python and capable of running on top of TensorFlow, CNTK, or Theano. It was developed with a focus on enabling fast experimentation. Being able to go from idea to result with the least possible delay is key to doing good research.**"
   ]
  },
  {
   "cell_type": "markdown",
   "metadata": {},
   "source": [
    "User friendliness. Keras is an API designed for human beings, not machines. It puts user experience front and center. Keras follows best practices for reducing cognitive load: it offers consistent & simple APIs, it minimizes the number of user actions required for common use cases, and it provides clear and actionable feedback upon user error.\n",
    "\n",
    "Modularity. A model is understood as a sequence or a graph of standalone, fully-configurable modules that can be plugged together with as little restrictions as possible. In particular, neural layers, cost functions, optimizers, initialization schemes, activation functions, regularization schemes are all standalone modules that you can combine to create new models.\n",
    "\n",
    "Easy extensibility. New modules are simple to add (as new classes and functions), and existing modules provide ample examples. To be able to easily create new modules allows for total expressiveness, making Keras suitable for advanced research.\n",
    "\n",
    "Work with Python. No separate models configuration files in a declarative format. Models are described in Python code, which is compact, easier to debug, and allows for ease of extensibility."
   ]
  },
  {
   "cell_type": "markdown",
   "metadata": {},
   "source": [
    "For the first model, I am making use of 5 hidden layers with 6,5,4,5,6,1 number of inputs in each layer."
   ]
  },
  {
   "cell_type": "code",
   "execution_count": 19,
   "metadata": {
    "collapsed": true
   },
   "outputs": [],
   "source": [
    "# Importing the libraries\n",
    "import numpy as np\n",
    "import matplotlib.pyplot as plt\n",
    "import pandas as pd\n"
   ]
  },
  {
   "cell_type": "code",
   "execution_count": 20,
   "metadata": {
    "collapsed": true
   },
   "outputs": [],
   "source": [
    "# Importing the dataset\n",
    "dataset = pd.read_csv('Churn_Modelling.csv')\n",
    "X = dataset.iloc[:, 3:13].values\n",
    "y = dataset.iloc[:, 13].values\n"
   ]
  },
  {
   "cell_type": "code",
   "execution_count": 21,
   "metadata": {
    "collapsed": true
   },
   "outputs": [],
   "source": [
    "# Encoding categorical data\n",
    "from sklearn.preprocessing import LabelEncoder, OneHotEncoder\n",
    "labelencoder_X_1 = LabelEncoder()\n",
    "X[:, 1] = labelencoder_X_1.fit_transform(X[:, 1])\n",
    "labelencoder_X_2 = LabelEncoder()\n",
    "X[:, 2] = labelencoder_X_2.fit_transform(X[:, 2])\n",
    "onehotencoder = OneHotEncoder(categorical_features = [1])\n",
    "X = onehotencoder.fit_transform(X).toarray()\n",
    "X = X[:, 1:]\n"
   ]
  },
  {
   "cell_type": "code",
   "execution_count": 22,
   "metadata": {
    "collapsed": true
   },
   "outputs": [],
   "source": [
    "# Splitting the dataset into the Training set and Test set\n",
    "from sklearn.model_selection import train_test_split\n",
    "X_train, X_test, y_train, y_test = train_test_split(X, y, test_size = 0.2, random_state = 0)\n"
   ]
  },
  {
   "cell_type": "code",
   "execution_count": 23,
   "metadata": {
    "collapsed": true
   },
   "outputs": [],
   "source": [
    "# Feature Scaling\n",
    "from sklearn.preprocessing import StandardScaler\n",
    "sc = StandardScaler()\n",
    "X_train = sc.fit_transform(X_train)\n",
    "X_test = sc.transform(X_test)"
   ]
  },
  {
   "cell_type": "code",
   "execution_count": 24,
   "metadata": {},
   "outputs": [
    {
     "name": "stderr",
     "output_type": "stream",
     "text": [
      "Using TensorFlow backend.\n"
     ]
    }
   ],
   "source": [
    "# Importing the Keras libraries and packages\n",
    "import keras\n",
    "from keras.models import Sequential\n",
    "from keras.layers import Dense\n",
    "import time"
   ]
  },
  {
   "cell_type": "code",
   "execution_count": 25,
   "metadata": {
    "collapsed": true
   },
   "outputs": [],
   "source": [
    "# Initialising the ANN\n",
    "classifier = Sequential()\n"
   ]
  },
  {
   "cell_type": "code",
   "execution_count": 26,
   "metadata": {
    "collapsed": true
   },
   "outputs": [],
   "source": [
    "# Adding the input layer and the first hidden layer\n",
    "classifier.add(Dense(units = 6, kernel_initializer = 'uniform', activation = 'relu', input_dim = 11))"
   ]
  },
  {
   "cell_type": "code",
   "execution_count": 27,
   "metadata": {
    "collapsed": true
   },
   "outputs": [],
   "source": [
    "# Adding the second hidden layer\n",
    "classifier.add(Dense(units = 5, kernel_initializer = 'uniform', activation = 'relu'))\n"
   ]
  },
  {
   "cell_type": "code",
   "execution_count": 28,
   "metadata": {
    "collapsed": true
   },
   "outputs": [],
   "source": [
    "# Adding the third hidden layer\n",
    "classifier.add(Dense(units = 4, kernel_initializer = 'uniform', activation = 'relu'))\n"
   ]
  },
  {
   "cell_type": "code",
   "execution_count": 29,
   "metadata": {
    "collapsed": true
   },
   "outputs": [],
   "source": [
    "# Adding the fourth hidden layer\n",
    "classifier.add(Dense(units = 5, kernel_initializer = 'uniform', activation = 'relu'))\n"
   ]
  },
  {
   "cell_type": "code",
   "execution_count": 30,
   "metadata": {
    "collapsed": true
   },
   "outputs": [],
   "source": [
    "# Adding the fifth hidden layer\n",
    "classifier.add(Dense(units = 6, kernel_initializer = 'uniform', activation = 'relu'))\n"
   ]
  },
  {
   "cell_type": "code",
   "execution_count": 31,
   "metadata": {
    "collapsed": true
   },
   "outputs": [],
   "source": [
    "# Adding the output layer\n",
    "classifier.add(Dense(units = 1, kernel_initializer = 'uniform', activation = 'sigmoid'))"
   ]
  },
  {
   "cell_type": "code",
   "execution_count": 32,
   "metadata": {
    "collapsed": true
   },
   "outputs": [],
   "source": [
    "# Compiling the ANN\n",
    "classifier.compile(optimizer = 'adam', loss = 'binary_crossentropy', metrics = ['accuracy'])"
   ]
  },
  {
   "cell_type": "code",
   "execution_count": 33,
   "metadata": {
    "scrolled": false
   },
   "outputs": [
    {
     "name": "stdout",
     "output_type": "stream",
     "text": [
      "Epoch 1/100\n",
      "8000/8000 [==============================] - 3s 418us/step - loss: 0.6135 - acc: 0.7960\n",
      "Epoch 2/100\n",
      "8000/8000 [==============================] - 3s 352us/step - loss: 0.5343 - acc: 0.7960\n",
      "Epoch 3/100\n",
      "8000/8000 [==============================] - 3s 347us/step - loss: 0.5120 - acc: 0.7960\n",
      "Epoch 4/100\n",
      "8000/8000 [==============================] - 2s 308us/step - loss: 0.5071 - acc: 0.7960\n",
      "Epoch 5/100\n",
      "8000/8000 [==============================] - 2s 297us/step - loss: 0.5062 - acc: 0.7960\n",
      "Epoch 6/100\n",
      "8000/8000 [==============================] - 2s 294us/step - loss: 0.5060 - acc: 0.7960\n",
      "Epoch 7/100\n",
      "8000/8000 [==============================] - 2s 311us/step - loss: 0.5060 - acc: 0.7960\n",
      "Epoch 8/100\n",
      "8000/8000 [==============================] - 2s 305us/step - loss: 0.5059 - acc: 0.7960\n",
      "Epoch 9/100\n",
      "8000/8000 [==============================] - 2s 298us/step - loss: 0.5059 - acc: 0.7960\n",
      "Epoch 10/100\n",
      "8000/8000 [==============================] - 2s 302us/step - loss: 0.5060 - acc: 0.7960\n",
      "Epoch 11/100\n",
      "8000/8000 [==============================] - 2s 294us/step - loss: 0.5059 - acc: 0.7960\n",
      "Epoch 12/100\n",
      "8000/8000 [==============================] - 2s 295us/step - loss: 0.5060 - acc: 0.7960\n",
      "Epoch 13/100\n",
      "8000/8000 [==============================] - 2s 293us/step - loss: 0.5060 - acc: 0.7960\n",
      "Epoch 14/100\n",
      "8000/8000 [==============================] - 2s 296us/step - loss: 0.5060 - acc: 0.7960\n",
      "Epoch 15/100\n",
      "8000/8000 [==============================] - 2s 293us/step - loss: 0.5060 - acc: 0.7960\n",
      "Epoch 16/100\n",
      "8000/8000 [==============================] - 2s 298us/step - loss: 0.5059 - acc: 0.7960\n",
      "Epoch 17/100\n",
      "8000/8000 [==============================] - 2s 303us/step - loss: 0.5060 - acc: 0.7960\n",
      "Epoch 18/100\n",
      "8000/8000 [==============================] - 2s 299us/step - loss: 0.5060 - acc: 0.7960\n",
      "Epoch 19/100\n",
      "8000/8000 [==============================] - 2s 299us/step - loss: 0.5060 - acc: 0.7960\n",
      "Epoch 20/100\n",
      "8000/8000 [==============================] - 2s 301us/step - loss: 0.5060 - acc: 0.7960\n",
      "Epoch 21/100\n",
      "8000/8000 [==============================] - 2s 301us/step - loss: 0.5060 - acc: 0.7960\n",
      "Epoch 22/100\n",
      "8000/8000 [==============================] - 2s 311us/step - loss: 0.5059 - acc: 0.7960\n",
      "Epoch 23/100\n",
      "8000/8000 [==============================] - 2s 305us/step - loss: 0.5060 - acc: 0.7960\n",
      "Epoch 24/100\n",
      "8000/8000 [==============================] - 2s 292us/step - loss: 0.5059 - acc: 0.7960\n",
      "Epoch 25/100\n",
      "8000/8000 [==============================] - 2s 289us/step - loss: 0.5060 - acc: 0.7960\n",
      "Epoch 26/100\n",
      "8000/8000 [==============================] - 2s 292us/step - loss: 0.5060 - acc: 0.7960\n",
      "Epoch 27/100\n",
      "8000/8000 [==============================] - 2s 299us/step - loss: 0.5060 - acc: 0.7960\n",
      "Epoch 28/100\n",
      "8000/8000 [==============================] - 2s 300us/step - loss: 0.5060 - acc: 0.7960\n",
      "Epoch 29/100\n",
      "8000/8000 [==============================] - 2s 306us/step - loss: 0.5060 - acc: 0.7960\n",
      "Epoch 30/100\n",
      "8000/8000 [==============================] - 2s 303us/step - loss: 0.5060 - acc: 0.7960\n",
      "Epoch 31/100\n",
      "8000/8000 [==============================] - 2s 304us/step - loss: 0.5059 - acc: 0.7960\n",
      "Epoch 32/100\n",
      "8000/8000 [==============================] - 2s 293us/step - loss: 0.5060 - acc: 0.7960\n",
      "Epoch 33/100\n",
      "8000/8000 [==============================] - 2s 301us/step - loss: 0.5059 - acc: 0.7960\n",
      "Epoch 34/100\n",
      "8000/8000 [==============================] - 2s 305us/step - loss: 0.5059 - acc: 0.7960\n",
      "Epoch 35/100\n",
      "8000/8000 [==============================] - 2s 305us/step - loss: 0.5060 - acc: 0.7960\n",
      "Epoch 36/100\n",
      "8000/8000 [==============================] - 2s 306us/step - loss: 0.5060 - acc: 0.7960\n",
      "Epoch 37/100\n",
      "8000/8000 [==============================] - 2s 301us/step - loss: 0.5060 - acc: 0.7960\n",
      "Epoch 38/100\n",
      "8000/8000 [==============================] - 2s 288us/step - loss: 0.5060 - acc: 0.7960\n",
      "Epoch 39/100\n",
      "8000/8000 [==============================] - 2s 298us/step - loss: 0.5060 - acc: 0.7960\n",
      "Epoch 40/100\n",
      "8000/8000 [==============================] - 2s 293us/step - loss: 0.5059 - acc: 0.7960\n",
      "Epoch 41/100\n",
      "8000/8000 [==============================] - 2s 298us/step - loss: 0.5060 - acc: 0.7960\n",
      "Epoch 42/100\n",
      "8000/8000 [==============================] - 2s 296us/step - loss: 0.5060 - acc: 0.7960\n",
      "Epoch 43/100\n",
      "8000/8000 [==============================] - 2s 290us/step - loss: 0.5060 - acc: 0.7960\n",
      "Epoch 44/100\n",
      "8000/8000 [==============================] - 2s 295us/step - loss: 0.5060 - acc: 0.7960\n",
      "Epoch 45/100\n",
      "8000/8000 [==============================] - 2s 298us/step - loss: 0.5059 - acc: 0.7960\n",
      "Epoch 46/100\n",
      "8000/8000 [==============================] - 2s 299us/step - loss: 0.5060 - acc: 0.7960\n",
      "Epoch 47/100\n",
      "8000/8000 [==============================] - 2s 300us/step - loss: 0.5059 - acc: 0.7960\n",
      "Epoch 48/100\n",
      "8000/8000 [==============================] - 2s 296us/step - loss: 0.5059 - acc: 0.7960\n",
      "Epoch 49/100\n",
      "8000/8000 [==============================] - 2s 285us/step - loss: 0.5060 - acc: 0.7960\n",
      "Epoch 50/100\n",
      "8000/8000 [==============================] - 2s 296us/step - loss: 0.5059 - acc: 0.7960\n",
      "Epoch 51/100\n",
      "8000/8000 [==============================] - 2s 291us/step - loss: 0.5060 - acc: 0.7960\n",
      "Epoch 52/100\n",
      "8000/8000 [==============================] - 2s 289us/step - loss: 0.5059 - acc: 0.7960\n",
      "Epoch 53/100\n",
      "8000/8000 [==============================] - 3s 340us/step - loss: 0.5060 - acc: 0.7960\n",
      "Epoch 54/100\n",
      "8000/8000 [==============================] - 2s 289us/step - loss: 0.5060 - acc: 0.7960\n",
      "Epoch 55/100\n",
      "8000/8000 [==============================] - 2s 288us/step - loss: 0.5060 - acc: 0.7960\n",
      "Epoch 56/100\n",
      "8000/8000 [==============================] - 2s 280us/step - loss: 0.5060 - acc: 0.7960\n",
      "Epoch 57/100\n",
      "8000/8000 [==============================] - 2s 280us/step - loss: 0.5060 - acc: 0.7960\n",
      "Epoch 58/100\n",
      "8000/8000 [==============================] - 2s 288us/step - loss: 0.5059 - acc: 0.7960\n",
      "Epoch 59/100\n",
      "8000/8000 [==============================] - 2s 286us/step - loss: 0.5060 - acc: 0.7960\n",
      "Epoch 60/100\n",
      "8000/8000 [==============================] - 2s 303us/step - loss: 0.5060 - acc: 0.7960\n",
      "Epoch 61/100\n",
      "8000/8000 [==============================] - 2s 289us/step - loss: 0.5059 - acc: 0.7960\n",
      "Epoch 62/100\n",
      "8000/8000 [==============================] - 2s 299us/step - loss: 0.5059 - acc: 0.7960\n",
      "Epoch 63/100\n",
      "8000/8000 [==============================] - 2s 292us/step - loss: 0.5059 - acc: 0.7960\n",
      "Epoch 64/100\n",
      "8000/8000 [==============================] - 2s 287us/step - loss: 0.5060 - acc: 0.7960\n",
      "Epoch 65/100\n",
      "8000/8000 [==============================] - 2s 287us/step - loss: 0.5059 - acc: 0.7960\n",
      "Epoch 66/100\n",
      "8000/8000 [==============================] - 2s 293us/step - loss: 0.5060 - acc: 0.7960\n",
      "Epoch 67/100\n",
      "8000/8000 [==============================] - 2s 292us/step - loss: 0.5059 - acc: 0.7960\n",
      "Epoch 68/100\n",
      "8000/8000 [==============================] - 2s 293us/step - loss: 0.5060 - acc: 0.7960\n",
      "Epoch 69/100\n",
      "8000/8000 [==============================] - 2s 296us/step - loss: 0.5059 - acc: 0.7960\n",
      "Epoch 70/100\n",
      "8000/8000 [==============================] - 2s 296us/step - loss: 0.5059 - acc: 0.7960\n",
      "Epoch 71/100\n",
      "8000/8000 [==============================] - 2s 289us/step - loss: 0.5059 - acc: 0.7960\n",
      "Epoch 72/100\n",
      "8000/8000 [==============================] - 2s 293us/step - loss: 0.5060 - acc: 0.7960\n",
      "Epoch 73/100\n",
      "8000/8000 [==============================] - 2s 309us/step - loss: 0.5060 - acc: 0.7960\n",
      "Epoch 74/100\n",
      "8000/8000 [==============================] - 2s 289us/step - loss: 0.5060 - acc: 0.7960\n",
      "Epoch 75/100\n",
      "8000/8000 [==============================] - 2s 298us/step - loss: 0.5060 - acc: 0.7960\n",
      "Epoch 76/100\n",
      "8000/8000 [==============================] - 2s 302us/step - loss: 0.5060 - acc: 0.7960\n",
      "Epoch 77/100\n",
      "8000/8000 [==============================] - 2s 288us/step - loss: 0.5060 - acc: 0.7960\n",
      "Epoch 78/100\n",
      "8000/8000 [==============================] - 2s 292us/step - loss: 0.5059 - acc: 0.7960\n",
      "Epoch 79/100\n",
      "8000/8000 [==============================] - 2s 286us/step - loss: 0.5060 - acc: 0.7960\n",
      "Epoch 80/100\n",
      "8000/8000 [==============================] - 2s 294us/step - loss: 0.5060 - acc: 0.7960\n",
      "Epoch 81/100\n",
      "8000/8000 [==============================] - 2s 304us/step - loss: 0.5060 - acc: 0.7960\n",
      "Epoch 82/100\n",
      "8000/8000 [==============================] - 2s 284us/step - loss: 0.5059 - acc: 0.7960\n",
      "Epoch 83/100\n",
      "8000/8000 [==============================] - 2s 278us/step - loss: 0.5060 - acc: 0.7960\n",
      "Epoch 84/100\n",
      "8000/8000 [==============================] - 2s 282us/step - loss: 0.5060 - acc: 0.7960\n",
      "Epoch 85/100\n",
      "8000/8000 [==============================] - 2s 281us/step - loss: 0.5060 - acc: 0.7960\n",
      "Epoch 86/100\n",
      "8000/8000 [==============================] - 2s 292us/step - loss: 0.5059 - acc: 0.7960\n",
      "Epoch 87/100\n",
      "8000/8000 [==============================] - 2s 292us/step - loss: 0.5060 - acc: 0.7960\n",
      "Epoch 88/100\n",
      "8000/8000 [==============================] - 2s 274us/step - loss: 0.5060 - acc: 0.7960\n",
      "Epoch 89/100\n",
      "8000/8000 [==============================] - 2s 284us/step - loss: 0.5059 - acc: 0.7960\n",
      "Epoch 90/100\n",
      "8000/8000 [==============================] - 2s 280us/step - loss: 0.5060 - acc: 0.7960\n",
      "Epoch 91/100\n",
      "8000/8000 [==============================] - 2s 285us/step - loss: 0.5059 - acc: 0.7960\n",
      "Epoch 92/100\n",
      "8000/8000 [==============================] - 2s 283us/step - loss: 0.5060 - acc: 0.7960\n",
      "Epoch 93/100\n",
      "8000/8000 [==============================] - 2s 285us/step - loss: 0.5060 - acc: 0.7960\n",
      "Epoch 94/100\n",
      "8000/8000 [==============================] - 2s 261us/step - loss: 0.5059 - acc: 0.7960\n",
      "Epoch 95/100\n",
      "8000/8000 [==============================] - 2s 232us/step - loss: 0.5060 - acc: 0.7960\n",
      "Epoch 96/100\n",
      "8000/8000 [==============================] - 2s 216us/step - loss: 0.5059 - acc: 0.7960\n",
      "Epoch 97/100\n",
      "8000/8000 [==============================] - 2s 222us/step - loss: 0.5060 - acc: 0.7960\n",
      "Epoch 98/100\n",
      "8000/8000 [==============================] - 2s 233us/step - loss: 0.5060 - acc: 0.7960\n",
      "Epoch 99/100\n",
      "8000/8000 [==============================] - 2s 221us/step - loss: 0.5060 - acc: 0.7960\n",
      "Epoch 100/100\n",
      "8000/8000 [==============================] - 2s 228us/step - loss: 0.5060 - acc: 0.7960\n"
     ]
    },
    {
     "data": {
      "text/plain": [
       "<keras.callbacks.History at 0x1a262fe2e8>"
      ]
     },
     "execution_count": 33,
     "metadata": {},
     "output_type": "execute_result"
    }
   ],
   "source": [
    "# Fitting the ANN to the Training set\n",
    "stime1 = time.clock()\n",
    "classifier.fit(X_train, y_train, batch_size = 10, epochs = 100)"
   ]
  },
  {
   "cell_type": "code",
   "execution_count": 34,
   "metadata": {
    "collapsed": true
   },
   "outputs": [],
   "source": [
    "etime1 = time.clock()"
   ]
  },
  {
   "cell_type": "code",
   "execution_count": 40,
   "metadata": {},
   "outputs": [
    {
     "name": "stdout",
     "output_type": "stream",
     "text": [
      "261.09910299999996\n"
     ]
    }
   ],
   "source": [
    "print(etime1-stime1)"
   ]
  },
  {
   "cell_type": "code",
   "execution_count": 35,
   "metadata": {},
   "outputs": [
    {
     "name": "stdout",
     "output_type": "stream",
     "text": [
      "Epoch 1/100\n",
      "8000/8000 [==============================] - 2s 242us/step - loss: 0.5060 - acc: 0.7960\n",
      "Epoch 2/100\n",
      "8000/8000 [==============================] - 2s 233us/step - loss: 0.5060 - acc: 0.7960\n",
      "Epoch 3/100\n",
      "8000/8000 [==============================] - 2s 227us/step - loss: 0.5059 - acc: 0.7960\n",
      "Epoch 4/100\n",
      "8000/8000 [==============================] - 2s 223us/step - loss: 0.5059 - acc: 0.7960\n",
      "Epoch 5/100\n",
      "8000/8000 [==============================] - 2s 228us/step - loss: 0.5060 - acc: 0.7960\n",
      "Epoch 6/100\n",
      "8000/8000 [==============================] - 2s 219us/step - loss: 0.5060 - acc: 0.7960\n",
      "Epoch 7/100\n",
      "8000/8000 [==============================] - 2s 229us/step - loss: 0.5060 - acc: 0.7960\n",
      "Epoch 8/100\n",
      "8000/8000 [==============================] - 2s 227us/step - loss: 0.5060 - acc: 0.7960\n",
      "Epoch 9/100\n",
      "8000/8000 [==============================] - 2s 217us/step - loss: 0.5059 - acc: 0.7960\n",
      "Epoch 10/100\n",
      "8000/8000 [==============================] - 2s 225us/step - loss: 0.5060 - acc: 0.7960\n",
      "Epoch 11/100\n",
      "8000/8000 [==============================] - 2s 233us/step - loss: 0.5059 - acc: 0.7960\n",
      "Epoch 12/100\n",
      "8000/8000 [==============================] - 2s 239us/step - loss: 0.5060 - acc: 0.7960\n",
      "Epoch 13/100\n",
      "8000/8000 [==============================] - 2s 227us/step - loss: 0.5059 - acc: 0.7960\n",
      "Epoch 14/100\n",
      "8000/8000 [==============================] - 2s 220us/step - loss: 0.5060 - acc: 0.7960\n",
      "Epoch 15/100\n",
      "8000/8000 [==============================] - 2s 227us/step - loss: 0.5059 - acc: 0.7960\n",
      "Epoch 16/100\n",
      "8000/8000 [==============================] - 2s 229us/step - loss: 0.5060 - acc: 0.7960\n",
      "Epoch 17/100\n",
      "8000/8000 [==============================] - 2s 228us/step - loss: 0.5059 - acc: 0.7960\n",
      "Epoch 18/100\n",
      "8000/8000 [==============================] - 2s 241us/step - loss: 0.5060 - acc: 0.7960\n",
      "Epoch 19/100\n",
      "8000/8000 [==============================] - 2s 228us/step - loss: 0.5059 - acc: 0.7960\n",
      "Epoch 20/100\n",
      "8000/8000 [==============================] - 2s 229us/step - loss: 0.5059 - acc: 0.7960\n",
      "Epoch 21/100\n",
      "8000/8000 [==============================] - 2s 221us/step - loss: 0.5059 - acc: 0.7960\n",
      "Epoch 22/100\n",
      "8000/8000 [==============================] - 2s 226us/step - loss: 0.5059 - acc: 0.7960\n",
      "Epoch 23/100\n",
      "8000/8000 [==============================] - 2s 232us/step - loss: 0.5059 - acc: 0.7960\n",
      "Epoch 24/100\n",
      "8000/8000 [==============================] - 2s 220us/step - loss: 0.5060 - acc: 0.7960\n",
      "Epoch 25/100\n",
      "8000/8000 [==============================] - 2s 238us/step - loss: 0.5060 - acc: 0.7960\n",
      "Epoch 26/100\n",
      "8000/8000 [==============================] - 2s 227us/step - loss: 0.5059 - acc: 0.7960\n",
      "Epoch 27/100\n",
      "8000/8000 [==============================] - 2s 223us/step - loss: 0.5059 - acc: 0.7960\n",
      "Epoch 28/100\n",
      "8000/8000 [==============================] - 2s 240us/step - loss: 0.5060 - acc: 0.7960\n",
      "Epoch 29/100\n",
      "8000/8000 [==============================] - 2s 236us/step - loss: 0.5060 - acc: 0.7960\n",
      "Epoch 30/100\n",
      "8000/8000 [==============================] - 2s 237us/step - loss: 0.5060 - acc: 0.7960\n",
      "Epoch 31/100\n",
      "8000/8000 [==============================] - 2s 232us/step - loss: 0.5060 - acc: 0.7960\n",
      "Epoch 32/100\n",
      "8000/8000 [==============================] - 2s 227us/step - loss: 0.5060 - acc: 0.7960\n",
      "Epoch 33/100\n",
      "8000/8000 [==============================] - 2s 223us/step - loss: 0.5060 - acc: 0.7960\n",
      "Epoch 34/100\n",
      "8000/8000 [==============================] - 2s 253us/step - loss: 0.5059 - acc: 0.7960\n",
      "Epoch 35/100\n",
      "8000/8000 [==============================] - 2s 234us/step - loss: 0.5060 - acc: 0.7960\n",
      "Epoch 36/100\n",
      "8000/8000 [==============================] - 2s 229us/step - loss: 0.5060 - acc: 0.7960\n",
      "Epoch 37/100\n",
      "8000/8000 [==============================] - 2s 225us/step - loss: 0.5059 - acc: 0.7960\n",
      "Epoch 38/100\n",
      "8000/8000 [==============================] - 2s 229us/step - loss: 0.5060 - acc: 0.7960\n",
      "Epoch 39/100\n",
      "8000/8000 [==============================] - 2s 233us/step - loss: 0.5060 - acc: 0.7960\n",
      "Epoch 40/100\n",
      "8000/8000 [==============================] - 2s 234us/step - loss: 0.5060 - acc: 0.7960\n",
      "Epoch 41/100\n",
      "8000/8000 [==============================] - 2s 234us/step - loss: 0.5059 - acc: 0.7960\n",
      "Epoch 42/100\n",
      "8000/8000 [==============================] - 2s 232us/step - loss: 0.5059 - acc: 0.7960\n",
      "Epoch 43/100\n",
      "8000/8000 [==============================] - 2s 240us/step - loss: 0.5060 - acc: 0.7960\n",
      "Epoch 44/100\n",
      "8000/8000 [==============================] - 2s 233us/step - loss: 0.5060 - acc: 0.7960\n",
      "Epoch 45/100\n",
      "8000/8000 [==============================] - 2s 239us/step - loss: 0.5059 - acc: 0.7960\n",
      "Epoch 46/100\n",
      "8000/8000 [==============================] - 2s 235us/step - loss: 0.5060 - acc: 0.7960\n",
      "Epoch 47/100\n",
      "8000/8000 [==============================] - 2s 246us/step - loss: 0.5060 - acc: 0.7960\n",
      "Epoch 48/100\n",
      "8000/8000 [==============================] - 2s 273us/step - loss: 0.5060 - acc: 0.7960\n",
      "Epoch 49/100\n",
      "8000/8000 [==============================] - 3s 325us/step - loss: 0.5060 - acc: 0.7960 1s - los\n",
      "Epoch 50/100\n",
      "8000/8000 [==============================] - 2s 265us/step - loss: 0.5059 - acc: 0.7960\n",
      "Epoch 51/100\n",
      "8000/8000 [==============================] - 2s 245us/step - loss: 0.5060 - acc: 0.7960\n",
      "Epoch 52/100\n",
      "8000/8000 [==============================] - 2s 254us/step - loss: 0.5060 - acc: 0.7960\n",
      "Epoch 53/100\n",
      "8000/8000 [==============================] - 2s 262us/step - loss: 0.5060 - acc: 0.7960\n",
      "Epoch 54/100\n",
      "8000/8000 [==============================] - 2s 247us/step - loss: 0.5059 - acc: 0.7960\n",
      "Epoch 55/100\n",
      "8000/8000 [==============================] - 2s 250us/step - loss: 0.5059 - acc: 0.7960\n",
      "Epoch 56/100\n",
      "8000/8000 [==============================] - 2s 255us/step - loss: 0.5059 - acc: 0.7960\n",
      "Epoch 57/100\n",
      "8000/8000 [==============================] - 2s 258us/step - loss: 0.5060 - acc: 0.7960\n",
      "Epoch 58/100\n",
      "8000/8000 [==============================] - 2s 257us/step - loss: 0.5059 - acc: 0.7960\n",
      "Epoch 59/100\n",
      "8000/8000 [==============================] - 2s 254us/step - loss: 0.5060 - acc: 0.7960\n",
      "Epoch 60/100\n",
      "8000/8000 [==============================] - 2s 259us/step - loss: 0.5060 - acc: 0.7960\n",
      "Epoch 61/100\n",
      "8000/8000 [==============================] - 2s 258us/step - loss: 0.5060 - acc: 0.7960\n",
      "Epoch 62/100\n",
      "8000/8000 [==============================] - 2s 252us/step - loss: 0.5060 - acc: 0.7960\n",
      "Epoch 63/100\n",
      "8000/8000 [==============================] - 2s 251us/step - loss: 0.5059 - acc: 0.7960\n",
      "Epoch 64/100\n",
      "8000/8000 [==============================] - 2s 255us/step - loss: 0.5059 - acc: 0.7960\n",
      "Epoch 65/100\n",
      "8000/8000 [==============================] - 2s 269us/step - loss: 0.5060 - acc: 0.7960\n",
      "Epoch 66/100\n",
      "8000/8000 [==============================] - 2s 262us/step - loss: 0.5060 - acc: 0.7960\n",
      "Epoch 67/100\n",
      "8000/8000 [==============================] - 2s 267us/step - loss: 0.5059 - acc: 0.7960\n",
      "Epoch 68/100\n",
      "8000/8000 [==============================] - ETA: 0s - loss: 0.5057 - acc: 0.796 - 3s 334us/step - loss: 0.5059 - acc: 0.7960\n",
      "Epoch 69/100\n",
      "8000/8000 [==============================] - 3s 378us/step - loss: 0.5060 - acc: 0.7960\n",
      "Epoch 70/100\n",
      "8000/8000 [==============================] - 2s 237us/step - loss: 0.5060 - acc: 0.7960\n",
      "Epoch 71/100\n",
      "8000/8000 [==============================] - 2s 231us/step - loss: 0.5059 - acc: 0.7960\n",
      "Epoch 72/100\n",
      "8000/8000 [==============================] - 2s 236us/step - loss: 0.5059 - acc: 0.7960\n",
      "Epoch 73/100\n",
      "8000/8000 [==============================] - 2s 235us/step - loss: 0.5060 - acc: 0.7960\n",
      "Epoch 74/100\n",
      "8000/8000 [==============================] - 2s 234us/step - loss: 0.5060 - acc: 0.7960\n",
      "Epoch 75/100\n",
      "8000/8000 [==============================] - 2s 231us/step - loss: 0.5060 - acc: 0.7960\n",
      "Epoch 76/100\n",
      "8000/8000 [==============================] - 2s 230us/step - loss: 0.5059 - acc: 0.7960\n",
      "Epoch 77/100\n",
      "8000/8000 [==============================] - 2s 229us/step - loss: 0.5059 - acc: 0.7960\n",
      "Epoch 78/100\n",
      "8000/8000 [==============================] - 2s 231us/step - loss: 0.5059 - acc: 0.7960\n",
      "Epoch 79/100\n",
      "8000/8000 [==============================] - 2s 232us/step - loss: 0.5060 - acc: 0.7960\n",
      "Epoch 80/100\n",
      "8000/8000 [==============================] - 2s 227us/step - loss: 0.5060 - acc: 0.7960\n",
      "Epoch 81/100\n",
      "8000/8000 [==============================] - 2s 214us/step - loss: 0.5060 - acc: 0.7960\n",
      "Epoch 82/100\n",
      "8000/8000 [==============================] - 2s 215us/step - loss: 0.5059 - acc: 0.7960\n",
      "Epoch 83/100\n",
      "8000/8000 [==============================] - 2s 221us/step - loss: 0.5060 - acc: 0.7960\n",
      "Epoch 84/100\n",
      "8000/8000 [==============================] - 2s 215us/step - loss: 0.5060 - acc: 0.7960\n",
      "Epoch 85/100\n",
      "8000/8000 [==============================] - 2s 215us/step - loss: 0.5060 - acc: 0.7960\n",
      "Epoch 86/100\n",
      "8000/8000 [==============================] - 2s 223us/step - loss: 0.5059 - acc: 0.7960\n",
      "Epoch 87/100\n",
      "8000/8000 [==============================] - 2s 231us/step - loss: 0.5060 - acc: 0.7960\n",
      "Epoch 88/100\n",
      "8000/8000 [==============================] - 2s 222us/step - loss: 0.5060 - acc: 0.7960\n",
      "Epoch 89/100\n",
      "8000/8000 [==============================] - 2s 223us/step - loss: 0.5059 - acc: 0.7960\n",
      "Epoch 90/100\n",
      "8000/8000 [==============================] - 2s 231us/step - loss: 0.5059 - acc: 0.7960\n",
      "Epoch 91/100\n",
      "8000/8000 [==============================] - 2s 230us/step - loss: 0.5060 - acc: 0.7960\n",
      "Epoch 92/100\n",
      "8000/8000 [==============================] - 2s 228us/step - loss: 0.5059 - acc: 0.7960\n",
      "Epoch 93/100\n",
      "8000/8000 [==============================] - 2s 220us/step - loss: 0.5059 - acc: 0.7960\n",
      "Epoch 94/100\n",
      "8000/8000 [==============================] - 2s 220us/step - loss: 0.5060 - acc: 0.7960\n",
      "Epoch 95/100\n",
      "8000/8000 [==============================] - 2s 221us/step - loss: 0.5059 - acc: 0.7960\n",
      "Epoch 96/100\n",
      "8000/8000 [==============================] - 2s 223us/step - loss: 0.5060 - acc: 0.7960\n",
      "Epoch 97/100\n",
      "8000/8000 [==============================] - 2s 226us/step - loss: 0.5060 - acc: 0.7960\n",
      "Epoch 98/100\n",
      "8000/8000 [==============================] - 2s 228us/step - loss: 0.5059 - acc: 0.7960\n",
      "Epoch 99/100\n",
      "8000/8000 [==============================] - 2s 223us/step - loss: 0.5060 - acc: 0.7960\n",
      "Epoch 100/100\n",
      "8000/8000 [==============================] - 2s 230us/step - loss: 0.5059 - acc: 0.7960\n"
     ]
    }
   ],
   "source": [
    "history_callback = classifier.fit(X_train, y_train, batch_size = 10, epochs = 100)\n",
    "loss_history_m1=history_callback.history[\"loss\"]"
   ]
  },
  {
   "cell_type": "code",
   "execution_count": 36,
   "metadata": {},
   "outputs": [
    {
     "name": "stdout",
     "output_type": "stream",
     "text": [
      "[0.50596029859036207, 0.50595768455415968, 0.50593797199428081, 0.50593928327783944, 0.50595184447243813, 0.50595725631341337, 0.50596374770626429, 0.50595141934230925, 0.50593457469716663, 0.50595422120764855, 0.50594847217202188, 0.50596348559483884, 0.50593914477154611, 0.50595300329849124, 0.50593604128807779, 0.50595115195959806, 0.5059299363195896, 0.50597129764035342, 0.50592905998229976, 0.50591735852882269, 0.50591190274804831, 0.50594173105433582, 0.50593129388988023, 0.50595301717519758, 0.50595200454816225, 0.50594906423240904, 0.50593685373663899, 0.50595334004610781, 0.50596973160281777, 0.50595654899254439, 0.505963832102716, 0.50596429985016589, 0.50595107706263664, 0.50594499571248885, 0.50596257971599701, 0.50595015656203035, 0.50594454210251572, 0.50595658503472807, 0.50595372978597875, 0.50595641864463692, 0.50594423761591312, 0.50593538619577882, 0.50595854014158248, 0.50596157068386671, 0.50594605293124917, 0.50595219084993004, 0.50595390483736991, 0.50596504272893073, 0.5059624638408422, 0.50592225937172774, 0.50595092527568342, 0.50595048559829592, 0.50595912573859092, 0.5059453063644469, 0.5059319065324962, 0.50594060821458697, 0.50596016991883519, 0.5059423934482038, 0.50595144454389807, 0.50595393044874071, 0.50596870921552184, 0.50595960782840843, 0.50593793001025911, 0.50594362523406744, 0.50595657588914034, 0.50596811167895794, 0.50594879718497399, 0.50594280863180752, 0.50596468113362791, 0.50595162436366081, 0.50594437256455427, 0.50593475887551909, 0.50596406022086737, 0.50595932265743615, 0.50595326853916045, 0.50594865495339036, 0.50594442289322616, 0.50594228809699415, 0.50595337120816108, 0.5059573476947844, 0.50595196949318055, 0.50593808678910135, 0.50595698207616802, 0.50595574110746389, 0.50596203543245788, 0.50592835154384375, 0.50596818344667549, 0.50595162859186527, 0.50594300966709849, 0.50594124738126989, 0.50595803808420892, 0.50594956964254378, 0.50594001505523922, 0.50596754521131515, 0.50594982061535121, 0.50596085976809269, 0.50595088327303528, 0.50594133496284488, 0.50595821922644968, 0.50594889428466561]\n"
     ]
    }
   ],
   "source": [
    "print(loss_history_m1)"
   ]
  },
  {
   "cell_type": "code",
   "execution_count": 37,
   "metadata": {},
   "outputs": [
    {
     "data": {
      "text/plain": [
       "[<matplotlib.lines.Line2D at 0x1a26b8c630>]"
      ]
     },
     "execution_count": 37,
     "metadata": {},
     "output_type": "execute_result"
    },
    {
     "data": {
      "image/png": "[encoded data removed]",
      "text/plain": [
       "<matplotlib.figure.Figure at 0x1a26221208>"
      ]
     },
     "metadata": {},
     "output_type": "display_data"
    }
   ],
   "source": [
    "plt.plot(loss_history_m1)"
   ]
  },
  {
   "cell_type": "code",
   "execution_count": 41,
   "metadata": {
    "collapsed": true
   },
   "outputs": [],
   "source": [
    "## Making predictions and evaluating the model\n",
    "\n",
    "# Predicting the Test set results\n",
    "y_pred = classifier.predict(X_test)\n",
    "y_pred = (y_pred > 0.5)"
   ]
  },
  {
   "cell_type": "code",
   "execution_count": 42,
   "metadata": {
    "collapsed": true
   },
   "outputs": [],
   "source": [
    "# Predicting a single new observation\n",
    "\"\"\"Predict if the customer with the following informations will leave the bank:\n",
    "Geography: France\n",
    "Credit Score: 600\n",
    "Gender: Male\n",
    "Age: 40\n",
    "Tenure: 3\n",
    "Balance: 60000\n",
    "Number of Products: 2\n",
    "Has Credit Card: Yes\n",
    "Is Active Member: Yes\n",
    "Estimated Salary: 50000\"\"\"\n",
    "new_prediction = classifier.predict(sc.transform(np.array([[0.0, 0, 600, 1, 40, 3, 60000, 2, 1, 1, 50000]])))\n",
    "new_prediction = (new_prediction > 0.5)"
   ]
  },
  {
   "cell_type": "code",
   "execution_count": 43,
   "metadata": {},
   "outputs": [
    {
     "name": "stdout",
     "output_type": "stream",
     "text": [
      "[[1595    0]\n",
      " [ 405    0]]\n"
     ]
    }
   ],
   "source": [
    "# Making the Confusion Matrix\n",
    "from sklearn.metrics import confusion_matrix\n",
    "cm = confusion_matrix(y_test, y_pred)\n",
    "print(cm)"
   ]
  },
  {
   "cell_type": "markdown",
   "metadata": {
    "collapsed": true
   },
   "source": [
    "**The loss rate and the accuracy percent have been constant when this model was implemented. Since the loss rate has to decrease and the accuracy has to increase as the batches trained increase, we can infer that this model isn't a good fit for my dataset**"
   ]
  },
  {
   "cell_type": "markdown",
   "metadata": {},
   "source": [
    "Different behaviors during training and testing\n",
    "Some Keras layers (e.g. Dropout, BatchNormalization) behave differently at training time and testing time. You can tell whether a layer uses the \"learning phase\" (train/test) by printing layer.uses_learning_phase, a boolean: True if the layer has a different behavior in training mode and test mode, False otherwise.\n",
    "\n",
    "If your model includes such layers, then you need to specify the value of the learning phase as part of feed_dict, so that your model knows whether to apply dropout/etc or not.\n",
    "\n",
    "The Keras learning phase (a scalar TensorFlow tensor) is accessible via the Keras backend:"
   ]
  },
  {
   "cell_type": "markdown",
   "metadata": {},
   "source": [
    "## Method 2"
   ]
  },
  {
   "cell_type": "code",
   "execution_count": 44,
   "metadata": {
    "collapsed": true
   },
   "outputs": [],
   "source": [
    "# Encoding categorical data\n",
    "from sklearn.preprocessing import LabelEncoder, OneHotEncoder\n",
    "labelencoder_X_1 = LabelEncoder()\n",
    "X[:, 1] = labelencoder_X_1.fit_transform(X[:, 1])\n",
    "labelencoder_X_2 = LabelEncoder()\n",
    "X[:, 2] = labelencoder_X_2.fit_transform(X[:, 2])\n",
    "onehotencoder = OneHotEncoder(categorical_features = [1])\n",
    "X = onehotencoder.fit_transform(X).toarray()\n",
    "X = X[:, 1:]\n"
   ]
  },
  {
   "cell_type": "code",
   "execution_count": 45,
   "metadata": {
    "collapsed": true
   },
   "outputs": [],
   "source": [
    "# Splitting the dataset into the Training set and Test set\n",
    "from sklearn.model_selection import train_test_split\n",
    "X_train, X_test, y_train, y_test = train_test_split(X, y, test_size = 0.2, random_state = 0)\n"
   ]
  },
  {
   "cell_type": "code",
   "execution_count": 46,
   "metadata": {
    "collapsed": true
   },
   "outputs": [],
   "source": [
    "# Feature Scaling\n",
    "from sklearn.preprocessing import StandardScaler\n",
    "sc = StandardScaler()\n",
    "X_train = sc.fit_transform(X_train)\n",
    "X_test = sc.transform(X_test)"
   ]
  },
  {
   "cell_type": "code",
   "execution_count": 47,
   "metadata": {
    "collapsed": true
   },
   "outputs": [],
   "source": [
    "# Importing the Keras libraries and packages\n",
    "import keras\n",
    "from keras.models import Sequential\n",
    "from keras.layers import Dense\n",
    "import time"
   ]
  },
  {
   "cell_type": "code",
   "execution_count": 48,
   "metadata": {
    "collapsed": true
   },
   "outputs": [],
   "source": [
    "# Initialising the ANN\n",
    "classifier = Sequential()\n"
   ]
  },
  {
   "cell_type": "code",
   "execution_count": 49,
   "metadata": {
    "collapsed": true
   },
   "outputs": [],
   "source": [
    "# Adding the input layer and the first hidden layer\n",
    "classifier.add(Dense(units = 6, kernel_initializer = 'uniform', activation = 'relu', input_dim = 11))"
   ]
  },
  {
   "cell_type": "code",
   "execution_count": 50,
   "metadata": {
    "collapsed": true
   },
   "outputs": [],
   "source": [
    "# Adding the second hidden layer\n",
    "classifier.add(Dense(units = 8, kernel_initializer = 'uniform', activation = 'relu'))\n"
   ]
  },
  {
   "cell_type": "code",
   "execution_count": 51,
   "metadata": {
    "collapsed": true
   },
   "outputs": [],
   "source": [
    "# Adding the third hidden layer\n",
    "classifier.add(Dense(units = 10, kernel_initializer = 'uniform', activation = 'relu'))\n"
   ]
  },
  {
   "cell_type": "code",
   "execution_count": 52,
   "metadata": {
    "collapsed": true
   },
   "outputs": [],
   "source": [
    "# Adding the fourth hidden layer\n",
    "classifier.add(Dense(units = 12, kernel_initializer = 'uniform', activation = 'relu'))\n"
   ]
  },
  {
   "cell_type": "code",
   "execution_count": 53,
   "metadata": {
    "collapsed": true
   },
   "outputs": [],
   "source": [
    "# Adding the fifth hidden layer\n",
    "classifier.add(Dense(units = 8, kernel_initializer = 'uniform', activation = 'relu'))\n"
   ]
  },
  {
   "cell_type": "code",
   "execution_count": 54,
   "metadata": {
    "collapsed": true
   },
   "outputs": [],
   "source": [
    "# Adding the sixth hidden layer\n",
    "classifier.add(Dense(units = 6, kernel_initializer = 'uniform', activation = 'relu'))\n"
   ]
  },
  {
   "cell_type": "code",
   "execution_count": 55,
   "metadata": {
    "collapsed": true
   },
   "outputs": [],
   "source": [
    "# Adding the output layer\n",
    "classifier.add(Dense(units = 1, kernel_initializer = 'uniform', activation = 'sigmoid'))"
   ]
  },
  {
   "cell_type": "code",
   "execution_count": 56,
   "metadata": {
    "collapsed": true
   },
   "outputs": [],
   "source": [
    "# Compiling the ANN\n",
    "classifier.compile(optimizer = 'adam', loss = 'binary_crossentropy', metrics = ['accuracy'])"
   ]
  },
  {
   "cell_type": "code",
   "execution_count": 57,
   "metadata": {
    "scrolled": false
   },
   "outputs": [
    {
     "name": "stdout",
     "output_type": "stream",
     "text": [
      "Epoch 1/100\n",
      "8000/8000 [==============================] - 3s 335us/step - loss: 0.4839 - acc: 0.7960\n",
      "Epoch 2/100\n",
      "8000/8000 [==============================] - 2s 242us/step - loss: 0.4291 - acc: 0.7960\n",
      "Epoch 3/100\n",
      "8000/8000 [==============================] - 2s 244us/step - loss: 0.4212 - acc: 0.8120\n",
      "Epoch 4/100\n",
      "8000/8000 [==============================] - 2s 274us/step - loss: 0.4187 - acc: 0.8260\n",
      "Epoch 5/100\n",
      "8000/8000 [==============================] - 2s 300us/step - loss: 0.4167 - acc: 0.8290\n",
      "Epoch 6/100\n",
      "8000/8000 [==============================] - 2s 243us/step - loss: 0.4144 - acc: 0.8300\n",
      "Epoch 7/100\n",
      "8000/8000 [==============================] - 2s 284us/step - loss: 0.4139 - acc: 0.8324\n",
      "Epoch 8/100\n",
      "8000/8000 [==============================] - 2s 284us/step - loss: 0.4128 - acc: 0.8339\n",
      "Epoch 9/100\n",
      "8000/8000 [==============================] - 2s 283us/step - loss: 0.4112 - acc: 0.8330\n",
      "Epoch 10/100\n",
      "8000/8000 [==============================] - 2s 284us/step - loss: 0.4096 - acc: 0.8339\n",
      "Epoch 11/100\n",
      "8000/8000 [==============================] - 2s 269us/step - loss: 0.4101 - acc: 0.8352\n",
      "Epoch 12/100\n",
      "8000/8000 [==============================] - 2s 287us/step - loss: 0.4095 - acc: 0.8330\n",
      "Epoch 13/100\n",
      "8000/8000 [==============================] - 2s 256us/step - loss: 0.4087 - acc: 0.8329\n",
      "Epoch 14/100\n",
      "8000/8000 [==============================] - 2s 272us/step - loss: 0.4080 - acc: 0.8354\n",
      "Epoch 15/100\n",
      "8000/8000 [==============================] - 2s 273us/step - loss: 0.4077 - acc: 0.8335\n",
      "Epoch 16/100\n",
      "8000/8000 [==============================] - 2s 273us/step - loss: 0.4073 - acc: 0.8334\n",
      "Epoch 17/100\n",
      "8000/8000 [==============================] - 2s 277us/step - loss: 0.4081 - acc: 0.8356\n",
      "Epoch 18/100\n",
      "8000/8000 [==============================] - 2s 242us/step - loss: 0.4067 - acc: 0.8351\n",
      "Epoch 19/100\n",
      "8000/8000 [==============================] - 2s 280us/step - loss: 0.4059 - acc: 0.8352\n",
      "Epoch 20/100\n",
      "8000/8000 [==============================] - 2s 280us/step - loss: 0.4061 - acc: 0.8350\n",
      "Epoch 21/100\n",
      "8000/8000 [==============================] - 2s 288us/step - loss: 0.4051 - acc: 0.8344\n",
      "Epoch 22/100\n",
      "8000/8000 [==============================] - 2s 253us/step - loss: 0.4051 - acc: 0.8332\n",
      "Epoch 23/100\n",
      "8000/8000 [==============================] - 2s 275us/step - loss: 0.4052 - acc: 0.8352\n",
      "Epoch 24/100\n",
      "8000/8000 [==============================] - 2s 268us/step - loss: 0.4047 - acc: 0.8332\n",
      "Epoch 25/100\n",
      "8000/8000 [==============================] - 2s 254us/step - loss: 0.4043 - acc: 0.8336\n",
      "Epoch 26/100\n",
      "8000/8000 [==============================] - 2s 255us/step - loss: 0.4058 - acc: 0.8327\n",
      "Epoch 27/100\n",
      "8000/8000 [==============================] - 2s 258us/step - loss: 0.4052 - acc: 0.8344\n",
      "Epoch 28/100\n",
      "8000/8000 [==============================] - 2s 255us/step - loss: 0.4046 - acc: 0.8347\n",
      "Epoch 29/100\n",
      "8000/8000 [==============================] - 2s 258us/step - loss: 0.4049 - acc: 0.8349\n",
      "Epoch 30/100\n",
      "8000/8000 [==============================] - 2s 268us/step - loss: 0.4040 - acc: 0.8342\n",
      "Epoch 31/100\n",
      "8000/8000 [==============================] - 2s 263us/step - loss: 0.4048 - acc: 0.8341\n",
      "Epoch 32/100\n",
      "8000/8000 [==============================] - 2s 255us/step - loss: 0.4044 - acc: 0.8349\n",
      "Epoch 33/100\n",
      "8000/8000 [==============================] - 2s 255us/step - loss: 0.4033 - acc: 0.8337\n",
      "Epoch 34/100\n",
      "8000/8000 [==============================] - 2s 265us/step - loss: 0.4032 - acc: 0.8344\n",
      "Epoch 35/100\n",
      "8000/8000 [==============================] - 2s 258us/step - loss: 0.4032 - acc: 0.8336\n",
      "Epoch 36/100\n",
      "8000/8000 [==============================] - 2s 265us/step - loss: 0.4034 - acc: 0.8352\n",
      "Epoch 37/100\n",
      "8000/8000 [==============================] - 2s 262us/step - loss: 0.4032 - acc: 0.8349\n",
      "Epoch 38/100\n",
      "8000/8000 [==============================] - 2s 260us/step - loss: 0.4027 - acc: 0.8330\n",
      "Epoch 39/100\n",
      "8000/8000 [==============================] - 2s 263us/step - loss: 0.4035 - acc: 0.8331\n",
      "Epoch 40/100\n",
      "8000/8000 [==============================] - 2s 263us/step - loss: 0.4039 - acc: 0.8345\n",
      "Epoch 41/100\n",
      "8000/8000 [==============================] - 2s 262us/step - loss: 0.4031 - acc: 0.8340\n",
      "Epoch 42/100\n",
      "8000/8000 [==============================] - 2s 263us/step - loss: 0.4026 - acc: 0.8354\n",
      "Epoch 43/100\n",
      "8000/8000 [==============================] - 2s 263us/step - loss: 0.4035 - acc: 0.8342\n",
      "Epoch 44/100\n",
      "8000/8000 [==============================] - 2s 263us/step - loss: 0.4031 - acc: 0.8354\n",
      "Epoch 45/100\n",
      "8000/8000 [==============================] - 2s 263us/step - loss: 0.4030 - acc: 0.8340\n",
      "Epoch 46/100\n",
      "8000/8000 [==============================] - 2s 268us/step - loss: 0.4033 - acc: 0.8342\n",
      "Epoch 47/100\n",
      "8000/8000 [==============================] - 2s 263us/step - loss: 0.4029 - acc: 0.8334\n",
      "Epoch 48/100\n",
      "8000/8000 [==============================] - 2s 267us/step - loss: 0.4024 - acc: 0.8342\n",
      "Epoch 49/100\n",
      "8000/8000 [==============================] - 2s 268us/step - loss: 0.4023 - acc: 0.8342\n",
      "Epoch 50/100\n",
      "8000/8000 [==============================] - 2s 264us/step - loss: 0.4023 - acc: 0.8345\n",
      "Epoch 51/100\n",
      "8000/8000 [==============================] - 2s 260us/step - loss: 0.4031 - acc: 0.8330\n",
      "Epoch 52/100\n",
      "8000/8000 [==============================] - 2s 266us/step - loss: 0.4034 - acc: 0.8342\n",
      "Epoch 53/100\n",
      "8000/8000 [==============================] - 2s 263us/step - loss: 0.4032 - acc: 0.8334\n",
      "Epoch 54/100\n",
      "8000/8000 [==============================] - 2s 260us/step - loss: 0.4024 - acc: 0.8349\n",
      "Epoch 55/100\n",
      "8000/8000 [==============================] - 2s 263us/step - loss: 0.4017 - acc: 0.8354\n",
      "Epoch 56/100\n",
      "8000/8000 [==============================] - 2s 265us/step - loss: 0.4031 - acc: 0.8334\n",
      "Epoch 57/100\n",
      "8000/8000 [==============================] - 2s 266us/step - loss: 0.4032 - acc: 0.8359\n",
      "Epoch 58/100\n",
      "8000/8000 [==============================] - 2s 267us/step - loss: 0.4026 - acc: 0.8361\n",
      "Epoch 59/100\n",
      "8000/8000 [==============================] - 2s 262us/step - loss: 0.4026 - acc: 0.8352\n",
      "Epoch 60/100\n",
      "8000/8000 [==============================] - 2s 259us/step - loss: 0.4032 - acc: 0.8361\n",
      "Epoch 61/100\n",
      "8000/8000 [==============================] - 2s 271us/step - loss: 0.4024 - acc: 0.8355 1s\n",
      "Epoch 62/100\n",
      "8000/8000 [==============================] - 2s 266us/step - loss: 0.4031 - acc: 0.8342\n",
      "Epoch 63/100\n",
      "8000/8000 [==============================] - 2s 270us/step - loss: 0.4029 - acc: 0.8322\n",
      "Epoch 64/100\n",
      "8000/8000 [==============================] - 2s 260us/step - loss: 0.4026 - acc: 0.8359\n",
      "Epoch 65/100\n",
      "8000/8000 [==============================] - 2s 268us/step - loss: 0.4032 - acc: 0.8336\n",
      "Epoch 66/100\n",
      "8000/8000 [==============================] - 2s 257us/step - loss: 0.4019 - acc: 0.8339\n",
      "Epoch 67/100\n",
      "8000/8000 [==============================] - 2s 262us/step - loss: 0.4022 - acc: 0.8360\n",
      "Epoch 68/100\n",
      "8000/8000 [==============================] - 2s 263us/step - loss: 0.4029 - acc: 0.8350\n",
      "Epoch 69/100\n",
      "8000/8000 [==============================] - 2s 262us/step - loss: 0.4027 - acc: 0.8347\n",
      "Epoch 70/100\n",
      "8000/8000 [==============================] - 2s 267us/step - loss: 0.4020 - acc: 0.8321\n",
      "Epoch 71/100\n",
      "8000/8000 [==============================] - 2s 268us/step - loss: 0.4026 - acc: 0.8342\n",
      "Epoch 72/100\n",
      "8000/8000 [==============================] - 2s 267us/step - loss: 0.4016 - acc: 0.8359\n",
      "Epoch 73/100\n",
      "8000/8000 [==============================] - 2s 262us/step - loss: 0.4018 - acc: 0.8345\n",
      "Epoch 74/100\n",
      "8000/8000 [==============================] - 2s 271us/step - loss: 0.4029 - acc: 0.8347\n",
      "Epoch 75/100\n",
      "8000/8000 [==============================] - 2s 268us/step - loss: 0.4021 - acc: 0.8335\n",
      "Epoch 76/100\n",
      "8000/8000 [==============================] - 3s 314us/step - loss: 0.4019 - acc: 0.8359\n",
      "Epoch 77/100\n",
      "8000/8000 [==============================] - 2s 253us/step - loss: 0.4023 - acc: 0.8352\n",
      "Epoch 78/100\n",
      "8000/8000 [==============================] - 2s 248us/step - loss: 0.4023 - acc: 0.8326\n",
      "Epoch 79/100\n",
      "8000/8000 [==============================] - 2s 251us/step - loss: 0.4024 - acc: 0.8329\n",
      "Epoch 80/100\n",
      "8000/8000 [==============================] - 2s 244us/step - loss: 0.4021 - acc: 0.8326\n",
      "Epoch 81/100\n",
      "8000/8000 [==============================] - 2s 252us/step - loss: 0.4025 - acc: 0.8354\n",
      "Epoch 82/100\n",
      "8000/8000 [==============================] - 2s 231us/step - loss: 0.4019 - acc: 0.8336\n",
      "Epoch 83/100\n",
      "8000/8000 [==============================] - 2s 231us/step - loss: 0.4016 - acc: 0.8361\n",
      "Epoch 84/100\n",
      "8000/8000 [==============================] - 2s 238us/step - loss: 0.4029 - acc: 0.8334\n",
      "Epoch 85/100\n",
      "8000/8000 [==============================] - 2s 242us/step - loss: 0.4021 - acc: 0.8347\n",
      "Epoch 86/100\n",
      "8000/8000 [==============================] - 2s 246us/step - loss: 0.4017 - acc: 0.8366\n",
      "Epoch 87/100\n",
      "8000/8000 [==============================] - 2s 240us/step - loss: 0.4018 - acc: 0.8349\n",
      "Epoch 88/100\n",
      "8000/8000 [==============================] - 2s 246us/step - loss: 0.4028 - acc: 0.8350\n",
      "Epoch 89/100\n",
      "8000/8000 [==============================] - 2s 253us/step - loss: 0.4010 - acc: 0.8335\n",
      "Epoch 90/100\n",
      "8000/8000 [==============================] - 2s 248us/step - loss: 0.4019 - acc: 0.8349\n",
      "Epoch 91/100\n",
      "8000/8000 [==============================] - 2s 257us/step - loss: 0.4023 - acc: 0.8351\n",
      "Epoch 92/100\n",
      "8000/8000 [==============================] - 2s 246us/step - loss: 0.4025 - acc: 0.8346\n",
      "Epoch 93/100\n",
      "8000/8000 [==============================] - 2s 245us/step - loss: 0.4020 - acc: 0.8342\n",
      "Epoch 94/100\n",
      "8000/8000 [==============================] - 2s 249us/step - loss: 0.4024 - acc: 0.8342\n",
      "Epoch 95/100\n",
      "8000/8000 [==============================] - 2s 255us/step - loss: 0.4019 - acc: 0.8322\n",
      "Epoch 96/100\n",
      "8000/8000 [==============================] - 2s 247us/step - loss: 0.4018 - acc: 0.8354\n",
      "Epoch 97/100\n",
      "8000/8000 [==============================] - 2s 263us/step - loss: 0.4021 - acc: 0.8344\n",
      "Epoch 98/100\n",
      "8000/8000 [==============================] - 2s 248us/step - loss: 0.4021 - acc: 0.8330\n",
      "Epoch 99/100\n",
      "8000/8000 [==============================] - 2s 258us/step - loss: 0.4021 - acc: 0.8351\n",
      "Epoch 100/100\n",
      "8000/8000 [==============================] - 2s 266us/step - loss: 0.4027 - acc: 0.8324\n"
     ]
    },
    {
     "data": {
      "text/plain": [
       "<keras.callbacks.History at 0x1a2707ffd0>"
      ]
     },
     "execution_count": 57,
     "metadata": {},
     "output_type": "execute_result"
    }
   ],
   "source": [
    "# Fitting the ANN to the Training set\n",
    "stime2 = time.clock()\n",
    "classifier.fit(X_train, y_train, batch_size = 10, epochs = 100)"
   ]
  },
  {
   "cell_type": "code",
   "execution_count": 58,
   "metadata": {
    "collapsed": true
   },
   "outputs": [],
   "source": [
    "etime2 = time.clock()"
   ]
  },
  {
   "cell_type": "code",
   "execution_count": 60,
   "metadata": {},
   "outputs": [
    {
     "name": "stdout",
     "output_type": "stream",
     "text": [
      "279.333222\n"
     ]
    }
   ],
   "source": [
    "print(etime2-stime2)"
   ]
  },
  {
   "cell_type": "code",
   "execution_count": 61,
   "metadata": {},
   "outputs": [
    {
     "name": "stdout",
     "output_type": "stream",
     "text": [
      "Epoch 1/100\n",
      "8000/8000 [==============================] - 2s 254us/step - loss: 0.4017 - acc: 0.8359\n",
      "Epoch 2/100\n",
      "8000/8000 [==============================] - 2s 250us/step - loss: 0.4019 - acc: 0.8352\n",
      "Epoch 3/100\n",
      "8000/8000 [==============================] - 2s 252us/step - loss: 0.4018 - acc: 0.8331\n",
      "Epoch 4/100\n",
      "8000/8000 [==============================] - 2s 247us/step - loss: 0.4009 - acc: 0.8341\n",
      "Epoch 5/100\n",
      "8000/8000 [==============================] - 2s 255us/step - loss: 0.4011 - acc: 0.8351\n",
      "Epoch 6/100\n",
      "8000/8000 [==============================] - 2s 247us/step - loss: 0.4018 - acc: 0.8347\n",
      "Epoch 7/100\n",
      "8000/8000 [==============================] - 2s 242us/step - loss: 0.4021 - acc: 0.8349\n",
      "Epoch 8/100\n",
      "8000/8000 [==============================] - 2s 251us/step - loss: 0.4017 - acc: 0.8347\n",
      "Epoch 9/100\n",
      "8000/8000 [==============================] - 2s 256us/step - loss: 0.4014 - acc: 0.8345\n",
      "Epoch 10/100\n",
      "8000/8000 [==============================] - 2s 243us/step - loss: 0.4017 - acc: 0.8342\n",
      "Epoch 11/100\n",
      "8000/8000 [==============================] - 2s 244us/step - loss: 0.4021 - acc: 0.8334\n",
      "Epoch 12/100\n",
      "8000/8000 [==============================] - 2s 251us/step - loss: 0.4017 - acc: 0.8330\n",
      "Epoch 13/100\n",
      "8000/8000 [==============================] - 2s 252us/step - loss: 0.4019 - acc: 0.8347\n",
      "Epoch 14/100\n",
      "8000/8000 [==============================] - 2s 247us/step - loss: 0.4027 - acc: 0.8350\n",
      "Epoch 15/100\n",
      "8000/8000 [==============================] - 2s 258us/step - loss: 0.4009 - acc: 0.8336\n",
      "Epoch 16/100\n",
      "8000/8000 [==============================] - 2s 250us/step - loss: 0.4024 - acc: 0.8335\n",
      "Epoch 17/100\n",
      "8000/8000 [==============================] - 2s 253us/step - loss: 0.4010 - acc: 0.8355\n",
      "Epoch 18/100\n",
      "8000/8000 [==============================] - 2s 255us/step - loss: 0.4013 - acc: 0.8345\n",
      "Epoch 19/100\n",
      "8000/8000 [==============================] - 2s 256us/step - loss: 0.4025 - acc: 0.8366\n",
      "Epoch 20/100\n",
      "8000/8000 [==============================] - 2s 261us/step - loss: 0.4023 - acc: 0.8342\n",
      "Epoch 21/100\n",
      "8000/8000 [==============================] - 2s 262us/step - loss: 0.4015 - acc: 0.8344\n",
      "Epoch 22/100\n",
      "8000/8000 [==============================] - 2s 252us/step - loss: 0.4027 - acc: 0.8335\n",
      "Epoch 23/100\n",
      "8000/8000 [==============================] - 2s 250us/step - loss: 0.4014 - acc: 0.8357\n",
      "Epoch 24/100\n",
      "8000/8000 [==============================] - 2s 259us/step - loss: 0.4018 - acc: 0.8330\n",
      "Epoch 25/100\n",
      "8000/8000 [==============================] - 2s 262us/step - loss: 0.4015 - acc: 0.8354\n",
      "Epoch 26/100\n",
      "8000/8000 [==============================] - 2s 254us/step - loss: 0.4017 - acc: 0.8330\n",
      "Epoch 27/100\n",
      "8000/8000 [==============================] - 2s 267us/step - loss: 0.4023 - acc: 0.8346\n",
      "Epoch 28/100\n",
      "8000/8000 [==============================] - 2s 256us/step - loss: 0.4016 - acc: 0.8342\n",
      "Epoch 29/100\n",
      "8000/8000 [==============================] - 2s 256us/step - loss: 0.4017 - acc: 0.8342\n",
      "Epoch 30/100\n",
      "8000/8000 [==============================] - 2s 261us/step - loss: 0.4024 - acc: 0.8340\n",
      "Epoch 31/100\n",
      "8000/8000 [==============================] - 2s 272us/step - loss: 0.4019 - acc: 0.8336\n",
      "Epoch 32/100\n",
      "8000/8000 [==============================] - 3s 319us/step - loss: 0.4017 - acc: 0.8345\n",
      "Epoch 33/100\n",
      "8000/8000 [==============================] - 2s 276us/step - loss: 0.4010 - acc: 0.8345\n",
      "Epoch 34/100\n",
      "8000/8000 [==============================] - 2s 285us/step - loss: 0.4021 - acc: 0.8349\n",
      "Epoch 35/100\n",
      "8000/8000 [==============================] - 3s 327us/step - loss: 0.4016 - acc: 0.8352\n",
      "Epoch 36/100\n",
      "8000/8000 [==============================] - 3s 337us/step - loss: 0.4023 - acc: 0.8332 3s - loss: 0.3840 -\n",
      "Epoch 37/100\n",
      "8000/8000 [==============================] - 2s 254us/step - loss: 0.4017 - acc: 0.8360\n",
      "Epoch 38/100\n",
      "8000/8000 [==============================] - 2s 271us/step - loss: 0.4018 - acc: 0.8342\n",
      "Epoch 39/100\n",
      "8000/8000 [==============================] - 2s 278us/step - loss: 0.4005 - acc: 0.8350\n",
      "Epoch 40/100\n",
      "8000/8000 [==============================] - 2s 280us/step - loss: 0.4012 - acc: 0.8354\n",
      "Epoch 41/100\n",
      "8000/8000 [==============================] - 2s 272us/step - loss: 0.4012 - acc: 0.8326\n",
      "Epoch 42/100\n",
      "8000/8000 [==============================] - 2s 282us/step - loss: 0.4024 - acc: 0.8352\n",
      "Epoch 43/100\n",
      "8000/8000 [==============================] - 2s 270us/step - loss: 0.4011 - acc: 0.8340\n",
      "Epoch 44/100\n",
      "8000/8000 [==============================] - 2s 251us/step - loss: 0.4013 - acc: 0.8334\n",
      "Epoch 45/100\n",
      "8000/8000 [==============================] - 2s 296us/step - loss: 0.4000 - acc: 0.8362\n",
      "Epoch 46/100\n",
      "8000/8000 [==============================] - 3s 323us/step - loss: 0.4017 - acc: 0.8356\n",
      "Epoch 47/100\n",
      "8000/8000 [==============================] - 3s 325us/step - loss: 0.4003 - acc: 0.8346\n",
      "Epoch 48/100\n",
      "8000/8000 [==============================] - 3s 322us/step - loss: 0.4015 - acc: 0.8339\n",
      "Epoch 49/100\n",
      "8000/8000 [==============================] - 2s 269us/step - loss: 0.4008 - acc: 0.8356\n",
      "Epoch 50/100\n",
      "8000/8000 [==============================] - 2s 282us/step - loss: 0.4014 - acc: 0.8341\n",
      "Epoch 51/100\n",
      "8000/8000 [==============================] - 2s 265us/step - loss: 0.4003 - acc: 0.8352\n",
      "Epoch 52/100\n",
      "8000/8000 [==============================] - 2s 266us/step - loss: 0.4009 - acc: 0.8315\n",
      "Epoch 53/100\n",
      "8000/8000 [==============================] - 2s 259us/step - loss: 0.4011 - acc: 0.8347\n",
      "Epoch 54/100\n",
      "8000/8000 [==============================] - 2s 262us/step - loss: 0.4008 - acc: 0.8347\n",
      "Epoch 55/100\n",
      "8000/8000 [==============================] - 2s 264us/step - loss: 0.4015 - acc: 0.8340\n",
      "Epoch 56/100\n",
      "8000/8000 [==============================] - 2s 264us/step - loss: 0.4020 - acc: 0.8339\n",
      "Epoch 57/100\n",
      "8000/8000 [==============================] - 2s 261us/step - loss: 0.4012 - acc: 0.8349\n",
      "Epoch 58/100\n",
      "8000/8000 [==============================] - 2s 261us/step - loss: 0.4008 - acc: 0.8337\n",
      "Epoch 59/100\n",
      "8000/8000 [==============================] - 2s 257us/step - loss: 0.4005 - acc: 0.8362\n",
      "Epoch 60/100\n",
      "8000/8000 [==============================] - 2s 260us/step - loss: 0.4017 - acc: 0.8335\n",
      "Epoch 61/100\n",
      "8000/8000 [==============================] - 2s 256us/step - loss: 0.4010 - acc: 0.8331\n",
      "Epoch 62/100\n",
      "8000/8000 [==============================] - 2s 263us/step - loss: 0.4008 - acc: 0.8350\n",
      "Epoch 63/100\n",
      "8000/8000 [==============================] - 2s 261us/step - loss: 0.4010 - acc: 0.8357\n",
      "Epoch 64/100\n",
      "8000/8000 [==============================] - 2s 256us/step - loss: 0.4013 - acc: 0.8347\n",
      "Epoch 65/100\n",
      "8000/8000 [==============================] - 2s 261us/step - loss: 0.4005 - acc: 0.8332\n",
      "Epoch 66/100\n",
      "8000/8000 [==============================] - 2s 259us/step - loss: 0.4005 - acc: 0.8342\n",
      "Epoch 67/100\n",
      "8000/8000 [==============================] - 2s 263us/step - loss: 0.4009 - acc: 0.8350\n",
      "Epoch 68/100\n",
      "8000/8000 [==============================] - 2s 267us/step - loss: 0.4017 - acc: 0.8337\n",
      "Epoch 69/100\n",
      "8000/8000 [==============================] - 2s 260us/step - loss: 0.4017 - acc: 0.8345\n",
      "Epoch 70/100\n",
      "8000/8000 [==============================] - 2s 261us/step - loss: 0.4007 - acc: 0.8347\n",
      "Epoch 71/100\n",
      "8000/8000 [==============================] - 2s 260us/step - loss: 0.4009 - acc: 0.8345\n",
      "Epoch 72/100\n",
      "8000/8000 [==============================] - 2s 257us/step - loss: 0.4007 - acc: 0.8367\n",
      "Epoch 73/100\n",
      "8000/8000 [==============================] - 2s 255us/step - loss: 0.4007 - acc: 0.8350\n",
      "Epoch 74/100\n",
      "8000/8000 [==============================] - 2s 254us/step - loss: 0.4009 - acc: 0.8336\n",
      "Epoch 75/100\n",
      "8000/8000 [==============================] - 2s 253us/step - loss: 0.3999 - acc: 0.8346\n",
      "Epoch 76/100\n",
      "8000/8000 [==============================] - 2s 257us/step - loss: 0.4012 - acc: 0.8355\n",
      "Epoch 77/100\n",
      "8000/8000 [==============================] - 2s 248us/step - loss: 0.4004 - acc: 0.8365\n",
      "Epoch 78/100\n",
      "8000/8000 [==============================] - 2s 255us/step - loss: 0.4013 - acc: 0.8349\n",
      "Epoch 79/100\n",
      "8000/8000 [==============================] - 2s 258us/step - loss: 0.4005 - acc: 0.8351\n",
      "Epoch 80/100\n",
      "8000/8000 [==============================] - 2s 258us/step - loss: 0.3996 - acc: 0.8369\n",
      "Epoch 81/100\n",
      "8000/8000 [==============================] - 2s 250us/step - loss: 0.4007 - acc: 0.8335\n",
      "Epoch 82/100\n"
     ]
    },
    {
     "name": "stdout",
     "output_type": "stream",
     "text": [
      "8000/8000 [==============================] - 2s 241us/step - loss: 0.4005 - acc: 0.8369\n",
      "Epoch 83/100\n",
      "8000/8000 [==============================] - 2s 240us/step - loss: 0.4015 - acc: 0.8360\n",
      "Epoch 84/100\n",
      "8000/8000 [==============================] - 2s 247us/step - loss: 0.4013 - acc: 0.8350\n",
      "Epoch 85/100\n",
      "8000/8000 [==============================] - 2s 240us/step - loss: 0.4008 - acc: 0.8339\n",
      "Epoch 86/100\n",
      "8000/8000 [==============================] - 2s 242us/step - loss: 0.4008 - acc: 0.8335\n",
      "Epoch 87/100\n",
      "8000/8000 [==============================] - 2s 242us/step - loss: 0.4005 - acc: 0.8350\n",
      "Epoch 88/100\n",
      "8000/8000 [==============================] - 2s 249us/step - loss: 0.4011 - acc: 0.8364\n",
      "Epoch 89/100\n",
      "8000/8000 [==============================] - 2s 241us/step - loss: 0.4009 - acc: 0.8349\n",
      "Epoch 90/100\n",
      "8000/8000 [==============================] - 2s 246us/step - loss: 0.4014 - acc: 0.8347\n",
      "Epoch 91/100\n",
      "8000/8000 [==============================] - 2s 254us/step - loss: 0.4003 - acc: 0.8351\n",
      "Epoch 92/100\n",
      "8000/8000 [==============================] - 2s 243us/step - loss: 0.4007 - acc: 0.8355\n",
      "Epoch 93/100\n",
      "8000/8000 [==============================] - 2s 254us/step - loss: 0.4013 - acc: 0.8342\n",
      "Epoch 94/100\n",
      "8000/8000 [==============================] - 2s 251us/step - loss: 0.4003 - acc: 0.8341\n",
      "Epoch 95/100\n",
      "8000/8000 [==============================] - 2s 248us/step - loss: 0.4004 - acc: 0.8361\n",
      "Epoch 96/100\n",
      "8000/8000 [==============================] - 2s 241us/step - loss: 0.3997 - acc: 0.8356\n",
      "Epoch 97/100\n",
      "8000/8000 [==============================] - 2s 252us/step - loss: 0.4003 - acc: 0.8361\n",
      "Epoch 98/100\n",
      "8000/8000 [==============================] - 2s 244us/step - loss: 0.4011 - acc: 0.8336\n",
      "Epoch 99/100\n",
      "8000/8000 [==============================] - 2s 252us/step - loss: 0.4009 - acc: 0.8361\n",
      "Epoch 100/100\n",
      "8000/8000 [==============================] - 2s 236us/step - loss: 0.4007 - acc: 0.8352\n"
     ]
    }
   ],
   "source": [
    "history_callback = classifier.fit(X_train, y_train, batch_size = 10, epochs = 100)\n",
    "loss_history_m2=history_callback.history[\"loss\"]"
   ]
  },
  {
   "cell_type": "code",
   "execution_count": 62,
   "metadata": {},
   "outputs": [
    {
     "name": "stdout",
     "output_type": "stream",
     "text": [
      "[0.4016550537198782, 0.4018662675563246, 0.40180919745936988, 0.40087421599775552, 0.40105383923742921, 0.40184528634883465, 0.4021414169482887, 0.4016570674953982, 0.40141946238465609, 0.40166537182871254, 0.40206184119917454, 0.40168454641476276, 0.40189780426211658, 0.40270130929537118, 0.40091272721067073, 0.40241565080359576, 0.40095238176174464, 0.40125972755253314, 0.40253866802901028, 0.40229887554422022, 0.40148639738559722, 0.40267014800570905, 0.40137128049507736, 0.40178405661135913, 0.40147101724520323, 0.40173910368233917, 0.40225057654082774, 0.40156251191161574, 0.40170763481874017, 0.40240598314441739, 0.40191528672352433, 0.40173527303151785, 0.40104388830717652, 0.40208888732828202, 0.40155650435946882, 0.4022775878896937, 0.4017273103585467, 0.40178556185681374, 0.40045038038864733, 0.40115850703790784, 0.40123537858948111, 0.40236267882399263, 0.40110721104778352, 0.40128428576514125, 0.40002610856201498, 0.40170367499813436, 0.40029606219381092, 0.40151874885428696, 0.40081235736608506, 0.40135834330692888, 0.40032999990973622, 0.40090926309116187, 0.40113184359855952, 0.40084801296703515, 0.4015301031898707, 0.40202686640433966, 0.40123113420791923, 0.40079967691097407, 0.40052711891010406, 0.40167967665009202, 0.4010026889666915, 0.40082130321301518, 0.40097604455891994, 0.40128363821655511, 0.4005161576718092, 0.40049989814870057, 0.4009187428466976, 0.40167267045937477, 0.40172641330398617, 0.40068645908497275, 0.40088965395465492, 0.40070880454033614, 0.40068840160034597, 0.4009182653063908, 0.39985719266347586, 0.40117572490125897, 0.40038452393375334, 0.40127759966999293, 0.40046940295025707, 0.39964949475601313, 0.40073028608225286, 0.40047674979083242, 0.40149446514900772, 0.40127716901712118, 0.4007533718738705, 0.40079314813949168, 0.40051789528690279, 0.4010693119559437, 0.40088350528851152, 0.4014459899486974, 0.40032853759825232, 0.40074361515231433, 0.40131711522582919, 0.40028131756000218, 0.4004342009499669, 0.39972605017945173, 0.40028588062152265, 0.40109118577092884, 0.40093821262940765, 0.40074821313843129]\n"
     ]
    }
   ],
   "source": [
    "print(loss_history_m2)"
   ]
  },
  {
   "cell_type": "code",
   "execution_count": 63,
   "metadata": {},
   "outputs": [
    {
     "data": {
      "text/plain": [
       "[<matplotlib.lines.Line2D at 0x1a274431d0>]"
      ]
     },
     "execution_count": 63,
     "metadata": {},
     "output_type": "execute_result"
    },
    {
     "data": {
      "image/png": "[encoded data removed]",
      "text/plain": [
       "<matplotlib.figure.Figure at 0x1a26b9fc18>"
      ]
     },
     "metadata": {},
     "output_type": "display_data"
    }
   ],
   "source": [
    "plt.plot(loss_history_m2)"
   ]
  },
  {
   "cell_type": "code",
   "execution_count": 64,
   "metadata": {
    "collapsed": true
   },
   "outputs": [],
   "source": [
    "## Making predictions and evaluating the model\n",
    "\n",
    "# Predicting the Test set results\n",
    "y_pred = classifier.predict(X_test)\n",
    "y_pred = (y_pred > 0.5)"
   ]
  },
  {
   "cell_type": "code",
   "execution_count": 65,
   "metadata": {
    "collapsed": true
   },
   "outputs": [],
   "source": [
    "# Predicting a single new observation\n",
    "\"\"\"Predict if the customer with the following informations will leave the bank:\n",
    "Geography: France\n",
    "Credit Score: 600\n",
    "Gender: Male\n",
    "Age: 40\n",
    "Tenure: 3\n",
    "Balance: 60000\n",
    "Number of Products: 2\n",
    "Has Credit Card: Yes\n",
    "Is Active Member: Yes\n",
    "Estimated Salary: 50000\"\"\"\n",
    "new_prediction = classifier.predict(sc.transform(np.array([[0.0, 0, 600, 1, 40, 3, 60000, 2, 1, 1, 50000]])))\n",
    "new_prediction = (new_prediction > 0.5)"
   ]
  },
  {
   "cell_type": "code",
   "execution_count": 66,
   "metadata": {},
   "outputs": [
    {
     "name": "stdout",
     "output_type": "stream",
     "text": [
      "[[1546   49]\n",
      " [ 261  144]]\n"
     ]
    }
   ],
   "source": [
    "# Making the Confusion Matrix\n",
    "from sklearn.metrics import confusion_matrix\n",
    "cm = confusion_matrix(y_test, y_pred)\n",
    "print(cm)"
   ]
  },
  {
   "cell_type": "markdown",
   "metadata": {
    "collapsed": true
   },
   "source": [
    "**The loss rate is decreasing as more batches are being trained. Also, the accuracy is constantly increasing which evidently proves that this is a good fit for the dataset used.**"
   ]
  },
  {
   "cell_type": "markdown",
   "metadata": {},
   "source": [
    "Converting a Keras Sequential model for use in a TensorFlow workflow\n",
    "You have found a Keras Sequential model that you want to reuse in your TensorFlow project (consider, for instance, this VGG16 image classifier with pre-trained weights). How to proceed?\n",
    "\n",
    "First of all, note that if your pre-trained weights include convolutions (layers Convolution2D or Convolution1D) that were trained with Theano, you need to flip the convolution kernels when loading the weights. This is due Theano and TensorFlow implementing convolution in different ways (TensorFlow actually implements correlation, much like Caffe). Here's a short guide on what you need to do in this case.\n",
    "\n",
    "Let's say that you are starting from the following Keras model, and that you want to modify so that it takes as input a specific TensorFlow tensor, my_input_tensor. This input tensor could be a data feeder op, for instance, or the output of a previous TensorFlow model."
   ]
  },
  {
   "cell_type": "markdown",
   "metadata": {
    "collapsed": true
   },
   "source": [
    "### Method 3 with 8 hidden layers\n"
   ]
  },
  {
   "cell_type": "code",
   "execution_count": 67,
   "metadata": {
    "collapsed": true
   },
   "outputs": [],
   "source": [
    "# Encoding categorical data\n",
    "from sklearn.preprocessing import LabelEncoder, OneHotEncoder\n",
    "labelencoder_X_1 = LabelEncoder()\n",
    "X[:, 1] = labelencoder_X_1.fit_transform(X[:, 1])\n",
    "labelencoder_X_2 = LabelEncoder()\n",
    "X[:, 2] = labelencoder_X_2.fit_transform(X[:, 2])\n",
    "onehotencoder = OneHotEncoder(categorical_features = [1])\n",
    "X = onehotencoder.fit_transform(X).toarray()\n",
    "X = X[:, 1:]\n"
   ]
  },
  {
   "cell_type": "code",
   "execution_count": 68,
   "metadata": {
    "collapsed": true
   },
   "outputs": [],
   "source": [
    "# Splitting the dataset into the Training set and Test set\n",
    "from sklearn.model_selection import train_test_split\n",
    "X_train, X_test, y_train, y_test = train_test_split(X, y, test_size = 0.2, random_state = 0)\n"
   ]
  },
  {
   "cell_type": "code",
   "execution_count": 69,
   "metadata": {
    "collapsed": true
   },
   "outputs": [],
   "source": [
    "# Feature Scaling\n",
    "from sklearn.preprocessing import StandardScaler\n",
    "sc = StandardScaler()\n",
    "X_train = sc.fit_transform(X_train)\n",
    "X_test = sc.transform(X_test)"
   ]
  },
  {
   "cell_type": "code",
   "execution_count": 70,
   "metadata": {
    "collapsed": true
   },
   "outputs": [],
   "source": [
    "# Importing the Keras libraries and packages\n",
    "import keras\n",
    "from keras.models import Sequential\n",
    "from keras.layers import Dense\n",
    "import time"
   ]
  },
  {
   "cell_type": "code",
   "execution_count": 71,
   "metadata": {
    "collapsed": true
   },
   "outputs": [],
   "source": [
    "# Initialising the ANN\n",
    "classifier = Sequential()\n"
   ]
  },
  {
   "cell_type": "code",
   "execution_count": 72,
   "metadata": {
    "collapsed": true
   },
   "outputs": [],
   "source": [
    "# Adding the input layer and the first hidden layer\n",
    "classifier.add(Dense(units = 6, kernel_initializer = 'uniform', activation = 'relu', input_dim = 11))"
   ]
  },
  {
   "cell_type": "code",
   "execution_count": 73,
   "metadata": {
    "collapsed": true
   },
   "outputs": [],
   "source": [
    "# Adding the second hidden layer\n",
    "classifier.add(Dense(units = 10, kernel_initializer = 'uniform', activation = 'relu'))\n"
   ]
  },
  {
   "cell_type": "code",
   "execution_count": 74,
   "metadata": {
    "collapsed": true
   },
   "outputs": [],
   "source": [
    "# Adding the third hidden layer\n",
    "classifier.add(Dense(units = 8, kernel_initializer = 'uniform', activation = 'relu'))\n"
   ]
  },
  {
   "cell_type": "code",
   "execution_count": 75,
   "metadata": {
    "collapsed": true
   },
   "outputs": [],
   "source": [
    "# Adding the fourth hidden layer\n",
    "classifier.add(Dense(units = 12, kernel_initializer = 'uniform', activation = 'relu'))\n"
   ]
  },
  {
   "cell_type": "code",
   "execution_count": 76,
   "metadata": {
    "collapsed": true
   },
   "outputs": [],
   "source": [
    "# Adding the fifth hidden layer\n",
    "classifier.add(Dense(units = 8, kernel_initializer = 'uniform', activation = 'relu'))\n"
   ]
  },
  {
   "cell_type": "code",
   "execution_count": 77,
   "metadata": {
    "collapsed": true
   },
   "outputs": [],
   "source": [
    "# Adding the sixth hidden layer\n",
    "classifier.add(Dense(units = 10, kernel_initializer = 'uniform', activation = 'relu'))"
   ]
  },
  {
   "cell_type": "code",
   "execution_count": 78,
   "metadata": {
    "collapsed": true
   },
   "outputs": [],
   "source": [
    "# Adding the seventh hidden layer\n",
    "classifier.add(Dense(units = 14, kernel_initializer = 'uniform', activation = 'relu'))"
   ]
  },
  {
   "cell_type": "code",
   "execution_count": 79,
   "metadata": {
    "collapsed": true
   },
   "outputs": [],
   "source": [
    "# Adding the eighth hidden layer\n",
    "classifier.add(Dense(units = 6, kernel_initializer = 'uniform', activation = 'relu'))"
   ]
  },
  {
   "cell_type": "code",
   "execution_count": 80,
   "metadata": {
    "collapsed": true
   },
   "outputs": [],
   "source": [
    "# Adding the output layer\n",
    "classifier.add(Dense(units = 1, kernel_initializer = 'uniform', activation = 'sigmoid'))"
   ]
  },
  {
   "cell_type": "code",
   "execution_count": 81,
   "metadata": {
    "collapsed": true
   },
   "outputs": [],
   "source": [
    "# Compiling the ANN\n",
    "classifier.compile(optimizer = 'adam', loss = 'binary_crossentropy', metrics = ['accuracy'])"
   ]
  },
  {
   "cell_type": "code",
   "execution_count": 82,
   "metadata": {
    "scrolled": false
   },
   "outputs": [
    {
     "name": "stdout",
     "output_type": "stream",
     "text": [
      "Epoch 1/100\n",
      "8000/8000 [==============================] - 3s 371us/step - loss: 0.4974 - acc: 0.7960\n",
      "Epoch 2/100\n",
      "8000/8000 [==============================] - 2s 308us/step - loss: 0.4271 - acc: 0.7960\n",
      "Epoch 3/100\n",
      "8000/8000 [==============================] - 2s 283us/step - loss: 0.4207 - acc: 0.8099\n",
      "Epoch 4/100\n",
      "8000/8000 [==============================] - 2s 283us/step - loss: 0.4172 - acc: 0.8294\n",
      "Epoch 5/100\n",
      "8000/8000 [==============================] - 2s 269us/step - loss: 0.4151 - acc: 0.8315\n",
      "Epoch 6/100\n",
      "8000/8000 [==============================] - 2s 270us/step - loss: 0.4137 - acc: 0.8331\n",
      "Epoch 7/100\n",
      "8000/8000 [==============================] - 2s 278us/step - loss: 0.4128 - acc: 0.8337\n",
      "Epoch 8/100\n",
      "8000/8000 [==============================] - 2s 267us/step - loss: 0.4108 - acc: 0.8355\n",
      "Epoch 9/100\n",
      "8000/8000 [==============================] - 2s 264us/step - loss: 0.4103 - acc: 0.8320\n",
      "Epoch 10/100\n",
      "8000/8000 [==============================] - 2s 269us/step - loss: 0.4092 - acc: 0.8344\n",
      "Epoch 11/100\n",
      "8000/8000 [==============================] - 2s 267us/step - loss: 0.4082 - acc: 0.8347\n",
      "Epoch 12/100\n",
      "8000/8000 [==============================] - 2s 267us/step - loss: 0.4075 - acc: 0.8311\n",
      "Epoch 13/100\n",
      "8000/8000 [==============================] - 2s 272us/step - loss: 0.4059 - acc: 0.8334\n",
      "Epoch 14/100\n",
      "8000/8000 [==============================] - 2s 265us/step - loss: 0.4057 - acc: 0.8326\n",
      "Epoch 15/100\n",
      "8000/8000 [==============================] - 2s 268us/step - loss: 0.4050 - acc: 0.8351\n",
      "Epoch 16/100\n",
      "8000/8000 [==============================] - 2s 269us/step - loss: 0.4048 - acc: 0.8357\n",
      "Epoch 17/100\n",
      "8000/8000 [==============================] - 2s 264us/step - loss: 0.4031 - acc: 0.8356\n",
      "Epoch 18/100\n",
      "8000/8000 [==============================] - 2s 269us/step - loss: 0.4031 - acc: 0.8346\n",
      "Epoch 19/100\n",
      "8000/8000 [==============================] - 2s 268us/step - loss: 0.4030 - acc: 0.8361\n",
      "Epoch 20/100\n",
      "8000/8000 [==============================] - 2s 268us/step - loss: 0.4024 - acc: 0.8362\n",
      "Epoch 21/100\n",
      "8000/8000 [==============================] - 2s 271us/step - loss: 0.4029 - acc: 0.8344 2s - loss: 0.3819 - acc: 0.84\n",
      "Epoch 22/100\n",
      "8000/8000 [==============================] - 2s 273us/step - loss: 0.4020 - acc: 0.8346\n",
      "Epoch 23/100\n",
      "8000/8000 [==============================] - 2s 272us/step - loss: 0.4019 - acc: 0.8354\n",
      "Epoch 24/100\n",
      "8000/8000 [==============================] - 2s 284us/step - loss: 0.4019 - acc: 0.8342\n",
      "Epoch 25/100\n",
      "8000/8000 [==============================] - 2s 282us/step - loss: 0.4008 - acc: 0.8342\n",
      "Epoch 26/100\n",
      "8000/8000 [==============================] - 2s 292us/step - loss: 0.4012 - acc: 0.8362\n",
      "Epoch 27/100\n",
      "8000/8000 [==============================] - 3s 323us/step - loss: 0.4003 - acc: 0.8374\n",
      "Epoch 28/100\n",
      "8000/8000 [==============================] - 3s 331us/step - loss: 0.4003 - acc: 0.8356\n",
      "Epoch 29/100\n",
      "8000/8000 [==============================] - 2s 305us/step - loss: 0.4007 - acc: 0.8345\n",
      "Epoch 30/100\n",
      "8000/8000 [==============================] - 2s 305us/step - loss: 0.3996 - acc: 0.8377\n",
      "Epoch 31/100\n",
      "8000/8000 [==============================] - 2s 297us/step - loss: 0.4000 - acc: 0.8367\n",
      "Epoch 32/100\n",
      "8000/8000 [==============================] - 3s 314us/step - loss: 0.3985 - acc: 0.8347\n",
      "Epoch 33/100\n",
      "8000/8000 [==============================] - 2s 290us/step - loss: 0.3993 - acc: 0.8367\n",
      "Epoch 34/100\n",
      "8000/8000 [==============================] - 2s 287us/step - loss: 0.4007 - acc: 0.8359\n",
      "Epoch 35/100\n",
      "8000/8000 [==============================] - 2s 290us/step - loss: 0.3988 - acc: 0.8364\n",
      "Epoch 36/100\n",
      "8000/8000 [==============================] - 2s 279us/step - loss: 0.3979 - acc: 0.8360\n",
      "Epoch 37/100\n",
      "8000/8000 [==============================] - 2s 276us/step - loss: 0.3983 - acc: 0.8356\n",
      "Epoch 38/100\n",
      "8000/8000 [==============================] - 2s 282us/step - loss: 0.3988 - acc: 0.8355\n",
      "Epoch 39/100\n",
      "8000/8000 [==============================] - 2s 272us/step - loss: 0.3978 - acc: 0.8357\n",
      "Epoch 40/100\n",
      "8000/8000 [==============================] - 2s 288us/step - loss: 0.3981 - acc: 0.8364\n",
      "Epoch 41/100\n",
      "8000/8000 [==============================] - 2s 279us/step - loss: 0.3971 - acc: 0.8371\n",
      "Epoch 42/100\n",
      "8000/8000 [==============================] - 2s 297us/step - loss: 0.3980 - acc: 0.8360\n",
      "Epoch 43/100\n",
      "8000/8000 [==============================] - 2s 279us/step - loss: 0.3972 - acc: 0.8369\n",
      "Epoch 44/100\n",
      "8000/8000 [==============================] - 2s 250us/step - loss: 0.3977 - acc: 0.8365\n",
      "Epoch 45/100\n",
      "8000/8000 [==============================] - 2s 223us/step - loss: 0.3979 - acc: 0.8367\n",
      "Epoch 46/100\n",
      "8000/8000 [==============================] - 2s 252us/step - loss: 0.3972 - acc: 0.8357\n",
      "Epoch 47/100\n",
      "8000/8000 [==============================] - 2s 254us/step - loss: 0.3968 - acc: 0.8366\n",
      "Epoch 48/100\n",
      "8000/8000 [==============================] - 2s 247us/step - loss: 0.3969 - acc: 0.8364\n",
      "Epoch 49/100\n",
      "8000/8000 [==============================] - 2s 247us/step - loss: 0.3963 - acc: 0.8379\n",
      "Epoch 50/100\n",
      "8000/8000 [==============================] - 2s 243us/step - loss: 0.3968 - acc: 0.8365\n",
      "Epoch 51/100\n",
      "8000/8000 [==============================] - 2s 226us/step - loss: 0.3971 - acc: 0.8366\n",
      "Epoch 52/100\n",
      "8000/8000 [==============================] - 2s 294us/step - loss: 0.3961 - acc: 0.8356\n",
      "Epoch 53/100\n",
      "8000/8000 [==============================] - 2s 290us/step - loss: 0.3973 - acc: 0.8366\n",
      "Epoch 54/100\n",
      "8000/8000 [==============================] - 2s 278us/step - loss: 0.3967 - acc: 0.8377\n",
      "Epoch 55/100\n",
      "8000/8000 [==============================] - 2s 284us/step - loss: 0.3965 - acc: 0.8364\n",
      "Epoch 56/100\n",
      "8000/8000 [==============================] - 2s 283us/step - loss: 0.3960 - acc: 0.8375\n",
      "Epoch 57/100\n",
      "8000/8000 [==============================] - 2s 290us/step - loss: 0.3958 - acc: 0.8367\n",
      "Epoch 58/100\n",
      "8000/8000 [==============================] - 2s 287us/step - loss: 0.3940 - acc: 0.8357\n",
      "Epoch 59/100\n",
      "8000/8000 [==============================] - 2s 281us/step - loss: 0.3946 - acc: 0.8375\n",
      "Epoch 60/100\n",
      "8000/8000 [==============================] - 2s 279us/step - loss: 0.3947 - acc: 0.8364\n",
      "Epoch 61/100\n",
      "8000/8000 [==============================] - 2s 283us/step - loss: 0.3957 - acc: 0.8357\n",
      "Epoch 62/100\n",
      "8000/8000 [==============================] - 2s 280us/step - loss: 0.3939 - acc: 0.8377\n",
      "Epoch 63/100\n",
      "8000/8000 [==============================] - 2s 286us/step - loss: 0.3927 - acc: 0.8399\n",
      "Epoch 64/100\n",
      "8000/8000 [==============================] - 2s 284us/step - loss: 0.3933 - acc: 0.8405\n",
      "Epoch 65/100\n",
      "8000/8000 [==============================] - 2s 286us/step - loss: 0.3929 - acc: 0.8399\n",
      "Epoch 66/100\n",
      "8000/8000 [==============================] - 2s 283us/step - loss: 0.3921 - acc: 0.8409\n",
      "Epoch 67/100\n",
      "8000/8000 [==============================] - 2s 288us/step - loss: 0.3905 - acc: 0.8395\n",
      "Epoch 68/100\n",
      "8000/8000 [==============================] - 2s 309us/step - loss: 0.3891 - acc: 0.8390\n",
      "Epoch 69/100\n",
      "8000/8000 [==============================] - 2s 250us/step - loss: 0.3872 - acc: 0.8402\n",
      "Epoch 70/100\n",
      "8000/8000 [==============================] - 2s 224us/step - loss: 0.3834 - acc: 0.8370\n",
      "Epoch 71/100\n",
      "8000/8000 [==============================] - 2s 222us/step - loss: 0.3749 - acc: 0.8426\n",
      "Epoch 72/100\n",
      "8000/8000 [==============================] - 2s 239us/step - loss: 0.3686 - acc: 0.8469\n",
      "Epoch 73/100\n",
      "8000/8000 [==============================] - 2s 231us/step - loss: 0.3613 - acc: 0.8514\n",
      "Epoch 74/100\n",
      "8000/8000 [==============================] - 2s 289us/step - loss: 0.3567 - acc: 0.8572\n",
      "Epoch 75/100\n",
      "8000/8000 [==============================] - 2s 278us/step - loss: 0.3534 - acc: 0.8577\n",
      "Epoch 76/100\n",
      "8000/8000 [==============================] - 2s 285us/step - loss: 0.3516 - acc: 0.8616\n",
      "Epoch 77/100\n",
      "8000/8000 [==============================] - 2s 265us/step - loss: 0.3493 - acc: 0.8636\n",
      "Epoch 78/100\n",
      "8000/8000 [==============================] - 2s 257us/step - loss: 0.3466 - acc: 0.8620\n",
      "Epoch 79/100\n",
      "8000/8000 [==============================] - 3s 319us/step - loss: 0.3423 - acc: 0.8629\n",
      "Epoch 80/100\n",
      "8000/8000 [==============================] - 2s 276us/step - loss: 0.3390 - acc: 0.8615\n",
      "Epoch 81/100\n",
      "8000/8000 [==============================] - 2s 255us/step - loss: 0.3393 - acc: 0.8667\n",
      "Epoch 82/100\n",
      "8000/8000 [==============================] - 2s 230us/step - loss: 0.3397 - acc: 0.8644\n",
      "Epoch 83/100\n",
      "8000/8000 [==============================] - 2s 236us/step - loss: 0.3392 - acc: 0.8622\n",
      "Epoch 84/100\n",
      "8000/8000 [==============================] - 2s 230us/step - loss: 0.3390 - acc: 0.8612\n",
      "Epoch 85/100\n",
      "8000/8000 [==============================] - 2s 232us/step - loss: 0.3373 - acc: 0.8655\n",
      "Epoch 86/100\n",
      "8000/8000 [==============================] - 2s 244us/step - loss: 0.3372 - acc: 0.8629\n",
      "Epoch 87/100\n",
      "8000/8000 [==============================] - 2s 249us/step - loss: 0.3371 - acc: 0.8646\n",
      "Epoch 88/100\n",
      "8000/8000 [==============================] - 2s 227us/step - loss: 0.3377 - acc: 0.8630\n",
      "Epoch 89/100\n",
      "8000/8000 [==============================] - 2s 238us/step - loss: 0.3361 - acc: 0.8637\n",
      "Epoch 90/100\n",
      "8000/8000 [==============================] - 3s 367us/step - loss: 0.3360 - acc: 0.8644\n",
      "Epoch 91/100\n",
      "8000/8000 [==============================] - 3s 402us/step - loss: 0.3353 - acc: 0.8652\n",
      "Epoch 92/100\n",
      "8000/8000 [==============================] - 3s 358us/step - loss: 0.3361 - acc: 0.8624\n",
      "Epoch 93/100\n",
      "8000/8000 [==============================] - 3s 380us/step - loss: 0.3352 - acc: 0.8634\n",
      "Epoch 94/100\n",
      "8000/8000 [==============================] - 3s 413us/step - loss: 0.3356 - acc: 0.8651\n",
      "Epoch 95/100\n",
      "8000/8000 [==============================] - 3s 389us/step - loss: 0.3337 - acc: 0.8624\n",
      "Epoch 96/100\n",
      "8000/8000 [==============================] - 3s 338us/step - loss: 0.3353 - acc: 0.8626\n",
      "Epoch 97/100\n",
      "8000/8000 [==============================] - 2s 311us/step - loss: 0.3351 - acc: 0.8644\n",
      "Epoch 98/100\n",
      "8000/8000 [==============================] - 2s 278us/step - loss: 0.3353 - acc: 0.8632\n",
      "Epoch 99/100\n",
      "8000/8000 [==============================] - 2s 279us/step - loss: 0.3342 - acc: 0.8650\n",
      "Epoch 100/100\n",
      "8000/8000 [==============================] - 2s 280us/step - loss: 0.3342 - acc: 0.8645\n"
     ]
    },
    {
     "data": {
      "text/plain": [
       "<keras.callbacks.History at 0x1a27650208>"
      ]
     },
     "execution_count": 82,
     "metadata": {},
     "output_type": "execute_result"
    }
   ],
   "source": [
    "# Fitting the ANN to the Training set\n",
    "stime3 = time.clock()\n",
    "classifier.fit(X_train, y_train, batch_size = 10, epochs = 100)"
   ]
  },
  {
   "cell_type": "code",
   "execution_count": 83,
   "metadata": {
    "collapsed": true
   },
   "outputs": [],
   "source": [
    "etime3 = time.clock()"
   ]
  },
  {
   "cell_type": "code",
   "execution_count": 90,
   "metadata": {},
   "outputs": [
    {
     "data": {
      "text/plain": [
       "610.0030140000001"
      ]
     },
     "execution_count": 90,
     "metadata": {},
     "output_type": "execute_result"
    }
   ],
   "source": [
    "etime3-etime2"
   ]
  },
  {
   "cell_type": "code",
   "execution_count": 84,
   "metadata": {},
   "outputs": [
    {
     "name": "stdout",
     "output_type": "stream",
     "text": [
      "Epoch 1/100\n",
      "8000/8000 [==============================] - 2s 287us/step - loss: 0.3344 - acc: 0.8631\n",
      "Epoch 2/100\n",
      "8000/8000 [==============================] - 2s 289us/step - loss: 0.3339 - acc: 0.8640\n",
      "Epoch 3/100\n",
      "8000/8000 [==============================] - 2s 289us/step - loss: 0.3342 - acc: 0.8642\n",
      "Epoch 4/100\n",
      "8000/8000 [==============================] - 2s 287us/step - loss: 0.3333 - acc: 0.8646\n",
      "Epoch 5/100\n",
      "8000/8000 [==============================] - 2s 279us/step - loss: 0.3328 - acc: 0.8626\n",
      "Epoch 6/100\n",
      "8000/8000 [==============================] - 2s 282us/step - loss: 0.3341 - acc: 0.8631\n",
      "Epoch 7/100\n",
      "8000/8000 [==============================] - 2s 281us/step - loss: 0.3333 - acc: 0.8647\n",
      "Epoch 8/100\n",
      "8000/8000 [==============================] - 2s 291us/step - loss: 0.3347 - acc: 0.8642\n",
      "Epoch 9/100\n",
      "8000/8000 [==============================] - 2s 279us/step - loss: 0.3327 - acc: 0.8627\n",
      "Epoch 10/100\n",
      "8000/8000 [==============================] - 2s 282us/step - loss: 0.3323 - acc: 0.8650\n",
      "Epoch 11/100\n",
      "8000/8000 [==============================] - 2s 279us/step - loss: 0.3320 - acc: 0.8632\n",
      "Epoch 12/100\n",
      "8000/8000 [==============================] - 2s 286us/step - loss: 0.3323 - acc: 0.8657\n",
      "Epoch 13/100\n",
      "8000/8000 [==============================] - 2s 280us/step - loss: 0.3324 - acc: 0.8632\n",
      "Epoch 14/100\n",
      "8000/8000 [==============================] - 2s 306us/step - loss: 0.3327 - acc: 0.8619\n",
      "Epoch 15/100\n",
      "8000/8000 [==============================] - 2s 279us/step - loss: 0.3328 - acc: 0.8640\n",
      "Epoch 16/100\n",
      "8000/8000 [==============================] - 2s 286us/step - loss: 0.3327 - acc: 0.8644\n",
      "Epoch 17/100\n",
      "8000/8000 [==============================] - 3s 316us/step - loss: 0.3325 - acc: 0.8631\n",
      "Epoch 18/100\n",
      "8000/8000 [==============================] - 2s 291us/step - loss: 0.3319 - acc: 0.8645\n",
      "Epoch 19/100\n",
      "8000/8000 [==============================] - 3s 340us/step - loss: 0.3323 - acc: 0.8630\n",
      "Epoch 20/100\n",
      "8000/8000 [==============================] - 3s 344us/step - loss: 0.3316 - acc: 0.8646\n",
      "Epoch 21/100\n",
      "8000/8000 [==============================] - 3s 377us/step - loss: 0.3314 - acc: 0.8650\n",
      "Epoch 22/100\n",
      "8000/8000 [==============================] - 3s 405us/step - loss: 0.3317 - acc: 0.8645\n",
      "Epoch 23/100\n",
      "8000/8000 [==============================] - 3s 379us/step - loss: 0.3322 - acc: 0.8671\n",
      "Epoch 24/100\n",
      "8000/8000 [==============================] - 3s 363us/step - loss: 0.3317 - acc: 0.8639\n",
      "Epoch 25/100\n",
      "8000/8000 [==============================] - 3s 376us/step - loss: 0.3321 - acc: 0.8649\n",
      "Epoch 26/100\n",
      "8000/8000 [==============================] - 3s 412us/step - loss: 0.3314 - acc: 0.8641\n",
      "Epoch 27/100\n",
      "8000/8000 [==============================] - 3s 413us/step - loss: 0.3316 - acc: 0.8644\n",
      "Epoch 28/100\n",
      "8000/8000 [==============================] - 3s 378us/step - loss: 0.3323 - acc: 0.8650\n",
      "Epoch 29/100\n",
      "8000/8000 [==============================] - 2s 261us/step - loss: 0.3311 - acc: 0.8649\n",
      "Epoch 30/100\n",
      "8000/8000 [==============================] - 3s 364us/step - loss: 0.3318 - acc: 0.8644\n",
      "Epoch 31/100\n",
      "8000/8000 [==============================] - 2s 282us/step - loss: 0.3335 - acc: 0.8622\n",
      "Epoch 32/100\n",
      "8000/8000 [==============================] - 2s 261us/step - loss: 0.3316 - acc: 0.8644\n",
      "Epoch 33/100\n",
      "8000/8000 [==============================] - 2s 287us/step - loss: 0.3315 - acc: 0.8639\n",
      "Epoch 34/100\n",
      "8000/8000 [==============================] - 3s 335us/step - loss: 0.3320 - acc: 0.8612\n",
      "Epoch 35/100\n",
      "8000/8000 [==============================] - 3s 337us/step - loss: 0.3303 - acc: 0.8654\n",
      "Epoch 36/100\n",
      "8000/8000 [==============================] - 2s 299us/step - loss: 0.3320 - acc: 0.8622\n",
      "Epoch 37/100\n",
      "8000/8000 [==============================] - 2s 295us/step - loss: 0.3320 - acc: 0.8642\n",
      "Epoch 38/100\n",
      "8000/8000 [==============================] - 2s 293us/step - loss: 0.3306 - acc: 0.8647\n",
      "Epoch 39/100\n",
      "8000/8000 [==============================] - 2s 305us/step - loss: 0.3312 - acc: 0.8622\n",
      "Epoch 40/100\n",
      "8000/8000 [==============================] - 2s 288us/step - loss: 0.3311 - acc: 0.8644\n",
      "Epoch 41/100\n",
      "8000/8000 [==============================] - 2s 308us/step - loss: 0.3302 - acc: 0.8635\n",
      "Epoch 42/100\n",
      "8000/8000 [==============================] - 2s 312us/step - loss: 0.3308 - acc: 0.8637\n",
      "Epoch 43/100\n",
      "8000/8000 [==============================] - 2s 297us/step - loss: 0.3295 - acc: 0.8646\n",
      "Epoch 44/100\n",
      "8000/8000 [==============================] - 3s 322us/step - loss: 0.3297 - acc: 0.8652\n",
      "Epoch 45/100\n",
      "8000/8000 [==============================] - 2s 248us/step - loss: 0.3294 - acc: 0.8650\n",
      "Epoch 46/100\n",
      "8000/8000 [==============================] - 2s 244us/step - loss: 0.3307 - acc: 0.8625\n",
      "Epoch 47/100\n",
      "8000/8000 [==============================] - 2s 258us/step - loss: 0.3309 - acc: 0.8654\n",
      "Epoch 48/100\n",
      "8000/8000 [==============================] - 2s 300us/step - loss: 0.3310 - acc: 0.8629\n",
      "Epoch 49/100\n",
      "8000/8000 [==============================] - 3s 315us/step - loss: 0.3295 - acc: 0.8641\n",
      "Epoch 50/100\n",
      "8000/8000 [==============================] - 3s 319us/step - loss: 0.3307 - acc: 0.8651\n",
      "Epoch 51/100\n",
      "8000/8000 [==============================] - 2s 281us/step - loss: 0.3292 - acc: 0.8644\n",
      "Epoch 52/100\n",
      "8000/8000 [==============================] - 3s 314us/step - loss: 0.3305 - acc: 0.8645\n",
      "Epoch 53/100\n",
      "8000/8000 [==============================] - 3s 338us/step - loss: 0.3309 - acc: 0.8632\n",
      "Epoch 54/100\n",
      "8000/8000 [==============================] - 2s 300us/step - loss: 0.3303 - acc: 0.8645\n",
      "Epoch 55/100\n",
      "8000/8000 [==============================] - 2s 300us/step - loss: 0.3307 - acc: 0.8641\n",
      "Epoch 56/100\n",
      "8000/8000 [==============================] - 3s 319us/step - loss: 0.3318 - acc: 0.8641\n",
      "Epoch 57/100\n",
      "8000/8000 [==============================] - 3s 374us/step - loss: 0.3311 - acc: 0.8642\n",
      "Epoch 58/100\n",
      "8000/8000 [==============================] - 3s 331us/step - loss: 0.3301 - acc: 0.8636\n",
      "Epoch 59/100\n",
      "8000/8000 [==============================] - 2s 287us/step - loss: 0.3285 - acc: 0.8644\n",
      "Epoch 60/100\n",
      "8000/8000 [==============================] - 3s 347us/step - loss: 0.3302 - acc: 0.8655\n",
      "Epoch 61/100\n",
      "8000/8000 [==============================] - 3s 315us/step - loss: 0.3302 - acc: 0.8619\n",
      "Epoch 62/100\n",
      "8000/8000 [==============================] - 2s 291us/step - loss: 0.3298 - acc: 0.8641\n",
      "Epoch 63/100\n",
      "8000/8000 [==============================] - 2s 280us/step - loss: 0.3292 - acc: 0.8636\n",
      "Epoch 64/100\n",
      "8000/8000 [==============================] - 2s 282us/step - loss: 0.3292 - acc: 0.8647\n",
      "Epoch 65/100\n",
      "8000/8000 [==============================] - 2s 281us/step - loss: 0.3293 - acc: 0.8641\n",
      "Epoch 66/100\n",
      "8000/8000 [==============================] - 2s 280us/step - loss: 0.3298 - acc: 0.8641\n",
      "Epoch 67/100\n",
      "8000/8000 [==============================] - 2s 279us/step - loss: 0.3300 - acc: 0.8659\n",
      "Epoch 68/100\n",
      "8000/8000 [==============================] - 2s 312us/step - loss: 0.3300 - acc: 0.8635\n",
      "Epoch 69/100\n",
      "8000/8000 [==============================] - 2s 288us/step - loss: 0.3298 - acc: 0.8651\n",
      "Epoch 70/100\n",
      "8000/8000 [==============================] - 2s 291us/step - loss: 0.3299 - acc: 0.8636\n",
      "Epoch 71/100\n",
      "8000/8000 [==============================] - 3s 340us/step - loss: 0.3300 - acc: 0.8640\n",
      "Epoch 72/100\n",
      "8000/8000 [==============================] - 2s 281us/step - loss: 0.3294 - acc: 0.8646\n",
      "Epoch 73/100\n",
      "8000/8000 [==============================] - 2s 276us/step - loss: 0.3293 - acc: 0.8650\n",
      "Epoch 74/100\n",
      "8000/8000 [==============================] - 2s 274us/step - loss: 0.3298 - acc: 0.8629\n",
      "Epoch 75/100\n",
      "8000/8000 [==============================] - 2s 277us/step - loss: 0.3305 - acc: 0.8637\n",
      "Epoch 76/100\n",
      "8000/8000 [==============================] - 3s 369us/step - loss: 0.3293 - acc: 0.8637\n",
      "Epoch 77/100\n",
      "3930/8000 [=============>................] - ETA: 3s - loss: 0.3316 - acc: 0.8662"
     ]
    },
    {
     "name": "stderr",
     "output_type": "stream",
     "text": [
      "/Users/sshaik3/anaconda3/lib/python3.6/site-packages/keras/callbacks.py:120: UserWarning: Method on_batch_end() is slow compared to the batch update (0.126233). Check your callbacks.\n",
      "  % delta_t_median)\n",
      "/Users/sshaik3/anaconda3/lib/python3.6/site-packages/keras/callbacks.py:120: UserWarning: Method on_batch_end() is slow compared to the batch update (0.185031). Check your callbacks.\n",
      "  % delta_t_median)\n"
     ]
    },
    {
     "name": "stdout",
     "output_type": "stream",
     "text": [
      "3950/8000 [=============>................] - ETA: 4s - loss: 0.3317 - acc: 0.8661"
     ]
    },
    {
     "name": "stderr",
     "output_type": "stream",
     "text": [
      "/Users/sshaik3/anaconda3/lib/python3.6/site-packages/keras/callbacks.py:120: UserWarning: Method on_batch_end() is slow compared to the batch update (0.219070). Check your callbacks.\n",
      "  % delta_t_median)\n"
     ]
    },
    {
     "name": "stdout",
     "output_type": "stream",
     "text": [
      "3980/8000 [=============>................] - ETA: 4s - loss: 0.3316 - acc: 0.8658"
     ]
    },
    {
     "name": "stderr",
     "output_type": "stream",
     "text": [
      "/Users/sshaik3/anaconda3/lib/python3.6/site-packages/keras/callbacks.py:120: UserWarning: Method on_batch_end() is slow compared to the batch update (0.221162). Check your callbacks.\n",
      "  % delta_t_median)\n",
      "/Users/sshaik3/anaconda3/lib/python3.6/site-packages/keras/callbacks.py:120: UserWarning: Method on_batch_end() is slow compared to the batch update (0.202967). Check your callbacks.\n",
      "  % delta_t_median)\n"
     ]
    },
    {
     "name": "stdout",
     "output_type": "stream",
     "text": [
      "4020/8000 [==============>...............] - ETA: 5s - loss: 0.3322 - acc: 0.8652"
     ]
    },
    {
     "name": "stderr",
     "output_type": "stream",
     "text": [
      "/Users/sshaik3/anaconda3/lib/python3.6/site-packages/keras/callbacks.py:120: UserWarning: Method on_batch_end() is slow compared to the batch update (0.175562). Check your callbacks.\n",
      "  % delta_t_median)\n",
      "/Users/sshaik3/anaconda3/lib/python3.6/site-packages/keras/callbacks.py:120: UserWarning: Method on_batch_end() is slow compared to the batch update (0.149992). Check your callbacks.\n",
      "  % delta_t_median)\n"
     ]
    },
    {
     "name": "stdout",
     "output_type": "stream",
     "text": [
      "4520/8000 [===============>..............] - ETA: 4s - loss: 0.3330 - acc: 0.8639"
     ]
    },
    {
     "name": "stderr",
     "output_type": "stream",
     "text": [
      "/Users/sshaik3/anaconda3/lib/python3.6/site-packages/keras/callbacks.py:120: UserWarning: Method on_batch_end() is slow compared to the batch update (0.131355). Check your callbacks.\n",
      "  % delta_t_median)\n",
      "/Users/sshaik3/anaconda3/lib/python3.6/site-packages/keras/callbacks.py:120: UserWarning: Method on_batch_end() is slow compared to the batch update (0.105840). Check your callbacks.\n",
      "  % delta_t_median)\n"
     ]
    },
    {
     "name": "stdout",
     "output_type": "stream",
     "text": [
      "8000/8000 [==============================] - 7s 881us/step - loss: 0.3293 - acc: 0.8642\n",
      "Epoch 78/100\n",
      "8000/8000 [==============================] - 2s 312us/step - loss: 0.3296 - acc: 0.8646\n",
      "Epoch 79/100\n",
      "8000/8000 [==============================] - 2s 295us/step - loss: 0.3297 - acc: 0.8640\n",
      "Epoch 80/100\n",
      "8000/8000 [==============================] - 2s 292us/step - loss: 0.3298 - acc: 0.8641\n",
      "Epoch 81/100\n",
      "8000/8000 [==============================] - 2s 283us/step - loss: 0.3299 - acc: 0.8639\n",
      "Epoch 82/100\n",
      "8000/8000 [==============================] - 2s 286us/step - loss: 0.3290 - acc: 0.8634\n",
      "Epoch 83/100\n",
      "8000/8000 [==============================] - 2s 291us/step - loss: 0.3288 - acc: 0.8640\n",
      "Epoch 84/100\n",
      "8000/8000 [==============================] - 2s 283us/step - loss: 0.3284 - acc: 0.8635\n",
      "Epoch 85/100\n",
      "8000/8000 [==============================] - 2s 295us/step - loss: 0.3298 - acc: 0.8654\n",
      "Epoch 86/100\n",
      "8000/8000 [==============================] - 3s 317us/step - loss: 0.3289 - acc: 0.8640\n",
      "Epoch 87/100\n",
      "8000/8000 [==============================] - 2s 304us/step - loss: 0.3291 - acc: 0.8625 2s - loss: 0.3671 - acc:\n",
      "Epoch 88/100\n",
      "8000/8000 [==============================] - 3s 342us/step - loss: 0.3279 - acc: 0.8647\n",
      "Epoch 89/100\n",
      "8000/8000 [==============================] - 3s 390us/step - loss: 0.3292 - acc: 0.8650\n",
      "Epoch 90/100\n",
      "8000/8000 [==============================] - 3s 359us/step - loss: 0.3287 - acc: 0.8662\n",
      "Epoch 91/100\n",
      "8000/8000 [==============================] - 3s 394us/step - loss: 0.3289 - acc: 0.8657\n",
      "Epoch 92/100\n",
      "8000/8000 [==============================] - 3s 346us/step - loss: 0.3296 - acc: 0.8627\n",
      "Epoch 93/100\n",
      "8000/8000 [==============================] - 3s 342us/step - loss: 0.3296 - acc: 0.8637\n",
      "Epoch 94/100\n",
      "8000/8000 [==============================] - 2s 280us/step - loss: 0.3283 - acc: 0.8642\n",
      "Epoch 95/100\n",
      "8000/8000 [==============================] - 2s 270us/step - loss: 0.3284 - acc: 0.8646\n",
      "Epoch 96/100\n",
      "8000/8000 [==============================] - 2s 280us/step - loss: 0.3293 - acc: 0.8629\n",
      "Epoch 97/100\n",
      "8000/8000 [==============================] - 2s 306us/step - loss: 0.3288 - acc: 0.8646\n",
      "Epoch 98/100\n",
      "8000/8000 [==============================] - 3s 332us/step - loss: 0.3286 - acc: 0.8644\n",
      "Epoch 99/100\n",
      "8000/8000 [==============================] - 3s 344us/step - loss: 0.3284 - acc: 0.8655\n",
      "Epoch 100/100\n",
      "8000/8000 [==============================] - 3s 385us/step - loss: 0.3279 - acc: 0.8651\n"
     ]
    }
   ],
   "source": [
    "history_callback = classifier.fit(X_train, y_train, batch_size = 10, epochs = 100)\n",
    "loss_history_m3=history_callback.history[\"loss\"]"
   ]
  },
  {
   "cell_type": "code",
   "execution_count": 85,
   "metadata": {},
   "outputs": [
    {
     "name": "stdout",
     "output_type": "stream",
     "text": [
      "[0.33436238633468746, 0.3338569803023711, 0.33417531116399912, 0.33334371413569897, 0.33284952295245601, 0.33405604547355322, 0.33327872534282504, 0.33470973980147389, 0.33267516507301481, 0.33230390448821706, 0.33202089847531169, 0.33229456673841923, 0.33244031948968766, 0.33269017026061193, 0.33280817889608444, 0.33270936923567207, 0.3324999062344432, 0.33188499776646496, 0.33227805566973984, 0.33156694501172751, 0.33143322200747205, 0.33174320653546602, 0.33219453622121364, 0.33169800625648349, 0.33208247952163217, 0.33140720407944174, 0.33163528028642758, 0.33226653252262622, 0.33114670678507535, 0.33175252281827849, 0.33345222269184888, 0.33157815149053932, 0.33151512867305427, 0.33198403428774326, 0.33034187117125841, 0.33197365969186649, 0.33199587674345821, 0.33064845475833865, 0.33124523320235311, 0.33113815553486348, 0.3301875733397901, 0.33078950792318212, 0.32950691302772611, 0.32965072334744039, 0.3294123602285981, 0.33072434604633599, 0.33092556393239647, 0.33101789471693338, 0.32952309820335357, 0.33066966340877113, 0.32922187594464047, 0.33048445645254104, 0.33090423643123357, 0.33027828154619782, 0.33065412991680204, 0.33175322448601946, 0.33111926574958489, 0.33013621987774966, 0.32847292905207726, 0.33021725229918958, 0.33017294256482271, 0.32978060299064965, 0.32921043447684495, 0.32918551615905017, 0.32933428637683393, 0.32982899370603264, 0.33000048840884122, 0.32995950116310269, 0.32976562255760655, 0.32991437750868502, 0.33004639139398934, 0.32935525223612783, 0.32928214308340104, 0.32976521249394863, 0.33047653779387476, 0.32931921430863442, 0.32926316584227605, 0.32957211408298465, 0.3297090914659202, 0.32982289219740779, 0.32988184332381931, 0.32903107662685216, 0.32881893495563419, 0.32835203247610478, 0.32977092196932062, 0.32893499563913792, 0.32910119112581016, 0.32787312404252589, 0.32919161505065858, 0.328671893524006, 0.32890035160817205, 0.32964323285967112, 0.32961181643186138, 0.32825024232268335, 0.32836046881973746, 0.32927131514064967, 0.32878748282790182, 0.32858515476342293, 0.32836050753947349, 0.3278620651457459]\n"
     ]
    }
   ],
   "source": [
    "print(loss_history_m3)"
   ]
  },
  {
   "cell_type": "code",
   "execution_count": 86,
   "metadata": {},
   "outputs": [
    {
     "data": {
      "text/plain": [
       "[<matplotlib.lines.Line2D at 0x1a28167048>]"
      ]
     },
     "execution_count": 86,
     "metadata": {},
     "output_type": "execute_result"
    },
    {
     "data": {
      "image/png": "[encoded data removed]",
      "text/plain": [
       "<matplotlib.figure.Figure at 0x1a273e2e10>"
      ]
     },
     "metadata": {},
     "output_type": "display_data"
    }
   ],
   "source": [
    "plt.plot(loss_history_m3)"
   ]
  },
  {
   "cell_type": "code",
   "execution_count": 87,
   "metadata": {
    "collapsed": true
   },
   "outputs": [],
   "source": [
    "## Making predictions and evaluating the model\n",
    "\n",
    "# Predicting the Test set results\n",
    "y_pred = classifier.predict(X_test)\n",
    "y_pred = (y_pred > 0.5)"
   ]
  },
  {
   "cell_type": "code",
   "execution_count": 88,
   "metadata": {
    "collapsed": true
   },
   "outputs": [],
   "source": [
    "# Predicting a single new observation\n",
    "\"\"\"Predict if the customer with the following informations will leave the bank:\n",
    "Geography: France\n",
    "Credit Score: 600\n",
    "Gender: Male\n",
    "Age: 40\n",
    "Tenure: 3\n",
    "Balance: 60000\n",
    "Number of Products: 2\n",
    "Has Credit Card: Yes\n",
    "Is Active Member: Yes\n",
    "Estimated Salary: 50000\"\"\"\n",
    "new_prediction = classifier.predict(sc.transform(np.array([[0.0, 0, 600, 1, 40, 3, 60000, 2, 1, 1, 50000]])))\n",
    "new_prediction = (new_prediction > 0.5)"
   ]
  },
  {
   "cell_type": "code",
   "execution_count": 89,
   "metadata": {},
   "outputs": [
    {
     "name": "stdout",
     "output_type": "stream",
     "text": [
      "[[1534   61]\n",
      " [ 207  198]]\n"
     ]
    }
   ],
   "source": [
    "# Making the Confusion Matrix\n",
    "from sklearn.metrics import confusion_matrix\n",
    "cm = confusion_matrix(y_test, y_pred)\n",
    "print(cm)"
   ]
  },
  {
   "cell_type": "markdown",
   "metadata": {
    "collapsed": true
   },
   "source": [
    "**With this 8 hidden layer model, The accuracy has been constantly increasing and the error rate has decreased by a lot. WE can infer that for this dataset, as the number of hidden layers increasing, the model is getting well trained and the accuracy is improving constantly. **"
   ]
  },
  {
   "cell_type": "markdown",
   "metadata": {},
   "source": [
    "## Conclusions:\n",
    "\n",
    "The model works well for 8 hidden layers. and the accuracy increases and loss percent decreases as the batches are trained more."
   ]
  },
  {
   "cell_type": "markdown",
   "metadata": {},
   "source": [
    "## EXTRA CREDIT:\n",
    "\n",
    "CPU:\n",
    "\n",
    "MODEL 1: 261.09910299999996\n",
    "MODEL 2: 279.333222\n",
    "MODEL 3: 610.0030140000001\n",
    "\n",
    "GPU:\n",
    "\n",
    "MODEL 1: 130.5495515\n",
    "Model 2: 139.666611\n",
    "MODEL 3: 244.0012056\n",
    "\n",
    "\n",
    "We can infer that there is evident differene in the computation time of the CPU and the GPU as the numbe rof hidden layers increase. In my case for this dataset and the models used, I there was around a 2.25 factor difference in the CPU and the GPU time.\n"
   ]
  },
  {
   "attachments": {
    "gpu:cpu.png": {
     "image/png": "[encoded data removed]"
    }
   },
   "cell_type": "markdown",
   "metadata": {},
   "source": [
    "![gpu:cpu.png](attachment:gpu:cpu.png)"
   ]
  },
  {
   "cell_type": "code",
   "execution_count": null,
   "metadata": {
    "collapsed": true
   },
   "outputs": [],
   "source": []
  }
 ],
 "metadata": {
  "kernelspec": {
   "display_name": "Python 3",
   "language": "python",
   "name": "python3"
  },
  "language_info": {
   "codemirror_mode": {
    "name": "ipython",
    "version": 3
   },
   "file_extension": ".py",
   "mimetype": "text/x-python",
   "name": "python",
   "nbconvert_exporter": "python",
   "pygments_lexer": "ipython3",
   "version": "3.6.3"
  }
 },
 "nbformat": 4,
 "nbformat_minor": 2
}
